{
 "cells": [
  {
   "cell_type": "code",
   "execution_count": 43,
   "id": "6570541a",
   "metadata": {},
   "outputs": [],
   "source": [
    "from pyspark.sql import SparkSession\n",
    "from pyspark.sql import functions as func"
   ]
  },
  {
   "cell_type": "code",
   "execution_count": 28,
   "id": "040f913b",
   "metadata": {},
   "outputs": [],
   "source": [
    "spk = SparkSession.builder.appName('Playground').getOrCreate()"
   ]
  },
  {
   "cell_type": "code",
   "execution_count": 29,
   "id": "e404ac9b",
   "metadata": {},
   "outputs": [
    {
     "data": {
      "text/html": [
       "\n",
       "            <div>\n",
       "                <p><b>SparkSession - in-memory</b></p>\n",
       "                \n",
       "        <div>\n",
       "            <p><b>SparkContext</b></p>\n",
       "\n",
       "            <p><a href=\"http://169.254.136.9:4041\">Spark UI</a></p>\n",
       "\n",
       "            <dl>\n",
       "              <dt>Version</dt>\n",
       "                <dd><code>v3.1.2</code></dd>\n",
       "              <dt>Master</dt>\n",
       "                <dd><code>local[*]</code></dd>\n",
       "              <dt>AppName</dt>\n",
       "                <dd><code>Playground</code></dd>\n",
       "            </dl>\n",
       "        </div>\n",
       "        \n",
       "            </div>\n",
       "        "
      ],
      "text/plain": [
       "<pyspark.sql.session.SparkSession at 0x7fd1a4a55290>"
      ]
     },
     "execution_count": 29,
     "metadata": {},
     "output_type": "execute_result"
    }
   ],
   "source": [
    "spk"
   ]
  },
  {
   "cell_type": "code",
   "execution_count": 30,
   "id": "774585d6",
   "metadata": {},
   "outputs": [],
   "source": [
    "# Read the parquet dataset\n",
    "df = spk.read.parquet('/Users/oliver/Downloads/MAST30034_Python-main/data/tlc_data')"
   ]
  },
  {
   "cell_type": "code",
   "execution_count": 31,
   "id": "ebe02cd9",
   "metadata": {},
   "outputs": [
    {
     "name": "stdout",
     "output_type": "stream",
     "text": [
      "root\n",
      " |-- VendorID: long (nullable = true)\n",
      " |-- tpep_pickup_datetime: timestamp (nullable = true)\n",
      " |-- tpep_dropoff_datetime: timestamp (nullable = true)\n",
      " |-- passenger_count: double (nullable = true)\n",
      " |-- trip_distance: double (nullable = true)\n",
      " |-- RatecodeID: double (nullable = true)\n",
      " |-- store_and_fwd_flag: string (nullable = true)\n",
      " |-- PULocationID: long (nullable = true)\n",
      " |-- DOLocationID: long (nullable = true)\n",
      " |-- payment_type: long (nullable = true)\n",
      " |-- fare_amount: double (nullable = true)\n",
      " |-- extra: double (nullable = true)\n",
      " |-- mta_tax: double (nullable = true)\n",
      " |-- tip_amount: double (nullable = true)\n",
      " |-- tolls_amount: double (nullable = true)\n",
      " |-- improvement_surcharge: double (nullable = true)\n",
      " |-- total_amount: double (nullable = true)\n",
      " |-- congestion_surcharge: double (nullable = true)\n",
      " |-- airport_fee: double (nullable = true)\n",
      "\n"
     ]
    }
   ],
   "source": [
    "df.printSchema()"
   ]
  },
  {
   "cell_type": "code",
   "execution_count": 34,
   "id": "ecda4a4c",
   "metadata": {},
   "outputs": [
    {
     "data": {
      "text/plain": [
       "22821986"
      ]
     },
     "execution_count": 34,
     "metadata": {},
     "output_type": "execute_result"
    }
   ],
   "source": [
    "df.count()"
   ]
  },
  {
   "cell_type": "code",
   "execution_count": 40,
   "id": "5a00b957",
   "metadata": {},
   "outputs": [
    {
     "name": "stdout",
     "output_type": "stream",
     "text": [
      "+--------------------+---------------------+\n",
      "|tpep_pickup_datetime|tpep_dropoff_datetime|\n",
      "+--------------------+---------------------+\n",
      "| 2003-01-01 11:10:06|  2003-01-01 23:38:59|\n",
      "| 2003-01-01 11:26:16|  2003-01-01 11:38:46|\n",
      "| 2003-01-01 11:43:37|  2003-01-01 12:04:09|\n",
      "| 2003-01-01 12:21:25|  2003-01-01 12:29:34|\n",
      "| 2003-01-01 12:32:47|  2003-01-02 08:36:08|\n",
      "| 2003-01-05 15:05:18|  2003-01-06 05:41:11|\n",
      "| 2003-01-06 10:37:05|  2003-01-07 08:02:39|\n",
      "| 2003-01-09 18:54:48|  2003-01-10 03:34:52|\n",
      "| 2003-01-29 19:34:30|  2003-01-29 22:30:23|\n",
      "| 2009-01-01 03:15:09|  2009-01-01 03:23:09|\n",
      "| 2009-01-01 09:05:53|  2009-01-01 22:16:52|\n",
      "| 2009-01-01 09:23:09|  2009-01-02 07:34:42|\n",
      "| 2009-01-01 09:57:07|  2009-01-01 10:02:07|\n",
      "| 2009-01-01 09:57:07|  2009-01-01 10:02:07|\n",
      "| 2009-01-01 10:01:52|  2009-01-01 10:02:05|\n",
      "| 2009-01-01 10:02:01|  2009-01-01 11:13:52|\n",
      "| 2009-01-01 10:02:01|  2009-01-02 04:24:13|\n",
      "| 2009-01-01 10:02:04|  2009-01-02 04:04:49|\n",
      "| 2009-01-01 10:02:04|  2009-01-02 04:04:21|\n",
      "| 2009-01-01 10:02:37|  2009-01-01 12:00:14|\n",
      "+--------------------+---------------------+\n",
      "only showing top 20 rows\n",
      "\n"
     ]
    }
   ],
   "source": [
    "df.orderBy('tpep_pickup_datetime').select(['tpep_pickup_datetime','tpep_dropoff_datetime']).show()"
   ]
  },
  {
   "cell_type": "code",
   "execution_count": 45,
   "id": "8da50ad0",
   "metadata": {},
   "outputs": [],
   "source": [
    "df = df.withColumn(\"date_only\", func.to_date(func.col(\"tpep_pickup_datetime\")))"
   ]
  },
  {
   "cell_type": "code",
   "execution_count": 52,
   "id": "754c91f5",
   "metadata": {},
   "outputs": [
    {
     "name": "stdout",
     "output_type": "stream",
     "text": [
      "+--------------------+----------+\n",
      "|tpep_pickup_datetime| date_only|\n",
      "+--------------------+----------+\n",
      "| 2022-03-01 11:13:08|2022-03-01|\n",
      "| 2022-03-01 11:47:52|2022-03-01|\n",
      "| 2022-03-01 11:02:46|2022-03-01|\n",
      "| 2022-03-01 11:52:43|2022-03-01|\n",
      "| 2022-03-01 11:15:35|2022-03-01|\n",
      "| 2022-03-01 11:11:57|2022-03-01|\n",
      "| 2022-03-01 11:05:11|2022-03-01|\n",
      "| 2022-03-01 11:30:56|2022-03-01|\n",
      "| 2022-03-01 11:30:28|2022-03-01|\n",
      "| 2022-03-01 11:30:28|2022-03-01|\n",
      "| 2022-03-01 11:34:25|2022-03-01|\n",
      "| 2022-03-01 11:35:11|2022-03-01|\n",
      "| 2022-03-01 11:59:02|2022-03-01|\n",
      "| 2022-03-01 11:16:00|2022-03-01|\n",
      "| 2022-03-01 11:57:18|2022-03-01|\n",
      "| 2022-03-01 11:01:50|2022-03-01|\n",
      "| 2022-03-01 12:03:05|2022-03-01|\n",
      "| 2022-03-01 11:28:14|2022-03-01|\n",
      "| 2022-03-01 11:35:49|2022-03-01|\n",
      "| 2022-03-01 11:22:31|2022-03-01|\n",
      "+--------------------+----------+\n",
      "only showing top 20 rows\n",
      "\n"
     ]
    }
   ],
   "source": [
    "df.select(['tpep_pickup_datetime', 'date_only']).show()"
   ]
  },
  {
   "cell_type": "code",
   "execution_count": 91,
   "id": "8d167a35",
   "metadata": {},
   "outputs": [
    {
     "data": {
      "text/plain": [
       "230"
      ]
     },
     "execution_count": 91,
     "metadata": {},
     "output_type": "execute_result"
    }
   ],
   "source": [
    "df.select('date_only').distinct().count()"
   ]
  },
  {
   "cell_type": "code",
   "execution_count": 134,
   "id": "4d4cef8c",
   "metadata": {},
   "outputs": [],
   "source": [
    "# Filter date\n",
    "df2 = df.where((func.col(\"date_only\") >= '2021-10-01') & (func.col(\"date_only\") <= '2022-04-30'))"
   ]
  },
  {
   "cell_type": "code",
   "execution_count": 135,
   "id": "7d970ec7",
   "metadata": {},
   "outputs": [
    {
     "data": {
      "text/plain": [
       "212"
      ]
     },
     "execution_count": 135,
     "metadata": {},
     "output_type": "execute_result"
    }
   ],
   "source": [
    "df2.select('date_only').distinct().count()"
   ]
  },
  {
   "cell_type": "code",
   "execution_count": null,
   "id": "091807b7",
   "metadata": {},
   "outputs": [],
   "source": []
  }
 ],
 "metadata": {
  "kernelspec": {
   "display_name": "Python 3",
   "language": "python",
   "name": "python3"
  },
  "language_info": {
   "codemirror_mode": {
    "name": "ipython",
    "version": 3
   },
   "file_extension": ".py",
   "mimetype": "text/x-python",
   "name": "python",
   "nbconvert_exporter": "python",
   "pygments_lexer": "ipython3",
   "version": "3.7.4"
  }
 },
 "nbformat": 4,
 "nbformat_minor": 5
}
