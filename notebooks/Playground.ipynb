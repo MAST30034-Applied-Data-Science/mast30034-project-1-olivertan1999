{
 "cells": [
  {
   "cell_type": "code",
   "execution_count": 45,
   "id": "14692639",
   "metadata": {},
   "outputs": [],
   "source": [
    "import os\n",
    "from urllib.request import urlretrieve\n",
    "\n",
    "# from the current `tute_1` directory, go back two levels to the `MAST30034` directory\n",
    "output_relative_dir = '../data/raw/'\n",
    "\n",
    "# check if it exists as it makedir will raise an error if it does exist\n",
    "if not os.path.exists(output_relative_dir):\n",
    "    os.makedirs(output_relative_dir)\n",
    "    \n",
    "\n",
    "if not os.path.exists(output_relative_dir + 'tlc_data'):\n",
    "    os.makedirs(output_relative_dir + 'tlc_data')\n",
    "    "
   ]
  },
  {
   "cell_type": "code",
   "execution_count": 46,
   "id": "c4f1b890",
   "metadata": {},
   "outputs": [],
   "source": [
    "# Specify which year and month to collect data from\n",
    "date = {'2021':[10,11,12],\n",
    "        '2022':[1,2,3,4]}"
   ]
  },
  {
   "cell_type": "code",
   "execution_count": 47,
   "id": "a5721f29",
   "metadata": {},
   "outputs": [],
   "source": [
    "# This is the URL template as of 07/2022\n",
    "trip_url = {'yellow':\"https://d37ci6vzurychx.cloudfront.net/trip-data/yellow_tripdata_\",\n",
    "            'green':\"https://d37ci6vzurychx.cloudfront.net/trip-data/green_tripdata_\"}\n"
   ]
  },
  {
   "cell_type": "code",
   "execution_count": 48,
   "id": "111bbeb6",
   "metadata": {},
   "outputs": [],
   "source": [
    "# Make individual directory for each cab type\n",
    "for cab_type in trip_url.keys():\n",
    "    if not os.path.exists(output_relative_dir + 'tlc_data/' + cab_type):\n",
    "        os.makedirs(output_relative_dir + 'tlc_data/' + cab_type)"
   ]
  },
  {
   "cell_type": "code",
   "execution_count": 49,
   "id": "00f17094",
   "metadata": {},
   "outputs": [
    {
     "name": "stdout",
     "output_type": "stream",
     "text": [
      "Begin month 10\n",
      "Completed month 10\n",
      "Begin month 11\n",
      "Completed month 11\n",
      "Begin month 12\n",
      "Completed month 12\n",
      "Begin month 01\n",
      "Completed month 01\n",
      "Begin month 02\n",
      "Completed month 02\n",
      "Begin month 03\n",
      "Completed month 03\n",
      "Begin month 04\n",
      "Completed month 04\n"
     ]
    }
   ],
   "source": [
    "# Data output directory is `data/tlc_data/`\n",
    "tlc_output_dir = output_relative_dir + 'tlc_data/'\n",
    "\n",
    "for year in date.keys():\n",
    "    for month in date[year]:\n",
    "        # 0-fill i.e 1 -> 01, 2 -> 02, etc\n",
    "        month = str(month).zfill(2) \n",
    "        print(f\"Begin month {month}\")\n",
    "        \n",
    "        for cab_type, url in trip_url.items():\n",
    "            # Generate url \n",
    "            get_url = f'{url}{year}-{month}.parquet'\n",
    "            # Generate output location and filename\n",
    "            output_dir = f\"{tlc_output_dir}{cab_type}/{year}-{month}.parquet\"\n",
    "            # Download\n",
    "            urlretrieve(get_url, output_dir)\n",
    "        \n",
    "\n",
    "        print(f\"Completed month {month}\")"
   ]
  },
  {
   "cell_type": "code",
   "execution_count": 142,
   "id": "0cc1bef5",
   "metadata": {},
   "outputs": [],
   "source": [
    "import pandas as pd"
   ]
  },
  {
   "cell_type": "code",
   "execution_count": 143,
   "id": "f0bedac9",
   "metadata": {},
   "outputs": [],
   "source": [
    "location_data = pd.read_csv(\"/Users/oliver/Downloads/MAST30034_Python-main/data/taxi_zones/taxi+_zone_lookup.csv\")"
   ]
  },
  {
   "cell_type": "code",
   "execution_count": 12,
   "id": "076a962a",
   "metadata": {},
   "outputs": [],
   "source": [
    "shp_path = '/Users/oliver/Downloads/taxi_zones/taxi_zones.shp'\n",
    "sf = shp.Reader(shp_path)"
   ]
  },
  {
   "cell_type": "code",
   "execution_count": null,
   "id": "a7a69e4b",
   "metadata": {},
   "outputs": [],
   "source": []
  }
 ],
 "metadata": {
  "kernelspec": {
   "display_name": "Python 3",
   "language": "python",
   "name": "python3"
  },
  "language_info": {
   "codemirror_mode": {
    "name": "ipython",
    "version": 3
   },
   "file_extension": ".py",
   "mimetype": "text/x-python",
   "name": "python",
   "nbconvert_exporter": "python",
   "pygments_lexer": "ipython3",
   "version": "3.7.4"
  }
 },
 "nbformat": 4,
 "nbformat_minor": 5
}
