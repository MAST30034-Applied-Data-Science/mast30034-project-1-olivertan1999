{
 "cells": [
  {
   "cell_type": "markdown",
   "id": "238267d6",
   "metadata": {},
   "source": [
    "# Exploratory Data Analysis\n",
    "\n",
    "In this section, we seek to find any significant confounding factor that may drive the demand in specific location. This section will help us develop deeper understanding of the data and narrow down the significant features for our predictions/classifications later."
   ]
  },
  {
   "cell_type": "code",
   "execution_count": 1,
   "id": "2cf10602",
   "metadata": {},
   "outputs": [],
   "source": [
    "import sys\n",
    "sys.path.append('../')\n",
    "from scripts.preprocess import preprocess, transform_demand\n",
    "from scripts.pluto_datascrape import get_merged_zone_data\n",
    "from pyspark.sql import SparkSession\n",
    "from pyspark.sql import functions as func\n",
    "from pyspark.sql.types import BooleanType\n",
    "import shapefile as shp\n",
    "import geopandas as gpd\n",
    "import matplotlib.pyplot as plt\n",
    "import seaborn as sns\n",
    "import pandas as pd\n",
    "import numpy as np\n",
    "import datetime\n",
    "import holidays\n",
    "\n",
    "\n",
    "%matplotlib inline\n",
    "sns.set(style='whitegrid', palette='pastel', color_codes=True)\n",
    "sns.mpl.rc('figure', figsize=(10,6))"
   ]
  },
  {
   "cell_type": "code",
   "execution_count": 2,
   "id": "f8d6e0c8",
   "metadata": {},
   "outputs": [],
   "source": [
    "# Starting a Spark session\n",
    "spk = (\n",
    "    SparkSession.builder.appName('Playground')\n",
    "    .config(\"spark.sql.repl.eagerEval.enabled\", True)\n",
    "    .config(\"spark.sql.session.timeZone\", \"Etc/UTC\")\n",
    "    .getOrCreate()\n",
    ")\n",
    "\n",
    "# Read the parquet dataset\n",
    "df = spk.read.parquet('/Users/oliver/Downloads/MAST30034_Python-main/data/tlc_data')\n"
   ]
  },
  {
   "cell_type": "markdown",
   "id": "4eb66318",
   "metadata": {},
   "source": [
    "# TLC Taxi Dataset"
   ]
  },
  {
   "cell_type": "code",
   "execution_count": 3,
   "id": "876f0998",
   "metadata": {},
   "outputs": [],
   "source": [
    "# Clean the raw TLC taxi dataset\n",
    "df = preprocess(df)\n",
    "\n",
    "# Get the daily demand data\n",
    "pickup_daily_demand, dropoff_daily_demand = transform_demand(df)\n",
    "\n",
    "\n",
    "# Get the hourly demand data\n",
    "pickup_hourly_demand, dropoff_hourly_demand = transform_demand(df, 'hour')"
   ]
  },
  {
   "cell_type": "code",
   "execution_count": 4,
   "id": "f09fc49d",
   "metadata": {},
   "outputs": [
    {
     "data": {
      "text/html": [
       "<table border='1'>\n",
       "<tr><th>pu_location_id</th><th>pickup_date</th><th>count</th></tr>\n",
       "<tr><td>55</td><td>2022-03-01</td><td>3</td></tr>\n",
       "<tr><td>229</td><td>2022-03-02</td><td>2360</td></tr>\n",
       "<tr><td>113</td><td>2022-03-02</td><td>1493</td></tr>\n",
       "<tr><td>225</td><td>2022-03-02</td><td>7</td></tr>\n",
       "<tr><td>34</td><td>2022-03-03</td><td>3</td></tr>\n",
       "<tr><td>191</td><td>2022-03-05</td><td>3</td></tr>\n",
       "<tr><td>235</td><td>2022-03-05</td><td>6</td></tr>\n",
       "<tr><td>141</td><td>2022-03-07</td><td>2339</td></tr>\n",
       "<tr><td>129</td><td>2022-03-07</td><td>12</td></tr>\n",
       "<tr><td>125</td><td>2022-03-11</td><td>594</td></tr>\n",
       "<tr><td>54</td><td>2022-03-11</td><td>1</td></tr>\n",
       "<tr><td>209</td><td>2022-03-13</td><td>164</td></tr>\n",
       "<tr><td>231</td><td>2022-03-15</td><td>1405</td></tr>\n",
       "<tr><td>12</td><td>2022-03-20</td><td>37</td></tr>\n",
       "<tr><td>85</td><td>2022-03-22</td><td>4</td></tr>\n",
       "<tr><td>192</td><td>2022-03-22</td><td>2</td></tr>\n",
       "<tr><td>67</td><td>2022-03-23</td><td>2</td></tr>\n",
       "<tr><td>35</td><td>2022-03-24</td><td>3</td></tr>\n",
       "<tr><td>33</td><td>2022-03-24</td><td>30</td></tr>\n",
       "<tr><td>119</td><td>2022-03-24</td><td>3</td></tr>\n",
       "</table>\n",
       "only showing top 20 rows\n"
      ],
      "text/plain": [
       "+--------------+-----------+-----+\n",
       "|pu_location_id|pickup_date|count|\n",
       "+--------------+-----------+-----+\n",
       "|            55| 2022-03-01|    3|\n",
       "|           229| 2022-03-02| 2360|\n",
       "|           113| 2022-03-02| 1493|\n",
       "|           225| 2022-03-02|    7|\n",
       "|            34| 2022-03-03|    3|\n",
       "|           191| 2022-03-05|    3|\n",
       "|           235| 2022-03-05|    6|\n",
       "|           141| 2022-03-07| 2339|\n",
       "|           129| 2022-03-07|   12|\n",
       "|           125| 2022-03-11|  594|\n",
       "|            54| 2022-03-11|    1|\n",
       "|           209| 2022-03-13|  164|\n",
       "|           231| 2022-03-15| 1405|\n",
       "|            12| 2022-03-20|   37|\n",
       "|            85| 2022-03-22|    4|\n",
       "|           192| 2022-03-22|    2|\n",
       "|            67| 2022-03-23|    2|\n",
       "|            35| 2022-03-24|    3|\n",
       "|            33| 2022-03-24|   30|\n",
       "|           119| 2022-03-24|    3|\n",
       "+--------------+-----------+-----+\n",
       "only showing top 20 rows"
      ]
     },
     "execution_count": 4,
     "metadata": {},
     "output_type": "execute_result"
    }
   ],
   "source": [
    "pickup_daily_demand"
   ]
  },
  {
   "cell_type": "markdown",
   "id": "f31ed328",
   "metadata": {},
   "source": [
    "# PLUTO and TLC Zone Data"
   ]
  },
  {
   "cell_type": "code",
   "execution_count": 5,
   "id": "9b1b2fad",
   "metadata": {},
   "outputs": [],
   "source": [
    "# Read the shapefile of the tlc zone dataset\n",
    "sf = gpd.read_file(\"/Users/oliver/Downloads/taxi_zones/taxi_zones.shp\")\n",
    "zones = pd.read_csv(\"/Users/oliver/Downloads/taxi_zones/taxi+_zone_lookup.csv\")\n"
   ]
  },
  {
   "cell_type": "code",
   "execution_count": 6,
   "id": "263ae7e0",
   "metadata": {},
   "outputs": [
    {
     "name": "stderr",
     "output_type": "stream",
     "text": [
      "/opt/anaconda3/lib/python3.7/site-packages/IPython/core/interactiveshell.py:3441: FutureWarning: The `op` parameter is deprecated and will be removed in a future release. Please use the `predicate` parameter instead.\n",
      "  exec(code_obj, self.user_global_ns, self.user_ns)\n",
      "../scripts/pluto_datascrape.py:95: UserWarning: CRS mismatch between the CRS of left geometries and the CRS of right geometries.\n",
      "Use `to_crs()` to reproject one of the input geometries to match the CRS of the other.\n",
      "\n",
      "Left CRS: None\n",
      "Right CRS: +proj=longlat +ellps=WGS84 +datum=WGS84 +no_defs + ...\n",
      "\n",
      "  pluto_gdf, tlc_gdf, op='within'\n"
     ]
    }
   ],
   "source": [
    "# Get PLUTO and TLC Zone merged data\n",
    "sjoined_df = get_merged_zone_data(sf, zones)"
   ]
  },
  {
   "cell_type": "code",
   "execution_count": null,
   "id": "6b82d1b5",
   "metadata": {},
   "outputs": [],
   "source": []
  },
  {
   "cell_type": "markdown",
   "id": "9f92ccc9",
   "metadata": {},
   "source": [
    "## Summary Statistics"
   ]
  },
  {
   "cell_type": "code",
   "execution_count": 14,
   "id": "f38023a0",
   "metadata": {},
   "outputs": [],
   "source": [
    "# Tabulate summary statistics\n",
    "operations = [func.mean, func.stddev, func.min, func.max]\n",
    "exprs = [f(func.col(\"count\")) for f in operations]\n",
    "\n",
    "location_hourly_statistics = pickup_hourly_demand.groupby(['pu_location_id', 'pickup_date']).agg(*exprs)\n",
    "location_daily_statistics = pickup_daily_demand.groupby('pu_location_id').agg(*exprs)"
   ]
  },
  {
   "cell_type": "code",
   "execution_count": 64,
   "id": "2d037a7a",
   "metadata": {},
   "outputs": [
    {
     "data": {
      "text/html": [
       "<table border='1'>\n",
       "<tr><th>pu_location_id</th><th>pickup_date</th><th>avg(count)</th><th>stddev_samp(count)</th><th>min(count)</th><th>max(count)</th></tr>\n",
       "<tr><td>161</td><td>2022-03-23</td><td>241.79166666666666</td><td>197.88841369661418</td><td>3</td><td>596</td></tr>\n",
       "<tr><td>237</td><td>2021-11-03</td><td>282.5</td><td>196.57966633757243</td><td>2</td><td>586</td></tr>\n",
       "<tr><td>79</td><td>2021-11-07</td><td>166.875</td><td>192.06165506895454</td><td>18</td><td>937</td></tr>\n",
       "<tr><td>237</td><td>2021-11-04</td><td>280.2916666666667</td><td>190.7343883101785</td><td>2</td><td>551</td></tr>\n",
       "<tr><td>161</td><td>2022-03-24</td><td>243.83333333333334</td><td>190.34240695141474</td><td>3</td><td>567</td></tr>\n",
       "<tr><td>161</td><td>2022-03-29</td><td>238.95833333333334</td><td>190.24754564300798</td><td>3</td><td>605</td></tr>\n",
       "<tr><td>237</td><td>2021-11-17</td><td>277.3333333333333</td><td>190.2048476195363</td><td>3</td><td>531</td></tr>\n",
       "<tr><td>161</td><td>2022-03-15</td><td>223.375</td><td>190.0907820878819</td><td>1</td><td>595</td></tr>\n",
       "<tr><td>236</td><td>2021-11-23</td><td>239.29166666666666</td><td>187.981377238294</td><td>3</td><td>566</td></tr>\n",
       "<tr><td>237</td><td>2021-11-18</td><td>279.3333333333333</td><td>187.7738386803487</td><td>2</td><td>516</td></tr>\n",
       "<tr><td>161</td><td>2022-03-22</td><td>227.70833333333334</td><td>187.18265414961064</td><td>4</td><td>586</td></tr>\n",
       "<tr><td>237</td><td>2021-12-08</td><td>283.6666666666667</td><td>187.11555756819894</td><td>1</td><td>513</td></tr>\n",
       "<tr><td>237</td><td>2021-12-15</td><td>271.6666666666667</td><td>187.08767223269754</td><td>4</td><td>517</td></tr>\n",
       "<tr><td>237</td><td>2021-11-09</td><td>262.5416666666667</td><td>185.66612839148678</td><td>2</td><td>507</td></tr>\n",
       "<tr><td>161</td><td>2022-03-28</td><td>204.625</td><td>185.66608936241005</td><td>1</td><td>597</td></tr>\n",
       "<tr><td>237</td><td>2021-12-07</td><td>289.1304347826087</td><td>185.59543106343042</td><td>2</td><td>529</td></tr>\n",
       "<tr><td>237</td><td>2022-04-27</td><td>266.4166666666667</td><td>184.62698391190224</td><td>2</td><td>523</td></tr>\n",
       "<tr><td>237</td><td>2021-12-09</td><td>287.75</td><td>184.3027400772978</td><td>2</td><td>528</td></tr>\n",
       "<tr><td>237</td><td>2021-11-02</td><td>254.95833333333334</td><td>184.26244968066294</td><td>2</td><td>524</td></tr>\n",
       "<tr><td>237</td><td>2021-12-14</td><td>265.7083333333333</td><td>183.85142374888684</td><td>1</td><td>504</td></tr>\n",
       "</table>\n",
       "only showing top 20 rows\n"
      ],
      "text/plain": [
       "+--------------+-----------+------------------+------------------+----------+----------+\n",
       "|pu_location_id|pickup_date|        avg(count)|stddev_samp(count)|min(count)|max(count)|\n",
       "+--------------+-----------+------------------+------------------+----------+----------+\n",
       "|           161| 2022-03-23|241.79166666666666|197.88841369661418|         3|       596|\n",
       "|           237| 2021-11-03|             282.5|196.57966633757243|         2|       586|\n",
       "|            79| 2021-11-07|           166.875|192.06165506895454|        18|       937|\n",
       "|           237| 2021-11-04| 280.2916666666667| 190.7343883101785|         2|       551|\n",
       "|           161| 2022-03-24|243.83333333333334|190.34240695141474|         3|       567|\n",
       "|           161| 2022-03-29|238.95833333333334|190.24754564300798|         3|       605|\n",
       "|           237| 2021-11-17| 277.3333333333333| 190.2048476195363|         3|       531|\n",
       "|           161| 2022-03-15|           223.375| 190.0907820878819|         1|       595|\n",
       "|           236| 2021-11-23|239.29166666666666|  187.981377238294|         3|       566|\n",
       "|           237| 2021-11-18| 279.3333333333333| 187.7738386803487|         2|       516|\n",
       "|           161| 2022-03-22|227.70833333333334|187.18265414961064|         4|       586|\n",
       "|           237| 2021-12-08| 283.6666666666667|187.11555756819894|         1|       513|\n",
       "|           237| 2021-12-15| 271.6666666666667|187.08767223269754|         4|       517|\n",
       "|           237| 2021-11-09| 262.5416666666667|185.66612839148678|         2|       507|\n",
       "|           161| 2022-03-28|           204.625|185.66608936241005|         1|       597|\n",
       "|           237| 2021-12-07| 289.1304347826087|185.59543106343042|         2|       529|\n",
       "|           237| 2022-04-27| 266.4166666666667|184.62698391190224|         2|       523|\n",
       "|           237| 2021-12-09|            287.75| 184.3027400772978|         2|       528|\n",
       "|           237| 2021-11-02|254.95833333333334|184.26244968066294|         2|       524|\n",
       "|           237| 2021-12-14| 265.7083333333333|183.85142374888684|         1|       504|\n",
       "+--------------+-----------+------------------+------------------+----------+----------+\n",
       "only showing top 20 rows"
      ]
     },
     "execution_count": 64,
     "metadata": {},
     "output_type": "execute_result"
    }
   ],
   "source": [
    "# Examine the statistics of hourly demand focusing on standard deviation\n",
    "location_hourly_statistics.sort((func.col(\"stddev_samp(count)\").desc()))"
   ]
  },
  {
   "cell_type": "code",
   "execution_count": 17,
   "id": "18f2be73",
   "metadata": {},
   "outputs": [
    {
     "data": {
      "text/html": [
       "<table border='1'>\n",
       "<tr><th>pu_location_id</th><th>avg(count)</th><th>stddev_samp(count)</th><th>min(count)</th><th>max(count)</th></tr>\n",
       "<tr><td>237</td><td>4682.702830188679</td><td>1307.7923336863635</td><td>762</td><td>6906</td></tr>\n",
       "<tr><td>161</td><td>3827.735849056604</td><td>1120.7883591505276</td><td>526</td><td>5852</td></tr>\n",
       "<tr><td>79</td><td>2544.490566037736</td><td>1117.0256608175105</td><td>758</td><td>5330</td></tr>\n",
       "<tr><td>236</td><td>4235.051886792453</td><td>1107.3893350918165</td><td>779</td><td>6050</td></tr>\n",
       "<tr><td>132</td><td>3926.6367924528304</td><td>890.3149637929514</td><td>416</td><td>5858</td></tr>\n",
       "<tr><td>162</td><td>3156.8915094339623</td><td>865.6039518418085</td><td>562</td><td>4789</td></tr>\n",
       "<tr><td>138</td><td>2714.051886792453</td><td>712.2917370165231</td><td>50</td><td>4369</td></tr>\n",
       "<tr><td>249</td><td>2104.8490566037735</td><td>671.1677351950688</td><td>631</td><td>3763</td></tr>\n",
       "<tr><td>163</td><td>2782.801886792453</td><td>666.5720529675474</td><td>550</td><td>3979</td></tr>\n",
       "<tr><td>142</td><td>3224.877358490566</td><td>664.0159123147632</td><td>1036</td><td>4552</td></tr>\n",
       "<tr><td>170</td><td>2975.066037735849</td><td>658.9947646861484</td><td>840</td><td>3978</td></tr>\n",
       "<tr><td>230</td><td>2923.9056603773583</td><td>608.1186437667558</td><td>825</td><td>3991</td></tr>\n",
       "<tr><td>48</td><td>3008.627358490566</td><td>591.6403558895895</td><td>1296</td><td>4143</td></tr>\n",
       "<tr><td>140</td><td>2003.2594339622642</td><td>581.1350420636928</td><td>477</td><td>2735</td></tr>\n",
       "<tr><td>234</td><td>2594.2924528301887</td><td>570.7188195057447</td><td>569</td><td>3527</td></tr>\n",
       "<tr><td>107</td><td>2345.627358490566</td><td>557.7125317429505</td><td>717</td><td>3701</td></tr>\n",
       "<tr><td>186</td><td>3199.0896226415093</td><td>557.5985803100991</td><td>646</td><td>4112</td></tr>\n",
       "<tr><td>148</td><td>908.3632075471698</td><td>532.1713236280517</td><td>243</td><td>2365</td></tr>\n",
       "<tr><td>239</td><td>2827.622641509434</td><td>522.5348525137509</td><td>729</td><td>3807</td></tr>\n",
       "<tr><td>68</td><td>2421.9764150943397</td><td>464.8885759692406</td><td>754</td><td>3402</td></tr>\n",
       "</table>\n",
       "only showing top 20 rows\n"
      ],
      "text/plain": [
       "+--------------+------------------+------------------+----------+----------+\n",
       "|pu_location_id|        avg(count)|stddev_samp(count)|min(count)|max(count)|\n",
       "+--------------+------------------+------------------+----------+----------+\n",
       "|           237| 4682.702830188679|1307.7923336863635|       762|      6906|\n",
       "|           161| 3827.735849056604|1120.7883591505276|       526|      5852|\n",
       "|            79| 2544.490566037736|1117.0256608175105|       758|      5330|\n",
       "|           236| 4235.051886792453|1107.3893350918165|       779|      6050|\n",
       "|           132|3926.6367924528304| 890.3149637929514|       416|      5858|\n",
       "|           162|3156.8915094339623| 865.6039518418085|       562|      4789|\n",
       "|           138| 2714.051886792453| 712.2917370165231|        50|      4369|\n",
       "|           249|2104.8490566037735| 671.1677351950688|       631|      3763|\n",
       "|           163| 2782.801886792453| 666.5720529675474|       550|      3979|\n",
       "|           142| 3224.877358490566| 664.0159123147632|      1036|      4552|\n",
       "|           170| 2975.066037735849| 658.9947646861484|       840|      3978|\n",
       "|           230|2923.9056603773583| 608.1186437667558|       825|      3991|\n",
       "|            48| 3008.627358490566| 591.6403558895895|      1296|      4143|\n",
       "|           140|2003.2594339622642| 581.1350420636928|       477|      2735|\n",
       "|           234|2594.2924528301887| 570.7188195057447|       569|      3527|\n",
       "|           107| 2345.627358490566| 557.7125317429505|       717|      3701|\n",
       "|           186|3199.0896226415093| 557.5985803100991|       646|      4112|\n",
       "|           148| 908.3632075471698| 532.1713236280517|       243|      2365|\n",
       "|           239| 2827.622641509434| 522.5348525137509|       729|      3807|\n",
       "|            68|2421.9764150943397| 464.8885759692406|       754|      3402|\n",
       "+--------------+------------------+------------------+----------+----------+\n",
       "only showing top 20 rows"
      ]
     },
     "execution_count": 17,
     "metadata": {},
     "output_type": "execute_result"
    }
   ],
   "source": [
    "# Examine the statistics of daily demand focusing on standard deviation\n",
    "location_daily_statistics.sort(func.col(\"stddev_samp(count)\").desc())"
   ]
  },
  {
   "cell_type": "markdown",
   "id": "f39a884e",
   "metadata": {},
   "source": [
    "Here we notice that most of the locations with high standard deviations are located at city center. We hypothesize that this is due to the confounding effects of day in the week (more crowded in the city during weekends and public holidays) as well as weather of the day.\n",
    "\n",
    "To check if this is the case, we can split the daily demand dataset into weekdays and weekends (including public holidays) to see if the standard deviation reduces significantly."
   ]
  },
  {
   "cell_type": "code",
   "execution_count": 67,
   "id": "537d8fbf",
   "metadata": {},
   "outputs": [],
   "source": [
    "# Create a column to categorise weekday and weekend/public holiday\n",
    "us_holidays = holidays.US(state='NY', years=[2021,2022])\n",
    "\n",
    "is_weekday = ((func.dayofweek(func.col('pickup_date')).between(2,6)) \n",
    "             & (~func.col('pickup_date').isin(list(us_holidays.keys()))))\n",
    "\n",
    "pickup_daily_demand = (pickup_daily_demand\n",
    "                       .withColumn('day_of_week', func.dayofweek(func.col('pickup_date')))\n",
    "                       .withColumn('is_weekday', is_weekday)\n",
    ")"
   ]
  },
  {
   "cell_type": "code",
   "execution_count": 84,
   "id": "e2493695",
   "metadata": {},
   "outputs": [],
   "source": [
    "df_229 = pickup_daily_demand.filter(func.col('pu_location_id') == 229).toPandas()"
   ]
  },
  {
   "cell_type": "code",
   "execution_count": 81,
   "id": "de233eb8",
   "metadata": {},
   "outputs": [
    {
     "data": {
      "text/html": [
       "<div>\n",
       "<style scoped>\n",
       "    .dataframe tbody tr th:only-of-type {\n",
       "        vertical-align: middle;\n",
       "    }\n",
       "\n",
       "    .dataframe tbody tr th {\n",
       "        vertical-align: top;\n",
       "    }\n",
       "\n",
       "    .dataframe thead th {\n",
       "        text-align: right;\n",
       "    }\n",
       "</style>\n",
       "<table border=\"1\" class=\"dataframe\">\n",
       "  <thead>\n",
       "    <tr style=\"text-align: right;\">\n",
       "      <th></th>\n",
       "      <th>pu_location_id</th>\n",
       "      <th>pickup_date</th>\n",
       "      <th>count</th>\n",
       "      <th>weekday</th>\n",
       "      <th>is_weekday</th>\n",
       "      <th>day_of_week</th>\n",
       "    </tr>\n",
       "  </thead>\n",
       "  <tbody>\n",
       "    <tr>\n",
       "      <th>0</th>\n",
       "      <td>229</td>\n",
       "      <td>2022-03-02</td>\n",
       "      <td>2360</td>\n",
       "      <td>True</td>\n",
       "      <td>True</td>\n",
       "      <td>4</td>\n",
       "    </tr>\n",
       "    <tr>\n",
       "      <th>1</th>\n",
       "      <td>229</td>\n",
       "      <td>2021-11-04</td>\n",
       "      <td>2614</td>\n",
       "      <td>True</td>\n",
       "      <td>True</td>\n",
       "      <td>5</td>\n",
       "    </tr>\n",
       "    <tr>\n",
       "      <th>2</th>\n",
       "      <td>229</td>\n",
       "      <td>2022-03-14</td>\n",
       "      <td>1787</td>\n",
       "      <td>True</td>\n",
       "      <td>True</td>\n",
       "      <td>2</td>\n",
       "    </tr>\n",
       "    <tr>\n",
       "      <th>3</th>\n",
       "      <td>229</td>\n",
       "      <td>2022-04-15</td>\n",
       "      <td>2310</td>\n",
       "      <td>True</td>\n",
       "      <td>True</td>\n",
       "      <td>6</td>\n",
       "    </tr>\n",
       "    <tr>\n",
       "      <th>4</th>\n",
       "      <td>229</td>\n",
       "      <td>2022-04-12</td>\n",
       "      <td>2417</td>\n",
       "      <td>True</td>\n",
       "      <td>True</td>\n",
       "      <td>3</td>\n",
       "    </tr>\n",
       "    <tr>\n",
       "      <th>...</th>\n",
       "      <td>...</td>\n",
       "      <td>...</td>\n",
       "      <td>...</td>\n",
       "      <td>...</td>\n",
       "      <td>...</td>\n",
       "      <td>...</td>\n",
       "    </tr>\n",
       "    <tr>\n",
       "      <th>207</th>\n",
       "      <td>229</td>\n",
       "      <td>2022-02-09</td>\n",
       "      <td>2198</td>\n",
       "      <td>True</td>\n",
       "      <td>True</td>\n",
       "      <td>4</td>\n",
       "    </tr>\n",
       "    <tr>\n",
       "      <th>208</th>\n",
       "      <td>229</td>\n",
       "      <td>2022-04-25</td>\n",
       "      <td>1917</td>\n",
       "      <td>True</td>\n",
       "      <td>True</td>\n",
       "      <td>2</td>\n",
       "    </tr>\n",
       "    <tr>\n",
       "      <th>209</th>\n",
       "      <td>229</td>\n",
       "      <td>2021-12-26</td>\n",
       "      <td>887</td>\n",
       "      <td>False</td>\n",
       "      <td>False</td>\n",
       "      <td>1</td>\n",
       "    </tr>\n",
       "    <tr>\n",
       "      <th>210</th>\n",
       "      <td>229</td>\n",
       "      <td>2022-01-01</td>\n",
       "      <td>1187</td>\n",
       "      <td>False</td>\n",
       "      <td>False</td>\n",
       "      <td>7</td>\n",
       "    </tr>\n",
       "    <tr>\n",
       "      <th>211</th>\n",
       "      <td>229</td>\n",
       "      <td>2022-02-05</td>\n",
       "      <td>2293</td>\n",
       "      <td>False</td>\n",
       "      <td>False</td>\n",
       "      <td>7</td>\n",
       "    </tr>\n",
       "  </tbody>\n",
       "</table>\n",
       "<p>212 rows × 6 columns</p>\n",
       "</div>"
      ],
      "text/plain": [
       "     pu_location_id pickup_date  count  weekday  is_weekday  day_of_week\n",
       "0               229  2022-03-02   2360     True        True            4\n",
       "1               229  2021-11-04   2614     True        True            5\n",
       "2               229  2022-03-14   1787     True        True            2\n",
       "3               229  2022-04-15   2310     True        True            6\n",
       "4               229  2022-04-12   2417     True        True            3\n",
       "..              ...         ...    ...      ...         ...          ...\n",
       "207             229  2022-02-09   2198     True        True            4\n",
       "208             229  2022-04-25   1917     True        True            2\n",
       "209             229  2021-12-26    887    False       False            1\n",
       "210             229  2022-01-01   1187    False       False            7\n",
       "211             229  2022-02-05   2293    False       False            7\n",
       "\n",
       "[212 rows x 6 columns]"
      ]
     },
     "execution_count": 81,
     "metadata": {},
     "output_type": "execute_result"
    }
   ],
   "source": [
    "df_229"
   ]
  },
  {
   "cell_type": "code",
   "execution_count": 83,
   "id": "645d8ddd",
   "metadata": {},
   "outputs": [
    {
     "data": {
      "text/plain": [
       "<AxesSubplot:xlabel='pickup_date', ylabel='count'>"
      ]
     },
     "execution_count": 83,
     "metadata": {},
     "output_type": "execute_result"
    },
    {
     "data": {
      "image/png": "[encoded data removed]",
      "text/plain": [
       "<Figure size 720x432 with 1 Axes>"
      ]
     },
     "metadata": {},
     "output_type": "display_data"
    }
   ],
   "source": [
    "sns.lineplot(x='pickup_date', y='count', data=df_229)"
   ]
  },
  {
   "cell_type": "code",
   "execution_count": 57,
   "id": "82215af7",
   "metadata": {},
   "outputs": [],
   "source": [
    "pickup_weekday_demand = pickup_daily_demand.where(func.col('weekday') == True)\n"
   ]
  },
  {
   "cell_type": "code",
   "execution_count": 58,
   "id": "10509d29",
   "metadata": {},
   "outputs": [
    {
     "data": {
      "text/html": [
       "<table border='1'>\n",
       "<tr><th>pu_location_id</th><th>pickup_date</th><th>count</th><th>weekday</th></tr>\n",
       "<tr><td>191</td><td>2022-03-05</td><td>3</td><td>false</td></tr>\n",
       "<tr><td>235</td><td>2022-03-05</td><td>6</td><td>false</td></tr>\n",
       "<tr><td>209</td><td>2022-03-13</td><td>164</td><td>false</td></tr>\n",
       "<tr><td>12</td><td>2022-03-20</td><td>37</td><td>false</td></tr>\n",
       "<tr><td>89</td><td>2022-03-26</td><td>4</td><td>false</td></tr>\n",
       "<tr><td>23</td><td>2022-04-03</td><td>3</td><td>false</td></tr>\n",
       "<tr><td>117</td><td>2022-04-03</td><td>2</td><td>false</td></tr>\n",
       "<tr><td>35</td><td>2022-04-09</td><td>1</td><td>false</td></tr>\n",
       "<tr><td>192</td><td>2022-04-10</td><td>1</td><td>false</td></tr>\n",
       "<tr><td>250</td><td>2022-04-10</td><td>2</td><td>false</td></tr>\n",
       "<tr><td>235</td><td>2022-04-10</td><td>4</td><td>false</td></tr>\n",
       "<tr><td>55</td><td>2022-04-16</td><td>1</td><td>false</td></tr>\n",
       "<tr><td>231</td><td>2022-04-17</td><td>1083</td><td>false</td></tr>\n",
       "<tr><td>100</td><td>2022-04-17</td><td>1428</td><td>false</td></tr>\n",
       "<tr><td>113</td><td>2022-04-23</td><td>1563</td><td>false</td></tr>\n",
       "<tr><td>28</td><td>2022-04-30</td><td>3</td><td>false</td></tr>\n",
       "<tr><td>17</td><td>2021-10-03</td><td>10</td><td>false</td></tr>\n",
       "<tr><td>155</td><td>2021-10-16</td><td>2</td><td>false</td></tr>\n",
       "<tr><td>203</td><td>2021-10-16</td><td>1</td><td>false</td></tr>\n",
       "<tr><td>68</td><td>2021-10-17</td><td>2486</td><td>false</td></tr>\n",
       "</table>\n",
       "only showing top 20 rows\n"
      ],
      "text/plain": [
       "+--------------+-----------+-----+-------+\n",
       "|pu_location_id|pickup_date|count|weekday|\n",
       "+--------------+-----------+-----+-------+\n",
       "|           191| 2022-03-05|    3|  false|\n",
       "|           235| 2022-03-05|    6|  false|\n",
       "|           209| 2022-03-13|  164|  false|\n",
       "|            12| 2022-03-20|   37|  false|\n",
       "|            89| 2022-03-26|    4|  false|\n",
       "|            23| 2022-04-03|    3|  false|\n",
       "|           117| 2022-04-03|    2|  false|\n",
       "|            35| 2022-04-09|    1|  false|\n",
       "|           192| 2022-04-10|    1|  false|\n",
       "|           250| 2022-04-10|    2|  false|\n",
       "|           235| 2022-04-10|    4|  false|\n",
       "|            55| 2022-04-16|    1|  false|\n",
       "|           231| 2022-04-17| 1083|  false|\n",
       "|           100| 2022-04-17| 1428|  false|\n",
       "|           113| 2022-04-23| 1563|  false|\n",
       "|            28| 2022-04-30|    3|  false|\n",
       "|            17| 2021-10-03|   10|  false|\n",
       "|           155| 2021-10-16|    2|  false|\n",
       "|           203| 2021-10-16|    1|  false|\n",
       "|            68| 2021-10-17| 2486|  false|\n",
       "+--------------+-----------+-----+-------+\n",
       "only showing top 20 rows"
      ]
     },
     "execution_count": 58,
     "metadata": {},
     "output_type": "execute_result"
    }
   ],
   "source": [
    "pickup_weekend_demand = pickup_daily_demand.where(func.col('weekday') == False)\n",
    "pickup_weekend_demand"
   ]
  },
  {
   "cell_type": "code",
   "execution_count": null,
   "id": "c95df64b",
   "metadata": {},
   "outputs": [],
   "source": []
  }
 ],
 "metadata": {
  "kernelspec": {
   "display_name": "Python 3",
   "language": "python",
   "name": "python3"
  },
  "language_info": {
   "codemirror_mode": {
    "name": "ipython",
    "version": 3
   },
   "file_extension": ".py",
   "mimetype": "text/x-python",
   "name": "python",
   "nbconvert_exporter": "python",
   "pygments_lexer": "ipython3",
   "version": "3.7.4"
  }
 },
 "nbformat": 4,
 "nbformat_minor": 5
}
