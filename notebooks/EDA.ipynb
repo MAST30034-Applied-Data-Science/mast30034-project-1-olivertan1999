{
 "cells": [
  {
   "cell_type": "markdown",
   "id": "238267d6",
   "metadata": {},
   "source": [
    "# Exploratory Data Analysis\n",
    "\n",
    "In this section, we seek to find any significant confounding factor that may drive the demand in specific location. This section will help us develop deeper understanding of the data and narrow down the significant features for our predictions/classifications later."
   ]
  },
  {
   "cell_type": "code",
   "execution_count": 29,
   "id": "2cf10602",
   "metadata": {},
   "outputs": [],
   "source": [
    "import sys\n",
    "sys.path.append('../')\n",
    "from scripts.preprocess import preprocess, transform_demand\n",
    "from pyspark.sql import SparkSession\n",
    "from pyspark.sql import functions as func\n",
    "from pyspark.sql.types import BooleanType\n",
    "import shapefile as shp\n",
    "import matplotlib.pyplot as plt\n",
    "import seaborn as sns\n",
    "import pandas as pd\n",
    "import numpy as np\n",
    "import datetime\n",
    "\n",
    "\n",
    "%matplotlib inline\n",
    "sns.set(style='whitegrid', palette='pastel', color_codes=True)\n",
    "sns.mpl.rc('figure', figsize=(10,6))"
   ]
  },
  {
   "cell_type": "code",
   "execution_count": 2,
   "id": "f8d6e0c8",
   "metadata": {},
   "outputs": [],
   "source": [
    "# Starting a Spark session\n",
    "spk = (\n",
    "    SparkSession.builder.appName('Playground')\n",
    "    .config(\"spark.sql.repl.eagerEval.enabled\", True)\n",
    "    .config(\"spark.sql.session.timeZone\", \"Etc/UTC\")\n",
    "    .getOrCreate()\n",
    ")\n",
    "\n",
    "# Read the parquet dataset\n",
    "df = spk.read.parquet('/Users/oliver/Downloads/MAST30034_Python-main/data/tlc_data')\n"
   ]
  },
  {
   "cell_type": "markdown",
   "id": "4eb66318",
   "metadata": {},
   "source": [
    "# TLC Taxi Dataset"
   ]
  },
  {
   "cell_type": "code",
   "execution_count": 3,
   "id": "876f0998",
   "metadata": {},
   "outputs": [],
   "source": [
    "# Clean the raw TLC taxi dataset\n",
    "df = preprocess(df)\n",
    "\n",
    "# Get the daily demand data\n",
    "pickup_daily_demand, dropoff_daily_demand = transform_demand(df)\n",
    "\n",
    "\n",
    "# Get the hourly demand data\n",
    "pickup_hourly_demand, dropoff_hourly_demand = transform_demand(df, 'hour')"
   ]
  },
  {
   "cell_type": "code",
   "execution_count": 5,
   "id": "f09fc49d",
   "metadata": {},
   "outputs": [
    {
     "data": {
      "text/html": [
       "<table border='1'>\n",
       "<tr><th>pu_location_id</th><th>pickup_date</th><th>count</th></tr>\n",
       "<tr><td>55</td><td>2022-03-01</td><td>3</td></tr>\n",
       "<tr><td>229</td><td>2022-03-02</td><td>2360</td></tr>\n",
       "<tr><td>113</td><td>2022-03-02</td><td>1493</td></tr>\n",
       "<tr><td>225</td><td>2022-03-02</td><td>7</td></tr>\n",
       "<tr><td>34</td><td>2022-03-03</td><td>3</td></tr>\n",
       "<tr><td>191</td><td>2022-03-05</td><td>3</td></tr>\n",
       "<tr><td>235</td><td>2022-03-05</td><td>6</td></tr>\n",
       "<tr><td>141</td><td>2022-03-07</td><td>2339</td></tr>\n",
       "<tr><td>129</td><td>2022-03-07</td><td>12</td></tr>\n",
       "<tr><td>125</td><td>2022-03-11</td><td>594</td></tr>\n",
       "<tr><td>54</td><td>2022-03-11</td><td>1</td></tr>\n",
       "<tr><td>209</td><td>2022-03-13</td><td>164</td></tr>\n",
       "<tr><td>231</td><td>2022-03-15</td><td>1405</td></tr>\n",
       "<tr><td>12</td><td>2022-03-20</td><td>37</td></tr>\n",
       "<tr><td>85</td><td>2022-03-22</td><td>4</td></tr>\n",
       "<tr><td>192</td><td>2022-03-22</td><td>2</td></tr>\n",
       "<tr><td>67</td><td>2022-03-23</td><td>2</td></tr>\n",
       "<tr><td>35</td><td>2022-03-24</td><td>3</td></tr>\n",
       "<tr><td>33</td><td>2022-03-24</td><td>30</td></tr>\n",
       "<tr><td>119</td><td>2022-03-24</td><td>3</td></tr>\n",
       "</table>\n",
       "only showing top 20 rows\n"
      ],
      "text/plain": [
       "+--------------+-----------+-----+\n",
       "|pu_location_id|pickup_date|count|\n",
       "+--------------+-----------+-----+\n",
       "|            55| 2022-03-01|    3|\n",
       "|           229| 2022-03-02| 2360|\n",
       "|           113| 2022-03-02| 1493|\n",
       "|           225| 2022-03-02|    7|\n",
       "|            34| 2022-03-03|    3|\n",
       "|           191| 2022-03-05|    3|\n",
       "|           235| 2022-03-05|    6|\n",
       "|           141| 2022-03-07| 2339|\n",
       "|           129| 2022-03-07|   12|\n",
       "|           125| 2022-03-11|  594|\n",
       "|            54| 2022-03-11|    1|\n",
       "|           209| 2022-03-13|  164|\n",
       "|           231| 2022-03-15| 1405|\n",
       "|            12| 2022-03-20|   37|\n",
       "|            85| 2022-03-22|    4|\n",
       "|           192| 2022-03-22|    2|\n",
       "|            67| 2022-03-23|    2|\n",
       "|            35| 2022-03-24|    3|\n",
       "|            33| 2022-03-24|   30|\n",
       "|           119| 2022-03-24|    3|\n",
       "+--------------+-----------+-----+\n",
       "only showing top 20 rows"
      ]
     },
     "execution_count": 5,
     "metadata": {},
     "output_type": "execute_result"
    }
   ],
   "source": [
    "pickup_daily_demand"
   ]
  },
  {
   "cell_type": "markdown",
   "id": "9f92ccc9",
   "metadata": {},
   "source": [
    "## Summary Statistics"
   ]
  },
  {
   "cell_type": "code",
   "execution_count": 6,
   "id": "f38023a0",
   "metadata": {},
   "outputs": [],
   "source": [
    "# Tabulate summary statistics\n",
    "operations = [func.mean, func.stddev, func.min, func.max]\n",
    "exprs = [f(func.col(\"count\")) for f in operations]\n",
    "\n",
    "location_hourly_statistics = pickup_hourly_demand.groupby(['pu_location_id', 'pickup_date']).agg(*exprs)\n",
    "location_daily_statistics = pickup_daily_demand.groupby('pu_location_id').agg(*exprs)"
   ]
  },
  {
   "cell_type": "code",
   "execution_count": 9,
   "id": "2d037a7a",
   "metadata": {},
   "outputs": [
    {
     "data": {
      "text/html": [
       "<table border='1'>\n",
       "<tr><th>pu_location_id</th><th>pickup_date</th><th>avg(count)</th><th>stddev_samp(count)</th><th>min(count)</th><th>max(count)</th></tr>\n",
       "<tr><td>161</td><td>2022-03-23</td><td>242.0</td><td>198.01602921502834</td><td>3</td><td>597</td></tr>\n",
       "<tr><td>237</td><td>2021-11-03</td><td>282.5833333333333</td><td>196.65173733557873</td><td>2</td><td>586</td></tr>\n",
       "<tr><td>79</td><td>2021-11-07</td><td>166.91666666666666</td><td>192.23602265391648</td><td>18</td><td>938</td></tr>\n",
       "<tr><td>237</td><td>2021-11-04</td><td>280.3333333333333</td><td>190.77614167364862</td><td>2</td><td>551</td></tr>\n",
       "<tr><td>161</td><td>2022-03-24</td><td>243.91666666666666</td><td>190.27689586875564</td><td>3</td><td>567</td></tr>\n",
       "<tr><td>161</td><td>2022-03-29</td><td>238.95833333333334</td><td>190.24754564300798</td><td>3</td><td>605</td></tr>\n",
       "<tr><td>237</td><td>2021-11-17</td><td>277.375</td><td>190.2471647506269</td><td>3</td><td>531</td></tr>\n",
       "<tr><td>161</td><td>2022-03-15</td><td>223.45833333333334</td><td>190.1024847553154</td><td>1</td><td>595</td></tr>\n",
       "<tr><td>236</td><td>2021-11-23</td><td>239.33333333333334</td><td>188.02674802010085</td><td>3</td><td>566</td></tr>\n",
       "<tr><td>237</td><td>2021-11-18</td><td>279.375</td><td>187.8255000745662</td><td>2</td><td>516</td></tr>\n",
       "<tr><td>161</td><td>2022-03-22</td><td>227.70833333333334</td><td>187.18265414961064</td><td>4</td><td>586</td></tr>\n",
       "<tr><td>237</td><td>2021-12-08</td><td>283.7083333333333</td><td>187.16802011461036</td><td>1</td><td>513</td></tr>\n",
       "<tr><td>237</td><td>2021-12-15</td><td>271.6666666666667</td><td>187.08767223269754</td><td>4</td><td>517</td></tr>\n",
       "<tr><td>161</td><td>2022-03-28</td><td>204.66666666666666</td><td>185.68127593239996</td><td>1</td><td>597</td></tr>\n",
       "<tr><td>237</td><td>2021-11-09</td><td>262.625</td><td>185.64477826120554</td><td>2</td><td>507</td></tr>\n",
       "<tr><td>237</td><td>2021-12-07</td><td>289.1304347826087</td><td>185.59543106343042</td><td>2</td><td>529</td></tr>\n",
       "<tr><td>237</td><td>2022-04-27</td><td>266.4166666666667</td><td>184.62698391190224</td><td>2</td><td>523</td></tr>\n",
       "<tr><td>237</td><td>2021-12-09</td><td>287.7916666666667</td><td>184.3213118836038</td><td>2</td><td>528</td></tr>\n",
       "<tr><td>237</td><td>2021-11-02</td><td>255.0</td><td>184.29371642311486</td><td>2</td><td>524</td></tr>\n",
       "<tr><td>237</td><td>2021-12-14</td><td>265.7083333333333</td><td>183.85142374888684</td><td>1</td><td>504</td></tr>\n",
       "</table>\n",
       "only showing top 20 rows\n"
      ],
      "text/plain": [
       "+--------------+-----------+------------------+------------------+----------+----------+\n",
       "|pu_location_id|pickup_date|        avg(count)|stddev_samp(count)|min(count)|max(count)|\n",
       "+--------------+-----------+------------------+------------------+----------+----------+\n",
       "|           161| 2022-03-23|             242.0|198.01602921502834|         3|       597|\n",
       "|           237| 2021-11-03| 282.5833333333333|196.65173733557873|         2|       586|\n",
       "|            79| 2021-11-07|166.91666666666666|192.23602265391648|        18|       938|\n",
       "|           237| 2021-11-04| 280.3333333333333|190.77614167364862|         2|       551|\n",
       "|           161| 2022-03-24|243.91666666666666|190.27689586875564|         3|       567|\n",
       "|           161| 2022-03-29|238.95833333333334|190.24754564300798|         3|       605|\n",
       "|           237| 2021-11-17|           277.375| 190.2471647506269|         3|       531|\n",
       "|           161| 2022-03-15|223.45833333333334| 190.1024847553154|         1|       595|\n",
       "|           236| 2021-11-23|239.33333333333334|188.02674802010085|         3|       566|\n",
       "|           237| 2021-11-18|           279.375| 187.8255000745662|         2|       516|\n",
       "|           161| 2022-03-22|227.70833333333334|187.18265414961064|         4|       586|\n",
       "|           237| 2021-12-08| 283.7083333333333|187.16802011461036|         1|       513|\n",
       "|           237| 2021-12-15| 271.6666666666667|187.08767223269754|         4|       517|\n",
       "|           161| 2022-03-28|204.66666666666666|185.68127593239996|         1|       597|\n",
       "|           237| 2021-11-09|           262.625|185.64477826120554|         2|       507|\n",
       "|           237| 2021-12-07| 289.1304347826087|185.59543106343042|         2|       529|\n",
       "|           237| 2022-04-27| 266.4166666666667|184.62698391190224|         2|       523|\n",
       "|           237| 2021-12-09| 287.7916666666667| 184.3213118836038|         2|       528|\n",
       "|           237| 2021-11-02|             255.0|184.29371642311486|         2|       524|\n",
       "|           237| 2021-12-14| 265.7083333333333|183.85142374888684|         1|       504|\n",
       "+--------------+-----------+------------------+------------------+----------+----------+\n",
       "only showing top 20 rows"
      ]
     },
     "execution_count": 9,
     "metadata": {},
     "output_type": "execute_result"
    }
   ],
   "source": [
    "# Examine the statistics of hourly demand focusing on standard deviation\n",
    "location_hourly_statistics.sort(func.col(\"stddev_samp(count)\").desc())"
   ]
  },
  {
   "cell_type": "code",
   "execution_count": 10,
   "id": "18f2be73",
   "metadata": {},
   "outputs": [
    {
     "data": {
      "text/html": [
       "<table border='1'>\n",
       "<tr><th>pu_location_id</th><th>avg(count)</th><th>stddev_samp(count)</th><th>min(count)</th><th>max(count)</th></tr>\n",
       "<tr><td>237</td><td>4683.061320754717</td><td>1307.846125931082</td><td>762</td><td>6907</td></tr>\n",
       "<tr><td>161</td><td>3828.9292452830186</td><td>1120.9565734317307</td><td>526</td><td>5854</td></tr>\n",
       "<tr><td>79</td><td>2544.7971698113206</td><td>1117.1535517515056</td><td>758</td><td>5331</td></tr>\n",
       "<tr><td>236</td><td>4235.278301886792</td><td>1107.4944621948969</td><td>779</td><td>6051</td></tr>\n",
       "<tr><td>132</td><td>3939.3490566037735</td><td>892.9362878027387</td><td>420</td><td>5887</td></tr>\n",
       "<tr><td>162</td><td>3157.627358490566</td><td>865.726562682048</td><td>562</td><td>4790</td></tr>\n",
       "<tr><td>138</td><td>2717.8632075471696</td><td>713.2700047545486</td><td>50</td><td>4373</td></tr>\n",
       "<tr><td>249</td><td>2105.0707547169814</td><td>671.2235765799452</td><td>631</td><td>3763</td></tr>\n",
       "<tr><td>163</td><td>2783.9150943396226</td><td>666.7183495943195</td><td>550</td><td>3979</td></tr>\n",
       "<tr><td>142</td><td>3225.2216981132074</td><td>664.099813274643</td><td>1036</td><td>4552</td></tr>\n",
       "<tr><td>170</td><td>2975.566037735849</td><td>659.0957257585094</td><td>840</td><td>3978</td></tr>\n",
       "<tr><td>230</td><td>2925.3915094339623</td><td>608.503262441133</td><td>825</td><td>3991</td></tr>\n",
       "<tr><td>48</td><td>3009.448113207547</td><td>591.8485717581465</td><td>1298</td><td>4144</td></tr>\n",
       "<tr><td>140</td><td>2003.4292452830189</td><td>581.2005712099594</td><td>477</td><td>2735</td></tr>\n",
       "<tr><td>234</td><td>2594.5377358490564</td><td>570.7903836579288</td><td>569</td><td>3529</td></tr>\n",
       "<tr><td>107</td><td>2345.938679245283</td><td>557.8236917731807</td><td>718</td><td>3702</td></tr>\n",
       "<tr><td>186</td><td>3199.8443396226417</td><td>557.6866055972611</td><td>647</td><td>4113</td></tr>\n",
       "<tr><td>148</td><td>908.5801886792453</td><td>532.2967032296541</td><td>243</td><td>2365</td></tr>\n",
       "<tr><td>239</td><td>2827.8254716981132</td><td>522.5095683491012</td><td>729</td><td>3807</td></tr>\n",
       "<tr><td>68</td><td>2422.5754716981132</td><td>464.9652577983564</td><td>755</td><td>3403</td></tr>\n",
       "</table>\n",
       "only showing top 20 rows\n"
      ],
      "text/plain": [
       "+--------------+------------------+------------------+----------+----------+\n",
       "|pu_location_id|        avg(count)|stddev_samp(count)|min(count)|max(count)|\n",
       "+--------------+------------------+------------------+----------+----------+\n",
       "|           237| 4683.061320754717| 1307.846125931082|       762|      6907|\n",
       "|           161|3828.9292452830186|1120.9565734317307|       526|      5854|\n",
       "|            79|2544.7971698113206|1117.1535517515056|       758|      5331|\n",
       "|           236| 4235.278301886792|1107.4944621948969|       779|      6051|\n",
       "|           132|3939.3490566037735| 892.9362878027387|       420|      5887|\n",
       "|           162| 3157.627358490566|  865.726562682048|       562|      4790|\n",
       "|           138|2717.8632075471696| 713.2700047545486|        50|      4373|\n",
       "|           249|2105.0707547169814| 671.2235765799452|       631|      3763|\n",
       "|           163|2783.9150943396226| 666.7183495943195|       550|      3979|\n",
       "|           142|3225.2216981132074|  664.099813274643|      1036|      4552|\n",
       "|           170| 2975.566037735849| 659.0957257585094|       840|      3978|\n",
       "|           230|2925.3915094339623|  608.503262441133|       825|      3991|\n",
       "|            48| 3009.448113207547| 591.8485717581465|      1298|      4144|\n",
       "|           140|2003.4292452830189| 581.2005712099594|       477|      2735|\n",
       "|           234|2594.5377358490564| 570.7903836579288|       569|      3529|\n",
       "|           107| 2345.938679245283| 557.8236917731807|       718|      3702|\n",
       "|           186|3199.8443396226417| 557.6866055972611|       647|      4113|\n",
       "|           148| 908.5801886792453| 532.2967032296541|       243|      2365|\n",
       "|           239|2827.8254716981132| 522.5095683491012|       729|      3807|\n",
       "|            68|2422.5754716981132| 464.9652577983564|       755|      3403|\n",
       "+--------------+------------------+------------------+----------+----------+\n",
       "only showing top 20 rows"
      ]
     },
     "execution_count": 10,
     "metadata": {},
     "output_type": "execute_result"
    }
   ],
   "source": [
    "# Examine the statistics of daily demand focusing on standard deviation\n",
    "location_daily_statistics.sort(func.col(\"stddev_samp(count)\").desc())"
   ]
  },
  {
   "cell_type": "markdown",
   "id": "f39a884e",
   "metadata": {},
   "source": [
    "Here we notice that most of the locations with high standard deviations are located at city center. We hypothesize that this is due to the confounding effects of day in the week (more crowded in the city during weekends and public holidays) as well as weather of the day.\n",
    "\n",
    "To check if this is the case, we can split the daily demand dataset into weekdays and weekends to see if the standard deviation reduces significantly."
   ]
  },
  {
   "cell_type": "code",
   "execution_count": 32,
   "id": "537d8fbf",
   "metadata": {},
   "outputs": [],
   "source": [
    "# Adding weekday check\n",
    "# @func.udf(BooleanType)\n",
    "# def weekday(date):\n",
    "#     return date.weekday() < 5\n",
    "\n",
    "weekday_udf = func.udf(lambda x: x.weekday() < 5)\n",
    "\n",
    "pickup_daily_demand = pickup_daily_demand.withColumn(\n",
    "    'weekday',\n",
    "    weekday_udf('pickup_date')\n",
    ")"
   ]
  },
  {
   "cell_type": "code",
   "execution_count": 42,
   "id": "8cb70df4",
   "metadata": {},
   "outputs": [],
   "source": [
    "import os\n",
    "os.environ[\"PYSPARK_PYTHON\"] = '/opt/anaconda3/bin/python3'\n",
    "os.environ[\"PYSPARK_DRIVER_PYTHON\"] = '/opt/anaconda3/bin/python3'"
   ]
  },
  {
   "cell_type": "code",
   "execution_count": 41,
   "id": "82215af7",
   "metadata": {},
   "outputs": [
    {
     "ename": "PythonException",
     "evalue": "\n  An exception was thrown from the Python worker. Please see the stack trace below.\nTraceback (most recent call last):\n  File \"/opt/anaconda3/lib/python3.7/site-packages/pyspark/python/lib/pyspark.zip/pyspark/worker.py\", line 473, in main\n    raise Exception((\"Python in worker has different version %s than that in \" +\nException: Python in worker has different version 3.8 than that in driver 3.7, PySpark cannot run with different minor versions. Please check environment variables PYSPARK_PYTHON and PYSPARK_DRIVER_PYTHON are correctly set.\n",
     "output_type": "error",
     "traceback": [
      "\u001b[0;31m---------------------------------------------------------------------------\u001b[0m",
      "\u001b[0;31mPythonException\u001b[0m                           Traceback (most recent call last)",
      "\u001b[0;32m/opt/anaconda3/lib/python3.7/site-packages/IPython/core/formatters.py\u001b[0m in \u001b[0;36m__call__\u001b[0;34m(self, obj)\u001b[0m\n\u001b[1;32m    343\u001b[0m             \u001b[0mmethod\u001b[0m \u001b[0;34m=\u001b[0m \u001b[0mget_real_method\u001b[0m\u001b[0;34m(\u001b[0m\u001b[0mobj\u001b[0m\u001b[0;34m,\u001b[0m \u001b[0mself\u001b[0m\u001b[0;34m.\u001b[0m\u001b[0mprint_method\u001b[0m\u001b[0;34m)\u001b[0m\u001b[0;34m\u001b[0m\u001b[0;34m\u001b[0m\u001b[0m\n\u001b[1;32m    344\u001b[0m             \u001b[0;32mif\u001b[0m \u001b[0mmethod\u001b[0m \u001b[0;32mis\u001b[0m \u001b[0;32mnot\u001b[0m \u001b[0;32mNone\u001b[0m\u001b[0;34m:\u001b[0m\u001b[0;34m\u001b[0m\u001b[0;34m\u001b[0m\u001b[0m\n\u001b[0;32m--> 345\u001b[0;31m                 \u001b[0;32mreturn\u001b[0m \u001b[0mmethod\u001b[0m\u001b[0;34m(\u001b[0m\u001b[0;34m)\u001b[0m\u001b[0;34m\u001b[0m\u001b[0;34m\u001b[0m\u001b[0m\n\u001b[0m\u001b[1;32m    346\u001b[0m             \u001b[0;32mreturn\u001b[0m \u001b[0;32mNone\u001b[0m\u001b[0;34m\u001b[0m\u001b[0;34m\u001b[0m\u001b[0m\n\u001b[1;32m    347\u001b[0m         \u001b[0;32melse\u001b[0m\u001b[0;34m:\u001b[0m\u001b[0;34m\u001b[0m\u001b[0;34m\u001b[0m\u001b[0m\n",
      "\u001b[0;32m/opt/anaconda3/lib/python3.7/site-packages/pyspark/sql/dataframe.py\u001b[0m in \u001b[0;36m_repr_html_\u001b[0;34m(self)\u001b[0m\n\u001b[1;32m    505\u001b[0m             \u001b[0mmax_num_rows\u001b[0m \u001b[0;34m=\u001b[0m \u001b[0mmax\u001b[0m\u001b[0;34m(\u001b[0m\u001b[0mself\u001b[0m\u001b[0;34m.\u001b[0m\u001b[0msql_ctx\u001b[0m\u001b[0;34m.\u001b[0m\u001b[0m_conf\u001b[0m\u001b[0;34m.\u001b[0m\u001b[0mreplEagerEvalMaxNumRows\u001b[0m\u001b[0;34m(\u001b[0m\u001b[0;34m)\u001b[0m\u001b[0;34m,\u001b[0m \u001b[0;36m0\u001b[0m\u001b[0;34m)\u001b[0m\u001b[0;34m\u001b[0m\u001b[0;34m\u001b[0m\u001b[0m\n\u001b[1;32m    506\u001b[0m             sock_info = self._jdf.getRowsToPython(\n\u001b[0;32m--> 507\u001b[0;31m                 max_num_rows, self.sql_ctx._conf.replEagerEvalTruncate())\n\u001b[0m\u001b[1;32m    508\u001b[0m             \u001b[0mrows\u001b[0m \u001b[0;34m=\u001b[0m \u001b[0mlist\u001b[0m\u001b[0;34m(\u001b[0m\u001b[0m_load_from_socket\u001b[0m\u001b[0;34m(\u001b[0m\u001b[0msock_info\u001b[0m\u001b[0;34m,\u001b[0m \u001b[0mBatchedSerializer\u001b[0m\u001b[0;34m(\u001b[0m\u001b[0mPickleSerializer\u001b[0m\u001b[0;34m(\u001b[0m\u001b[0;34m)\u001b[0m\u001b[0;34m)\u001b[0m\u001b[0;34m)\u001b[0m\u001b[0;34m)\u001b[0m\u001b[0;34m\u001b[0m\u001b[0;34m\u001b[0m\u001b[0m\n\u001b[1;32m    509\u001b[0m             \u001b[0mhead\u001b[0m \u001b[0;34m=\u001b[0m \u001b[0mrows\u001b[0m\u001b[0;34m[\u001b[0m\u001b[0;36m0\u001b[0m\u001b[0;34m]\u001b[0m\u001b[0;34m\u001b[0m\u001b[0;34m\u001b[0m\u001b[0m\n",
      "\u001b[0;32m/opt/anaconda3/lib/python3.7/site-packages/py4j/java_gateway.py\u001b[0m in \u001b[0;36m__call__\u001b[0;34m(self, *args)\u001b[0m\n\u001b[1;32m   1308\u001b[0m         \u001b[0manswer\u001b[0m \u001b[0;34m=\u001b[0m \u001b[0mself\u001b[0m\u001b[0;34m.\u001b[0m\u001b[0mgateway_client\u001b[0m\u001b[0;34m.\u001b[0m\u001b[0msend_command\u001b[0m\u001b[0;34m(\u001b[0m\u001b[0mcommand\u001b[0m\u001b[0;34m)\u001b[0m\u001b[0;34m\u001b[0m\u001b[0;34m\u001b[0m\u001b[0m\n\u001b[1;32m   1309\u001b[0m         return_value = get_return_value(\n\u001b[0;32m-> 1310\u001b[0;31m             answer, self.gateway_client, self.target_id, self.name)\n\u001b[0m\u001b[1;32m   1311\u001b[0m \u001b[0;34m\u001b[0m\u001b[0m\n\u001b[1;32m   1312\u001b[0m         \u001b[0;32mfor\u001b[0m \u001b[0mtemp_arg\u001b[0m \u001b[0;32min\u001b[0m \u001b[0mtemp_args\u001b[0m\u001b[0;34m:\u001b[0m\u001b[0;34m\u001b[0m\u001b[0;34m\u001b[0m\u001b[0m\n",
      "\u001b[0;32m/opt/anaconda3/lib/python3.7/site-packages/pyspark/sql/utils.py\u001b[0m in \u001b[0;36mdeco\u001b[0;34m(*a, **kw)\u001b[0m\n\u001b[1;32m    115\u001b[0m                 \u001b[0;31m# Hide where the exception came from that shows a non-Pythonic\u001b[0m\u001b[0;34m\u001b[0m\u001b[0;34m\u001b[0m\u001b[0;34m\u001b[0m\u001b[0m\n\u001b[1;32m    116\u001b[0m                 \u001b[0;31m# JVM exception message.\u001b[0m\u001b[0;34m\u001b[0m\u001b[0;34m\u001b[0m\u001b[0;34m\u001b[0m\u001b[0m\n\u001b[0;32m--> 117\u001b[0;31m                 \u001b[0;32mraise\u001b[0m \u001b[0mconverted\u001b[0m \u001b[0;32mfrom\u001b[0m \u001b[0;32mNone\u001b[0m\u001b[0;34m\u001b[0m\u001b[0;34m\u001b[0m\u001b[0m\n\u001b[0m\u001b[1;32m    118\u001b[0m             \u001b[0;32melse\u001b[0m\u001b[0;34m:\u001b[0m\u001b[0;34m\u001b[0m\u001b[0;34m\u001b[0m\u001b[0m\n\u001b[1;32m    119\u001b[0m                 \u001b[0;32mraise\u001b[0m\u001b[0;34m\u001b[0m\u001b[0;34m\u001b[0m\u001b[0m\n",
      "\u001b[0;31mPythonException\u001b[0m: \n  An exception was thrown from the Python worker. Please see the stack trace below.\nTraceback (most recent call last):\n  File \"/opt/anaconda3/lib/python3.7/site-packages/pyspark/python/lib/pyspark.zip/pyspark/worker.py\", line 473, in main\n    raise Exception((\"Python in worker has different version %s than that in \" +\nException: Python in worker has different version 3.8 than that in driver 3.7, PySpark cannot run with different minor versions. Please check environment variables PYSPARK_PYTHON and PYSPARK_DRIVER_PYTHON are correctly set.\n"
     ]
    },
    {
     "data": {
      "text/plain": [
       "DataFrame[pu_location_id: bigint, pickup_date: date, count: bigint, weekday: string]"
      ]
     },
     "execution_count": 41,
     "metadata": {},
     "output_type": "execute_result"
    }
   ],
   "source": [
    "pickup_daily_demand"
   ]
  },
  {
   "cell_type": "code",
   "execution_count": 24,
   "id": "2761f824",
   "metadata": {},
   "outputs": [
    {
     "data": {
      "text/plain": [
       "True"
      ]
     },
     "execution_count": 24,
     "metadata": {},
     "output_type": "execute_result"
    }
   ],
   "source": [
    "weekday(datetime.datetime(year=2022, month=3, day=4))"
   ]
  },
  {
   "cell_type": "code",
   "execution_count": 13,
   "id": "9b0c81b0",
   "metadata": {},
   "outputs": [
    {
     "ename": "AttributeError",
     "evalue": "'str' object has no attribute 'weekday'",
     "output_type": "error",
     "traceback": [
      "\u001b[0;31m---------------------------------------------------------------------------\u001b[0m",
      "\u001b[0;31mAttributeError\u001b[0m                            Traceback (most recent call last)",
      "\u001b[0;32m<ipython-input-13-2771cd350505>\u001b[0m in \u001b[0;36m<module>\u001b[0;34m\u001b[0m\n\u001b[0;32m----> 1\u001b[0;31m \u001b[0mweekday\u001b[0m\u001b[0;34m(\u001b[0m\u001b[0;34m'2022-2-15'\u001b[0m\u001b[0;34m)\u001b[0m\u001b[0;34m\u001b[0m\u001b[0;34m\u001b[0m\u001b[0m\n\u001b[0m",
      "\u001b[0;32m<ipython-input-12-4237d5fd454f>\u001b[0m in \u001b[0;36mweekday\u001b[0;34m(date)\u001b[0m\n\u001b[1;32m      1\u001b[0m \u001b[0;31m# Adding weekday check\u001b[0m\u001b[0;34m\u001b[0m\u001b[0;34m\u001b[0m\u001b[0;34m\u001b[0m\u001b[0m\n\u001b[1;32m      2\u001b[0m \u001b[0;32mdef\u001b[0m \u001b[0mweekday\u001b[0m\u001b[0;34m(\u001b[0m\u001b[0mdate\u001b[0m\u001b[0;34m)\u001b[0m\u001b[0;34m:\u001b[0m\u001b[0;34m\u001b[0m\u001b[0;34m\u001b[0m\u001b[0m\n\u001b[0;32m----> 3\u001b[0;31m     \u001b[0;32mreturn\u001b[0m \u001b[0mdate\u001b[0m\u001b[0;34m.\u001b[0m\u001b[0mweekday\u001b[0m\u001b[0;34m(\u001b[0m\u001b[0;34m)\u001b[0m\u001b[0;34m\u001b[0m\u001b[0;34m\u001b[0m\u001b[0m\n\u001b[0m\u001b[1;32m      4\u001b[0m \u001b[0;34m\u001b[0m\u001b[0m\n\u001b[1;32m      5\u001b[0m \u001b[0;31m# location_daily_demand = location_daily_demand.withColumn('weekday',\u001b[0m\u001b[0;34m\u001b[0m\u001b[0;34m\u001b[0m\u001b[0;34m\u001b[0m\u001b[0m\n",
      "\u001b[0;31mAttributeError\u001b[0m: 'str' object has no attribute 'weekday'"
     ]
    }
   ],
   "source": [
    "weekday('2022-2-15')"
   ]
  },
  {
   "cell_type": "code",
   "execution_count": null,
   "id": "24d019f9",
   "metadata": {},
   "outputs": [],
   "source": []
  }
 ],
 "metadata": {
  "kernelspec": {
   "display_name": "Python 3",
   "language": "python",
   "name": "python3"
  },
  "language_info": {
   "codemirror_mode": {
    "name": "ipython",
    "version": 3
   },
   "file_extension": ".py",
   "mimetype": "text/x-python",
   "name": "python",
   "nbconvert_exporter": "python",
   "pygments_lexer": "ipython3",
   "version": "3.7.4"
  }
 },
 "nbformat": 4,
 "nbformat_minor": 5
}
