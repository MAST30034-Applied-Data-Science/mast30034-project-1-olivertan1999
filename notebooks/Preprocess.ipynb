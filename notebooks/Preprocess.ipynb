{
 "cells": [
  {
   "cell_type": "markdown",
   "id": "b317e5ea",
   "metadata": {},
   "source": [
    "# Data Preprocessing\n",
    "\n",
    "In this section, we will attempt to clean the following datasets:\n",
    "   - TLC Yellow Taxi Trips Record 2021/10-2022-04\n",
    "\n",
    "\n",
    "<div class=\"alert alert-block alert-info\">\n",
    "<b>Tip:</b> Use blue boxes (alert-info) for tips and notes. \n",
    "If it’s a note, you don’t have to include the word “Note”.\n",
    "</div>\n",
    "\n",
    "<div class=\"alert alert-block alert-success\">\n",
    "<b>Up to you:</b> Use green boxes sparingly, and only for some specific \n",
    "purpose that the other boxes can't cover. For example, if you have a lot \n",
    "of related content to link to, maybe you decide to use green boxes for \n",
    "related links from each section of a notebook.\n",
    "</div>\n",
    "\n",
    "***"
   ]
  },
  {
   "cell_type": "markdown",
   "id": "1f845ead",
   "metadata": {},
   "source": [
    "## Import Libraries"
   ]
  },
  {
   "cell_type": "code",
   "execution_count": 1,
   "id": "c152be49",
   "metadata": {},
   "outputs": [],
   "source": [
    "from pyspark.sql import SparkSession\n",
    "from pyspark.sql import functions as func\n",
    "import shapefile as shp\n",
    "import matplotlib.pyplot as plt\n",
    "import seaborn as sns\n",
    "import pandas as pd\n",
    "import numpy as np\n",
    "\n",
    "%matplotlib inline\n",
    "sns.set(style='whitegrid', palette='pastel', color_codes=True)\n",
    "sns.mpl.rc('figure', figsize=(10,6))"
   ]
  },
  {
   "cell_type": "markdown",
   "id": "a809d65d",
   "metadata": {},
   "source": [
    "## Exploratory Data Analysis"
   ]
  },
  {
   "cell_type": "code",
   "execution_count": 2,
   "id": "87989e63",
   "metadata": {},
   "outputs": [],
   "source": [
    "# Starting a Spark session\n",
    "spk = (\n",
    "    SparkSession.builder.appName('Playground')\n",
    "    .config(\"spark.sql.repl.eagerEval.enabled\", True)\n",
    "    .getOrCreate()\n",
    ")\n",
    "\n",
    "# Read the parquet dataset\n",
    "df = spk.read.parquet('/Users/oliver/Downloads/MAST30034_Python-main/data/tlc_data')"
   ]
  },
  {
   "cell_type": "code",
   "execution_count": 3,
   "id": "96ea46d1",
   "metadata": {},
   "outputs": [
    {
     "name": "stdout",
     "output_type": "stream",
     "text": [
      "root\n",
      " |-- VendorID: long (nullable = true)\n",
      " |-- tpep_pickup_datetime: timestamp (nullable = true)\n",
      " |-- tpep_dropoff_datetime: timestamp (nullable = true)\n",
      " |-- passenger_count: double (nullable = true)\n",
      " |-- trip_distance: double (nullable = true)\n",
      " |-- RatecodeID: double (nullable = true)\n",
      " |-- store_and_fwd_flag: string (nullable = true)\n",
      " |-- PULocationID: long (nullable = true)\n",
      " |-- DOLocationID: long (nullable = true)\n",
      " |-- payment_type: long (nullable = true)\n",
      " |-- fare_amount: double (nullable = true)\n",
      " |-- extra: double (nullable = true)\n",
      " |-- mta_tax: double (nullable = true)\n",
      " |-- tip_amount: double (nullable = true)\n",
      " |-- tolls_amount: double (nullable = true)\n",
      " |-- improvement_surcharge: double (nullable = true)\n",
      " |-- total_amount: double (nullable = true)\n",
      " |-- congestion_surcharge: double (nullable = true)\n",
      " |-- airport_fee: double (nullable = true)\n",
      "\n",
      "Number of instances:  22821986 \n",
      " Number of features:  19\n"
     ]
    }
   ],
   "source": [
    "# Inspect the metadata\n",
    "df.printSchema()\n",
    "\n",
    "print(\"Number of instances: \", df.count(), '\\n',\n",
    "      \"Number of features: \", len(df.columns))"
   ]
  },
  {
   "cell_type": "code",
   "execution_count": 4,
   "id": "e4d4f3ff",
   "metadata": {},
   "outputs": [],
   "source": [
    "# Make all variable names consistent\n",
    "column_name = {'VendorID': 'vendor_id', \n",
    "               'RatecodeID': 'rate_code_id', \n",
    "               'PULocationID': 'pu_location_id',\n",
    "               'DOLocationID': 'do_location_id'}\n",
    "\n",
    "for key, value in column_name.items():\n",
    "    df = df.withColumnRenamed(key,value)"
   ]
  },
  {
   "cell_type": "code",
   "execution_count": 5,
   "id": "610621b0",
   "metadata": {},
   "outputs": [
    {
     "data": {
      "text/plain": [
       "['vendor_id',\n",
       " 'tpep_pickup_datetime',\n",
       " 'tpep_dropoff_datetime',\n",
       " 'passenger_count',\n",
       " 'trip_distance',\n",
       " 'rate_code_id',\n",
       " 'store_and_fwd_flag',\n",
       " 'pu_location_id',\n",
       " 'do_location_id',\n",
       " 'payment_type',\n",
       " 'fare_amount',\n",
       " 'extra',\n",
       " 'mta_tax',\n",
       " 'tip_amount',\n",
       " 'tolls_amount',\n",
       " 'improvement_surcharge',\n",
       " 'total_amount',\n",
       " 'congestion_surcharge',\n",
       " 'airport_fee']"
      ]
     },
     "execution_count": 5,
     "metadata": {},
     "output_type": "execute_result"
    }
   ],
   "source": [
    "# Check variable names\n",
    "df.columns"
   ]
  },
  {
   "cell_type": "markdown",
   "id": "2f20bbab",
   "metadata": {},
   "source": [
    "## Check for outliers in the data based on each feature"
   ]
  },
  {
   "cell_type": "code",
   "execution_count": 41,
   "id": "681daf6e",
   "metadata": {},
   "outputs": [],
   "source": [
    "# Extract trip duration in minutes\n",
    "df = df.withColumn('trip_duration_min',\n",
    "                   (func.col('tpep_dropoff_datetime').cast('long') - \n",
    "                    func.col('tpep_pickup_datetime').cast('long')) / 60)\n",
    "\n",
    "# Extract the date as a standalone feature\n",
    "df = df.withColumn(\"pickup_date\", \n",
    "                   func.to_date(func.col(\"tpep_pickup_datetime\")))\n",
    "\n",
    "df = df.withColumn(\"dropoff_date\",\n",
    "                   func.to_date(func.col(\"tpep_dropoff_datetime\")))\n"
   ]
  },
  {
   "cell_type": "code",
   "execution_count": 43,
   "id": "a5054165",
   "metadata": {},
   "outputs": [
    {
     "name": "stdout",
     "output_type": "stream",
     "text": [
      "tpep_pickup_datetime:\n",
      "\tMax: 2028-12-07 15:48:15 \n",
      "\tMin: 2003-01-01 11:10:06\n",
      "\n",
      "tpep_dropoff_datetime:\n",
      "\tMax: 2028-12-07 16:29:13 \n",
      "\tMin: 2003-01-01 11:38:46 \n",
      "\n",
      "-RECORD 0------------------------------------\n",
      " summary               | count               \n",
      " passenger_count       | 22045834            \n",
      " trip_distance         | 22821986            \n",
      " trip_duration_min     | 22821986            \n",
      " fare_amount           | 22821986            \n",
      " extra                 | 22821986            \n",
      " mta_tax               | 22821986            \n",
      " tip_amount            | 22821986            \n",
      " tolls_amount          | 22821986            \n",
      " improvement_surcharge | 22821986            \n",
      " total_amount          | 22821986            \n",
      " congestion_surcharge  | 22045834            \n",
      " airport_fee           | 22045834            \n",
      "-RECORD 1------------------------------------\n",
      " summary               | mean                \n",
      " passenger_count       | 1.410832132728569   \n",
      " trip_distance         | 6.379380374258177   \n",
      " trip_duration_min     | 16.715115467310635  \n",
      " fare_amount           | 13.865717647901148  \n",
      " extra                 | 1.0333181183267846  \n",
      " mta_tax               | 0.4911395537618864  \n",
      " tip_amount            | 2.57474553310225    \n",
      " tolls_amount          | 0.46049136477614083 \n",
      " improvement_surcharge | 0.2969021320264288  \n",
      " total_amount          | 20.396416861681125  \n",
      " congestion_surcharge  | 2.30319136713086    \n",
      " airport_fee           | 0.08284875954341306 \n",
      "-RECORD 2------------------------------------\n",
      " summary               | stddev              \n",
      " passenger_count       | 0.9954703175189176  \n",
      " trip_distance         | 661.132110106012    \n",
      " trip_duration_min     | 59.55430501274111   \n",
      " fare_amount           | 84.96723332573995   \n",
      " extra                 | 1.251623778283688   \n",
      " mta_tax               | 0.08305493387885954 \n",
      " tip_amount            | 3.0204520779616524  \n",
      " tolls_amount          | 1.8974844898543346  \n",
      " improvement_surcharge | 0.04257411661739258 \n",
      " total_amount          | 85.50575473069716   \n",
      " congestion_surcharge  | 0.7112556316089476  \n",
      " airport_fee           | 0.31317650935368135 \n",
      "-RECORD 3------------------------------------\n",
      " summary               | min                 \n",
      " passenger_count       | 0.0                 \n",
      " trip_distance         | 0.0                 \n",
      " trip_duration_min     | -104472.58333333333 \n",
      " fare_amount           | -2564.0             \n",
      " extra                 | -4.5                \n",
      " mta_tax               | -0.55               \n",
      " tip_amount            | -410.0              \n",
      " tolls_amount          | -88.75              \n",
      " improvement_surcharge | -0.3                \n",
      " total_amount          | -2567.8             \n",
      " congestion_surcharge  | -2.5                \n",
      " airport_fee           | -1.25               \n",
      "-RECORD 4------------------------------------\n",
      " summary               | max                 \n",
      " passenger_count       | 9.0                 \n",
      " trip_distance         | 351613.36           \n",
      " trip_duration_min     | 29336.516666666666  \n",
      " fare_amount           | 401092.32           \n",
      " extra                 | 33.5                \n",
      " mta_tax               | 38.8                \n",
      " tip_amount            | 999.99              \n",
      " tolls_amount          | 911.87              \n",
      " improvement_surcharge | 0.3                 \n",
      " total_amount          | 401095.62           \n",
      " congestion_surcharge  | 2.75                \n",
      " airport_fee           | 1.25                \n",
      "\n"
     ]
    }
   ],
   "source": [
    "# Check earliest and latest of datetime variables\n",
    "print(\"tpep_pickup_datetime:\\n\\tMax:\", df.agg({\"tpep_pickup_datetime\": \"max\"}).collect()[0][0],\n",
    "     \"\\n\\tMin:\", df.agg({\"tpep_pickup_datetime\": \"min\"}).collect()[0][0])\n",
    "\n",
    "print(\"\\ntpep_dropoff_datetime:\\n\\tMax:\", df.agg({\"tpep_dropoff_datetime\": \"max\"}).collect()[0][0],\n",
    "     \"\\n\\tMin:\", df.agg({\"tpep_dropoff_datetime\": \"min\"}).collect()[0][0], '\\n')\n",
    "\n",
    "# Check shortest and longest trip duration\n",
    "# print(\"trip_duration_min:\\n\\tMax:\", df.agg({\"trip_duration_min\": \"max\"}).collect()[0][0],\n",
    "#      \"\\n\\tMin:\", df.agg({\"trip_duration_min\": \"min\"}).collect()[0][0])\n",
    "\n",
    "# Check other variables\n",
    "df.select(['passenger_count',\n",
    "           'trip_distance',\n",
    "           'trip_duration_min',\n",
    "           'fare_amount',\n",
    "           'extra',\n",
    "           'mta_tax',\n",
    "           'tip_amount',\n",
    "           'tolls_amount',\n",
    "           'improvement_surcharge',\n",
    "           'total_amount',\n",
    "           'congestion_surcharge',\n",
    "           'airport_fee']).describe().show(vertical=True)"
   ]
  },
  {
   "cell_type": "markdown",
   "id": "9fb28fd5",
   "metadata": {},
   "source": [
    "Despite having retrieved the data from 2021-10 to 2022-04, the dataset still contains records from previous years. The numerical features such as `trip_distance`, `fare_amount`, `tolls_amount`, `total_amount`, `trip_duration` also contain unrealistic values which need to be removed."
   ]
  },
  {
   "cell_type": "markdown",
   "id": "33ec9ae0",
   "metadata": {},
   "source": [
    "## Data Cleaning"
   ]
  },
  {
   "cell_type": "markdown",
   "id": "bf76543b",
   "metadata": {},
   "source": [
    "To clean the code, we need to first consider the minimum possible and logical value for each column:\n",
    "- `extra`, `mta_tax`, `tip_amount`, `tolls_amount`, `improvement_surcharge`, `congestion_surcharge` and `airport_fee` can take value greater or equal to 0.\n",
    "- `passenger_count` must take value greater or equal to 1.\n",
    "- We assume that the minimum `trip_distance` and `trip_duration_min` for a regular ride is atleast 0.5 miles and 1 min respectively.\n",
    "- Based on the TLC website, the initial fare of each ride is \\$2.5 so we assume that minimum `fare_amount` is \\$2.5"
   ]
  },
  {
   "cell_type": "code",
   "execution_count": 62,
   "id": "840be555",
   "metadata": {},
   "outputs": [],
   "source": [
    "# Filter based on the minimum possible values for numerical features\n",
    "df1 = df.where((func.col('passenger_count') > 0) &\n",
    "               (func.col('trip_distance') > 0.5) &\n",
    "               (func.col('trip_duration_min') > 1) &\n",
    "               (func.col('fare_amount') >= 2.50) &\n",
    "               (func.col('extra') >= 0) &\n",
    "               (func.col('mta_tax') >= 0) &\n",
    "               (func.col('tip_amount') >= 0) &\n",
    "               (func.col('tolls_amount') >= 0) &\n",
    "               (func.col('improvement_surcharge') >= 0) &\n",
    "               (func.col('total_amount') >= 0) &\n",
    "               (func.col('congestion_surcharge') >= 0) &\n",
    "               (func.col('airport_fee') >= 0))"
   ]
  },
  {
   "cell_type": "markdown",
   "id": "1a4decc1",
   "metadata": {},
   "source": [
    "Since the dataset is too large, it is not feasible to check the outlier individually for each numerical column. So instead, we looked at the 99.99th percentile of the data and decide if the value is logical and possible.\n",
    "\n",
    "We also capped the `trip_duration_min` to atmost 5 hours (300 mins)."
   ]
  },
  {
   "cell_type": "code",
   "execution_count": 63,
   "id": "ed3d6517",
   "metadata": {},
   "outputs": [],
   "source": [
    "# Filter the columns to cover 99.99 percentile of the data for numerical features\n",
    "df1 = df1.where((func.col('fare_amount') <= df1.selectExpr('percentile(fare_amount, 0.9999)').collect()[0][0]) &\n",
    "                (func.col('trip_distance') <= df1.selectExpr('percentile(trip_distance, 0.9999)').collect()[0][0]) &\n",
    "                (func.col('tip_amount') <= df1.selectExpr('percentile(tip_amount, 0.9999)').collect()[0][0]) &\n",
    "                (func.col('total_amount') <= df1.selectExpr('percentile(total_amount, 0.9999)').collect()[0][0]) &\n",
    "                (func.col('tolls_amount') <= df1.selectExpr('percentile(tolls_amount, 0.9999)').collect()[0][0]) &\n",
    "                (func.col('trip_duration_min') <= 300))"
   ]
  },
  {
   "cell_type": "code",
   "execution_count": 64,
   "id": "97190f48",
   "metadata": {},
   "outputs": [],
   "source": [
    "# Filter the period to between 2021-10 to 2022-04\n",
    "df1 = df1.where((func.col(\"pickup_date\") >= '2021-10-01') & \n",
    "                (func.col(\"dropoff_date\") >= '2021-10-01') &\n",
    "                (func.col(\"pickup_date\") <= '2022-04-30') & \n",
    "                (func.col(\"dropoff_date\") <= '2022-04-30'))"
   ]
  },
  {
   "cell_type": "code",
   "execution_count": 65,
   "id": "1ecf9229",
   "metadata": {},
   "outputs": [
    {
     "data": {
      "text/html": [
       "<table border='1'>\n",
       "<tr><th>summary</th><th>passenger_count</th><th>trip_distance</th><th>trip_duration_min</th><th>fare_amount</th><th>extra</th><th>mta_tax</th><th>tip_amount</th><th>tolls_amount</th><th>improvement_surcharge</th><th>total_amount</th><th>congestion_surcharge</th><th>airport_fee</th></tr>\n",
       "<tr><td>count</td><td>20250570</td><td>20250570</td><td>20250570</td><td>20250570</td><td>20250570</td><td>20250570</td><td>20250570</td><td>20250570</td><td>20250570</td><td>20250570</td><td>20250570</td><td>20250570</td></tr>\n",
       "<tr><td>mean</td><td>1.4468479652671504</td><td>3.394968382122594</td><td>15.165714772473084</td><td>13.875580277000775</td><td>1.0274034054350067</td><td>0.49783568610661383</td><td>2.6136837140881326</td><td>0.4653933118937502</td><td>0.29998946698134965</td><td>20.52423191888724</td><td>2.34338506521051</td><td>0.0864368262226693</td></tr>\n",
       "<tr><td>stddev</td><td>0.9877235759123165</td><td>4.165892475089207</td><td>11.505245244764664</td><td>11.702719724930523</td><td>1.2362913136801421</td><td>0.03353720181975423</td><td>2.789518530541847</td><td>1.8118331365778686</td><td>0.001777582702865154</td><td>14.914068090147707</td><td>0.6058111434688664</td><td>0.31713516490197763</td></tr>\n",
       "<tr><td>min</td><td>1.0</td><td>0.51</td><td>1.0166666666666666</td><td>2.5</td><td>0.0</td><td>0.0</td><td>0.0</td><td>0.0</td><td>0.0</td><td>3.0</td><td>0.0</td><td>0.0</td></tr>\n",
       "<tr><td>max</td><td>9.0</td><td>57.3</td><td>299.9166666666667</td><td>200.0</td><td>33.5</td><td>17.1</td><td>50.0</td><td>25.8</td><td>0.3</td><td>231.85</td><td>2.75</td><td>1.25</td></tr>\n",
       "</table>\n"
      ],
      "text/plain": [
       "+-------+------------------+-----------------+------------------+------------------+------------------+-------------------+------------------+------------------+---------------------+------------------+--------------------+-------------------+\n",
       "|summary|   passenger_count|    trip_distance| trip_duration_min|       fare_amount|             extra|            mta_tax|        tip_amount|      tolls_amount|improvement_surcharge|      total_amount|congestion_surcharge|        airport_fee|\n",
       "+-------+------------------+-----------------+------------------+------------------+------------------+-------------------+------------------+------------------+---------------------+------------------+--------------------+-------------------+\n",
       "|  count|          20250570|         20250570|          20250570|          20250570|          20250570|           20250570|          20250570|          20250570|             20250570|          20250570|            20250570|           20250570|\n",
       "|   mean|1.4468479652671504|3.394968382122594|15.165714772473084|13.875580277000775|1.0274034054350067|0.49783568610661383|2.6136837140881326|0.4653933118937502|  0.29998946698134965| 20.52423191888724|    2.34338506521051| 0.0864368262226693|\n",
       "| stddev|0.9877235759123165|4.165892475089207|11.505245244764664|11.702719724930523|1.2362913136801421|0.03353720181975423| 2.789518530541847|1.8118331365778686| 0.001777582702865154|14.914068090147707|  0.6058111434688664|0.31713516490197763|\n",
       "|    min|               1.0|             0.51|1.0166666666666666|               2.5|               0.0|                0.0|               0.0|               0.0|                  0.0|               3.0|                 0.0|                0.0|\n",
       "|    max|               9.0|             57.3| 299.9166666666667|             200.0|              33.5|               17.1|              50.0|              25.8|                  0.3|            231.85|                2.75|               1.25|\n",
       "+-------+------------------+-----------------+------------------+------------------+------------------+-------------------+------------------+------------------+---------------------+------------------+--------------------+-------------------+"
      ]
     },
     "execution_count": 65,
     "metadata": {},
     "output_type": "execute_result"
    }
   ],
   "source": [
    "# Check the descriptive statistics of all numerical columns\n",
    "df1.select(['passenger_count',\n",
    "           'trip_distance',\n",
    "           'trip_duration_min',\n",
    "           'fare_amount',\n",
    "           'extra',\n",
    "           'mta_tax',\n",
    "           'tip_amount',\n",
    "           'tolls_amount',\n",
    "           'improvement_surcharge',\n",
    "           'total_amount',\n",
    "           'congestion_surcharge',\n",
    "           'airport_fee',\n",
    "           'pickup_date']).describe()\n"
   ]
  },
  {
   "cell_type": "code",
   "execution_count": 66,
   "id": "7d52bab0",
   "metadata": {},
   "outputs": [
    {
     "name": "stdout",
     "output_type": "stream",
     "text": [
      "pickup_date: 2021-10-01 - 2022-04-30\n",
      "dropoff_date: 2021-10-01 - 2022-04-30\n"
     ]
    }
   ],
   "source": [
    "# Check period of data\n",
    "pu_earliest, pu_latest = df1.select(min(\"pickup_date\"), max(\"pickup_date\")).first()\n",
    "do_earliest, do_latest = df1.select(min(\"dropoff_date\"), max(\"dropoff_date\")).first()\n",
    "\n",
    "print(f\"pickup_date: {pu_earliest} - {pu_latest}\")\n",
    "print(f\"dropoff_date: {do_earliest} - {do_latest}\")"
   ]
  },
  {
   "cell_type": "markdown",
   "id": "ad70488c",
   "metadata": {},
   "source": [
    "The dataset looks much cleaner now and easier to work with. In the following parts, we will begin feature engineering to facilitate our analysis later on."
   ]
  },
  {
   "cell_type": "markdown",
   "id": "9c6d6df5",
   "metadata": {},
   "source": [
    "## Feature Engineering"
   ]
  },
  {
   "cell_type": "markdown",
   "id": "7f0c9f0b",
   "metadata": {},
   "source": [
    "In this part, we attempt to generate features that may be helpful with our analysis."
   ]
  },
  {
   "cell_type": "code",
   "execution_count": 68,
   "id": "266b4ebb",
   "metadata": {},
   "outputs": [],
   "source": [
    "# Generate the average speed (miles/hour) for each trip \n",
    "df1 = df1.withColumn('average_speed',\n",
    "                      func.col('trip_distance') / (func.col('trip_duration_min') / 60))\n",
    "\n",
    "# Encode "
   ]
  },
  {
   "cell_type": "code",
   "execution_count": 75,
   "id": "a7807930",
   "metadata": {},
   "outputs": [
    {
     "data": {
      "text/html": [
       "<table border='1'>\n",
       "<tr><th>summary</th><th>average_speed</th></tr>\n",
       "<tr><td>count</td><td>20250570</td></tr>\n",
       "<tr><td>mean</td><td>12.204450600150766</td></tr>\n",
       "<tr><td>stddev</td><td>7.215607152368692</td></tr>\n",
       "<tr><td>min</td><td>0.11860167164907572</td></tr>\n",
       "<tr><td>max</td><td>2500.8</td></tr>\n",
       "</table>\n"
      ],
      "text/plain": [
       "+-------+-------------------+\n",
       "|summary|      average_speed|\n",
       "+-------+-------------------+\n",
       "|  count|           20250570|\n",
       "|   mean| 12.204450600150766|\n",
       "| stddev|  7.215607152368692|\n",
       "|    min|0.11860167164907572|\n",
       "|    max|             2500.8|\n",
       "+-------+-------------------+"
      ]
     },
     "execution_count": 75,
     "metadata": {},
     "output_type": "execute_result"
    }
   ],
   "source": [
    "df1.select(['average_speed']).describe()"
   ]
  },
  {
   "cell_type": "code",
   "execution_count": 74,
   "id": "e30301f3",
   "metadata": {},
   "outputs": [
    {
     "data": {
      "text/plain": [
       "79.24502378396616"
      ]
     },
     "execution_count": 74,
     "metadata": {},
     "output_type": "execute_result"
    }
   ],
   "source": [
    "df1.selectExpr('percentile(average_speed, 0.9999)').collect()[0][0]"
   ]
  },
  {
   "cell_type": "markdown",
   "id": "420a0dee",
   "metadata": {},
   "source": [
    "### Extract demand of pick up every hour"
   ]
  },
  {
   "cell_type": "code",
   "execution_count": 76,
   "id": "b99f8764",
   "metadata": {},
   "outputs": [
    {
     "data": {
      "text/plain": [
       "['vendor_id',\n",
       " 'tpep_pickup_datetime',\n",
       " 'tpep_dropoff_datetime',\n",
       " 'passenger_count',\n",
       " 'trip_distance',\n",
       " 'rate_code_id',\n",
       " 'store_and_fwd_flag',\n",
       " 'pu_location_id',\n",
       " 'do_location_id',\n",
       " 'payment_type',\n",
       " 'fare_amount',\n",
       " 'extra',\n",
       " 'mta_tax',\n",
       " 'tip_amount',\n",
       " 'tolls_amount',\n",
       " 'improvement_surcharge',\n",
       " 'total_amount',\n",
       " 'congestion_surcharge',\n",
       " 'airport_fee',\n",
       " 'trip_duration_min',\n",
       " 'pickup_date',\n",
       " 'dropoff_date',\n",
       " 'average_speed']"
      ]
     },
     "execution_count": 76,
     "metadata": {},
     "output_type": "execute_result"
    }
   ],
   "source": [
    "df1.columns"
   ]
  },
  {
   "cell_type": "code",
   "execution_count": 106,
   "id": "bc361011",
   "metadata": {},
   "outputs": [],
   "source": [
    "pickup_demand = (df1\n",
    "  .withColumn(\"pickup_time\", func.col(\"tpep_pickup_datetime\").cast(\"timestamp\"))\n",
    "  .withColumn(\"date\", func.col(\"tpep_pickup_datetime\").cast(\"date\"))\n",
    "  .withColumn(\"hour\", func.hour(func.col(\"tpep_pickup_datetime\"))))\n",
    "\n",
    "dropoff_demand = (df1\n",
    "  .withColumn(\"dropoff_time\", func.col(\"tpep_dropoff_datetime\").cast(\"timestamp\"))\n",
    "  .withColumn(\"date\", func.col(\"tpep_dropoff_datetime\").cast(\"date\"))\n",
    "  .withColumn(\"hour\", func.hour(func.col(\"tpep_dropoff_datetime\"))))"
   ]
  },
  {
   "cell_type": "code",
   "execution_count": 107,
   "id": "fe5a725e",
   "metadata": {},
   "outputs": [],
   "source": [
    "aggs_pickup = pickup_demand.groupBy(\"pu_location_id\",\"date\", \"hour\").count()\n",
    "aggs_dropoff = dropoff_demand.groupBy(\"do_location_id\",\"date\", \"hour\").count()"
   ]
  },
  {
   "cell_type": "code",
   "execution_count": 87,
   "id": "3a09c503",
   "metadata": {},
   "outputs": [
    {
     "data": {
      "text/html": [
       "<table border='1'>\n",
       "<tr><th>pu_location_id</th><th>date</th><th>hour</th><th>count</th></tr>\n",
       "<tr><td>68</td><td>2022-03-01</td><td>11</td><td>37</td></tr>\n",
       "<tr><td>43</td><td>2022-03-01</td><td>12</td><td>2</td></tr>\n",
       "<tr><td>42</td><td>2022-03-01</td><td>16</td><td>2</td></tr>\n",
       "<tr><td>229</td><td>2022-03-01</td><td>19</td><td>156</td></tr>\n",
       "<tr><td>171</td><td>2022-03-01</td><td>21</td><td>1</td></tr>\n",
       "<tr><td>17</td><td>2022-03-02</td><td>3</td><td>1</td></tr>\n",
       "<tr><td>177</td><td>2022-03-02</td><td>5</td><td>1</td></tr>\n",
       "<tr><td>146</td><td>2022-03-02</td><td>6</td><td>5</td></tr>\n",
       "<tr><td>230</td><td>2022-03-02</td><td>10</td><td>179</td></tr>\n",
       "<tr><td>262</td><td>2022-03-02</td><td>14</td><td>1</td></tr>\n",
       "<tr><td>48</td><td>2022-03-02</td><td>18</td><td>145</td></tr>\n",
       "<tr><td>222</td><td>2022-03-02</td><td>19</td><td>1</td></tr>\n",
       "<tr><td>215</td><td>2022-03-03</td><td>1</td><td>1</td></tr>\n",
       "<tr><td>38</td><td>2022-03-03</td><td>1</td><td>1</td></tr>\n",
       "<tr><td>126</td><td>2022-03-03</td><td>2</td><td>1</td></tr>\n",
       "<tr><td>211</td><td>2022-03-03</td><td>7</td><td>35</td></tr>\n",
       "<tr><td>224</td><td>2022-03-03</td><td>7</td><td>3</td></tr>\n",
       "<tr><td>24</td><td>2022-03-03</td><td>9</td><td>4</td></tr>\n",
       "<tr><td>66</td><td>2022-03-03</td><td>18</td><td>2</td></tr>\n",
       "<tr><td>244</td><td>2022-03-03</td><td>19</td><td>5</td></tr>\n",
       "</table>\n",
       "only showing top 20 rows\n"
      ],
      "text/plain": [
       "+--------------+----------+----+-----+\n",
       "|pu_location_id|      date|hour|count|\n",
       "+--------------+----------+----+-----+\n",
       "|            68|2022-03-01|  11|   37|\n",
       "|            43|2022-03-01|  12|    2|\n",
       "|            42|2022-03-01|  16|    2|\n",
       "|           229|2022-03-01|  19|  156|\n",
       "|           171|2022-03-01|  21|    1|\n",
       "|            17|2022-03-02|   3|    1|\n",
       "|           177|2022-03-02|   5|    1|\n",
       "|           146|2022-03-02|   6|    5|\n",
       "|           230|2022-03-02|  10|  179|\n",
       "|           262|2022-03-02|  14|    1|\n",
       "|            48|2022-03-02|  18|  145|\n",
       "|           222|2022-03-02|  19|    1|\n",
       "|           215|2022-03-03|   1|    1|\n",
       "|            38|2022-03-03|   1|    1|\n",
       "|           126|2022-03-03|   2|    1|\n",
       "|           211|2022-03-03|   7|   35|\n",
       "|           224|2022-03-03|   7|    3|\n",
       "|            24|2022-03-03|   9|    4|\n",
       "|            66|2022-03-03|  18|    2|\n",
       "|           244|2022-03-03|  19|    5|\n",
       "+--------------+----------+----+-----+\n",
       "only showing top 20 rows"
      ]
     },
     "execution_count": 87,
     "metadata": {},
     "output_type": "execute_result"
    }
   ],
   "source": [
    "aggs"
   ]
  },
  {
   "cell_type": "code",
   "execution_count": 108,
   "id": "f4757246",
   "metadata": {},
   "outputs": [],
   "source": [
    "one_day_wtc_pickup_demand = aggs_pickup.where((func.col('pu_location_id') == 261) & \n",
    "                                              (func.col('date') == '2022-02-15')).toPandas()\n",
    "\n",
    "one_day_wtc_dropoff_demand = aggs_dropoff.where((func.col('do_location_id') == 261) & \n",
    "                                                (func.col('date') == '2022-02-15')).toPandas()"
   ]
  },
  {
   "cell_type": "code",
   "execution_count": 105,
   "id": "2c649e09",
   "metadata": {},
   "outputs": [
    {
     "name": "stderr",
     "output_type": "stream",
     "text": [
      "/opt/anaconda3/lib/python3.7/site-packages/seaborn/_decorators.py:43: FutureWarning: Pass the following variables as keyword args: x, y. From version 0.12, the only valid positional argument will be `data`, and passing other arguments without an explicit keyword will result in an error or misinterpretation.\n",
      "  FutureWarning\n"
     ]
    },
    {
     "data": {
      "text/plain": [
       "<AxesSubplot:xlabel='hour', ylabel='count'>"
      ]
     },
     "execution_count": 105,
     "metadata": {},
     "output_type": "execute_result"
    },
    {
     "data": {
      "image/png": "[encoded data removed]",
      "text/plain": [
       "<Figure size 720x432 with 1 Axes>"
      ]
     },
     "metadata": {},
     "output_type": "display_data"
    }
   ],
   "source": [
    "sns.lineplot('hour', 'count', data=one_day_wtc_pickup_demand)"
   ]
  },
  {
   "cell_type": "code",
   "execution_count": 109,
   "id": "20e18737",
   "metadata": {},
   "outputs": [
    {
     "name": "stderr",
     "output_type": "stream",
     "text": [
      "/opt/anaconda3/lib/python3.7/site-packages/seaborn/_decorators.py:43: FutureWarning: Pass the following variables as keyword args: x, y. From version 0.12, the only valid positional argument will be `data`, and passing other arguments without an explicit keyword will result in an error or misinterpretation.\n",
      "  FutureWarning\n"
     ]
    },
    {
     "data": {
      "text/plain": [
       "<AxesSubplot:xlabel='hour', ylabel='count'>"
      ]
     },
     "execution_count": 109,
     "metadata": {},
     "output_type": "execute_result"
    },
    {
     "data": {
      "image/png": "[encoded data removed]",
      "text/plain": [
       "<Figure size 720x432 with 1 Axes>"
      ]
     },
     "metadata": {},
     "output_type": "display_data"
    }
   ],
   "source": [
    "sns.lineplot('hour', 'count', data=one_day_wtc_dropoff_demand)"
   ]
  },
  {
   "cell_type": "code",
   "execution_count": null,
   "id": "16bcfb3e",
   "metadata": {},
   "outputs": [],
   "source": []
  }
 ],
 "metadata": {
  "kernelspec": {
   "display_name": "Python 3",
   "language": "python",
   "name": "python3"
  },
  "language_info": {
   "codemirror_mode": {
    "name": "ipython",
    "version": 3
   },
   "file_extension": ".py",
   "mimetype": "text/x-python",
   "name": "python",
   "nbconvert_exporter": "python",
   "pygments_lexer": "ipython3",
   "version": "3.7.4"
  }
 },
 "nbformat": 4,
 "nbformat_minor": 5
}
