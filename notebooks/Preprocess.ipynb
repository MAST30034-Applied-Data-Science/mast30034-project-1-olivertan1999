{
 "cells": [
  {
   "cell_type": "markdown",
   "id": "7ea87cf1",
   "metadata": {},
   "source": [
    "# Data Preprocessing\n",
    "\n",
    "In this section, we will attempt to clean the following datasets:\n",
    "   - TLC Yellow Taxi Trips Record 2021/10-2022/04\n",
    "   - TLC Green Taxi Trips Record 2021/10-2022/04\n",
    "\n",
    "***"
   ]
  },
  {
   "cell_type": "markdown",
   "id": "ca877ef5",
   "metadata": {},
   "source": [
    "## Import Libraries"
   ]
  },
  {
   "cell_type": "code",
   "execution_count": 1,
   "id": "4cbaafec",
   "metadata": {},
   "outputs": [],
   "source": [
    "from pyspark.sql import SparkSession\n",
    "from pyspark.sql import functions as func\n",
    "import shapefile as shp\n",
    "import matplotlib.pyplot as plt\n",
    "import seaborn as sns\n",
    "import pandas as pd\n",
    "import numpy as np\n",
    "\n",
    "%matplotlib inline\n",
    "sns.set(style='whitegrid', palette='pastel', color_codes=True)\n",
    "sns.mpl.rc('figure', figsize=(10,6))\n"
   ]
  },
  {
   "cell_type": "markdown",
   "id": "e9ca5460",
   "metadata": {},
   "source": [
    "## Inspect the dataset"
   ]
  },
  {
   "cell_type": "code",
   "execution_count": 2,
   "id": "59a78569",
   "metadata": {},
   "outputs": [],
   "source": [
    "# Starting a Spark session\n",
    "spk = (\n",
    "    SparkSession.builder.appName('Playground')\n",
    "    .config(\"spark.sql.repl.eagerEval.enabled\", True)\n",
    "    .config(\"spark.sql.session.timeZone\", \"Etc/UTC\")\n",
    "    .getOrCreate()\n",
    ")\n",
    "\n",
    "# Read the parquet dataset\n",
    "df = spk.read.parquet('/Users/oliver/Downloads/MAST30034_Python-main/data/tlc_data')\n"
   ]
  },
  {
   "cell_type": "code",
   "execution_count": 3,
   "id": "80378c35",
   "metadata": {},
   "outputs": [
    {
     "name": "stdout",
     "output_type": "stream",
     "text": [
      "root\n",
      " |-- VendorID: long (nullable = true)\n",
      " |-- tpep_pickup_datetime: timestamp (nullable = true)\n",
      " |-- tpep_dropoff_datetime: timestamp (nullable = true)\n",
      " |-- passenger_count: double (nullable = true)\n",
      " |-- trip_distance: double (nullable = true)\n",
      " |-- RatecodeID: double (nullable = true)\n",
      " |-- store_and_fwd_flag: string (nullable = true)\n",
      " |-- PULocationID: long (nullable = true)\n",
      " |-- DOLocationID: long (nullable = true)\n",
      " |-- payment_type: long (nullable = true)\n",
      " |-- fare_amount: double (nullable = true)\n",
      " |-- extra: double (nullable = true)\n",
      " |-- mta_tax: double (nullable = true)\n",
      " |-- tip_amount: double (nullable = true)\n",
      " |-- tolls_amount: double (nullable = true)\n",
      " |-- improvement_surcharge: double (nullable = true)\n",
      " |-- total_amount: double (nullable = true)\n",
      " |-- congestion_surcharge: double (nullable = true)\n",
      " |-- airport_fee: double (nullable = true)\n",
      "\n",
      "Number of instances:  22821986 \n",
      " Number of features:  19\n"
     ]
    }
   ],
   "source": [
    "# Inspect the metadata\n",
    "df.printSchema()\n",
    "\n",
    "print(\"Number of instances: \", df.count(), '\\n',\n",
    "      \"Number of features: \", len(df.columns))\n"
   ]
  },
  {
   "cell_type": "code",
   "execution_count": 4,
   "id": "1c69803a",
   "metadata": {},
   "outputs": [],
   "source": [
    "# Make all variable names consistent\n",
    "column_name = {'VendorID': 'vendor_id', \n",
    "               'RatecodeID': 'rate_code_id', \n",
    "               'PULocationID': 'pu_location_id',\n",
    "               'DOLocationID': 'do_location_id'}\n",
    "\n",
    "for key, value in column_name.items():\n",
    "    df = df.withColumnRenamed(key,value)\n",
    "    "
   ]
  },
  {
   "cell_type": "code",
   "execution_count": 5,
   "id": "c925757b",
   "metadata": {},
   "outputs": [
    {
     "data": {
      "text/plain": [
       "['vendor_id',\n",
       " 'tpep_pickup_datetime',\n",
       " 'tpep_dropoff_datetime',\n",
       " 'passenger_count',\n",
       " 'trip_distance',\n",
       " 'rate_code_id',\n",
       " 'store_and_fwd_flag',\n",
       " 'pu_location_id',\n",
       " 'do_location_id',\n",
       " 'payment_type',\n",
       " 'fare_amount',\n",
       " 'extra',\n",
       " 'mta_tax',\n",
       " 'tip_amount',\n",
       " 'tolls_amount',\n",
       " 'improvement_surcharge',\n",
       " 'total_amount',\n",
       " 'congestion_surcharge',\n",
       " 'airport_fee']"
      ]
     },
     "execution_count": 5,
     "metadata": {},
     "output_type": "execute_result"
    }
   ],
   "source": [
    "# Check variable names\n",
    "df.columns\n"
   ]
  },
  {
   "cell_type": "markdown",
   "id": "979ba8ed",
   "metadata": {},
   "source": [
    "## Check for outliers in the data based on each feature"
   ]
  },
  {
   "cell_type": "code",
   "execution_count": 6,
   "id": "d388475f",
   "metadata": {},
   "outputs": [],
   "source": [
    "# Extract trip duration in minutes\n",
    "df = df.withColumn('trip_duration_min',\n",
    "                   (func.col('tpep_dropoff_datetime').cast('long') - \n",
    "                    func.col('tpep_pickup_datetime').cast('long')) / 60)\n",
    "\n",
    "# Extract the date as a standalone feature\n",
    "df = df.withColumn(\"pickup_date\", \n",
    "                   func.to_date(func.col(\"tpep_pickup_datetime\")))\n",
    "\n",
    "df = df.withColumn(\"dropoff_date\",\n",
    "                   func.to_date(func.col(\"tpep_dropoff_datetime\")))\n"
   ]
  },
  {
   "cell_type": "code",
   "execution_count": 7,
   "id": "fb67e2bf",
   "metadata": {},
   "outputs": [
    {
     "name": "stdout",
     "output_type": "stream",
     "text": [
      "tpep_pickup_datetime:\n",
      "\tMax: 2028-12-07 15:48:15 \n",
      "\tMin: 2003-01-01 11:10:06\n",
      "\n",
      "tpep_dropoff_datetime:\n",
      "\tMax: 2028-12-07 16:29:13 \n",
      "\tMin: 2003-01-01 11:38:46 \n",
      "\n",
      "-RECORD 0------------------------------------\n",
      " summary               | count               \n",
      " passenger_count       | 22045834            \n",
      " trip_distance         | 22821986            \n",
      " trip_duration_min     | 22821986            \n",
      " fare_amount           | 22821986            \n",
      " extra                 | 22821986            \n",
      " mta_tax               | 22821986            \n",
      " tip_amount            | 22821986            \n",
      " tolls_amount          | 22821986            \n",
      " improvement_surcharge | 22821986            \n",
      " total_amount          | 22821986            \n",
      " congestion_surcharge  | 22045834            \n",
      " airport_fee           | 22045834            \n",
      "-RECORD 1------------------------------------\n",
      " summary               | mean                \n",
      " passenger_count       | 1.410832132728569   \n",
      " trip_distance         | 6.379380374258177   \n",
      " trip_duration_min     | 16.715115467310635  \n",
      " fare_amount           | 13.865717647901148  \n",
      " extra                 | 1.0333181183267846  \n",
      " mta_tax               | 0.4911395537618864  \n",
      " tip_amount            | 2.57474553310225    \n",
      " tolls_amount          | 0.46049136477614083 \n",
      " improvement_surcharge | 0.2969021320264288  \n",
      " total_amount          | 20.396416861681125  \n",
      " congestion_surcharge  | 2.30319136713086    \n",
      " airport_fee           | 0.08284875954341306 \n",
      "-RECORD 2------------------------------------\n",
      " summary               | stddev              \n",
      " passenger_count       | 0.9954703175189176  \n",
      " trip_distance         | 661.132110106012    \n",
      " trip_duration_min     | 59.55430501274111   \n",
      " fare_amount           | 84.96723332573995   \n",
      " extra                 | 1.251623778283688   \n",
      " mta_tax               | 0.08305493387885954 \n",
      " tip_amount            | 3.0204520779616524  \n",
      " tolls_amount          | 1.8974844898543346  \n",
      " improvement_surcharge | 0.04257411661739258 \n",
      " total_amount          | 85.50575473069716   \n",
      " congestion_surcharge  | 0.7112556316089476  \n",
      " airport_fee           | 0.31317650935368135 \n",
      "-RECORD 3------------------------------------\n",
      " summary               | min                 \n",
      " passenger_count       | 0.0                 \n",
      " trip_distance         | 0.0                 \n",
      " trip_duration_min     | -104472.58333333333 \n",
      " fare_amount           | -2564.0             \n",
      " extra                 | -4.5                \n",
      " mta_tax               | -0.55               \n",
      " tip_amount            | -410.0              \n",
      " tolls_amount          | -88.75              \n",
      " improvement_surcharge | -0.3                \n",
      " total_amount          | -2567.8             \n",
      " congestion_surcharge  | -2.5                \n",
      " airport_fee           | -1.25               \n",
      "-RECORD 4------------------------------------\n",
      " summary               | max                 \n",
      " passenger_count       | 9.0                 \n",
      " trip_distance         | 351613.36           \n",
      " trip_duration_min     | 29336.516666666666  \n",
      " fare_amount           | 401092.32           \n",
      " extra                 | 33.5                \n",
      " mta_tax               | 38.8                \n",
      " tip_amount            | 999.99              \n",
      " tolls_amount          | 911.87              \n",
      " improvement_surcharge | 0.3                 \n",
      " total_amount          | 401095.62           \n",
      " congestion_surcharge  | 2.75                \n",
      " airport_fee           | 1.25                \n",
      "\n"
     ]
    }
   ],
   "source": [
    "# Check earliest and latest of datetime variables\n",
    "print(\"tpep_pickup_datetime:\\n\\tMax:\", df.agg({\"tpep_pickup_datetime\": \"max\"}).collect()[0][0],\n",
    "     \"\\n\\tMin:\", df.agg({\"tpep_pickup_datetime\": \"min\"}).collect()[0][0])\n",
    "\n",
    "print(\"\\ntpep_dropoff_datetime:\\n\\tMax:\", df.agg({\"tpep_dropoff_datetime\": \"max\"}).collect()[0][0],\n",
    "     \"\\n\\tMin:\", df.agg({\"tpep_dropoff_datetime\": \"min\"}).collect()[0][0], '\\n')\n",
    "\n",
    "# Check other variables\n",
    "df.select(['passenger_count',\n",
    "           'trip_distance',\n",
    "           'trip_duration_min',\n",
    "           'fare_amount',\n",
    "           'extra',\n",
    "           'mta_tax',\n",
    "           'tip_amount',\n",
    "           'tolls_amount',\n",
    "           'improvement_surcharge',\n",
    "           'total_amount',\n",
    "           'congestion_surcharge',\n",
    "           'airport_fee']).describe().show(vertical=True)\n"
   ]
  },
  {
   "cell_type": "markdown",
   "id": "e32e383f",
   "metadata": {},
   "source": [
    "Despite having retrieved the data from 2021-10 to 2022-04, the dataset still contains records from previous years. The numerical features such as `trip_distance`, `fare_amount`, `tolls_amount`, `total_amount`, `trip_duration` also contain unrealistic values which need to be removed."
   ]
  },
  {
   "cell_type": "markdown",
   "id": "d16e51aa",
   "metadata": {},
   "source": [
    "## Data Cleaning"
   ]
  },
  {
   "cell_type": "markdown",
   "id": "1c4ad2e5",
   "metadata": {},
   "source": [
    "To clean the code, we need to first consider the minimum possible and logical value for each column:\n",
    "- `extra`, `mta_tax`, `tip_amount`, `tolls_amount`, `improvement_surcharge`, `congestion_surcharge` and `airport_fee` can take value greater or equal to 0.\n",
    "- `passenger_count` must take value greater or equal to 1.\n",
    "- We assume that the minimum `trip_distance` and `trip_duration_min` for a regular ride is atleast 0.5 miles and 1 min respectively.\n",
    "- Based on the TLC website, the initial fare of each ride is \\$2.5 so we assume that minimum `fare_amount` is \\$2.5"
   ]
  },
  {
   "cell_type": "code",
   "execution_count": 8,
   "id": "d89086b9",
   "metadata": {},
   "outputs": [],
   "source": [
    "# Filter based on the minimum possible values for numerical features\n",
    "df1 = df.where((func.col('passenger_count') > 0) &\n",
    "               (func.col('trip_distance') > 0.5) &\n",
    "               (func.col('trip_duration_min') > 1) &\n",
    "               (func.col('fare_amount') >= 2.50) &\n",
    "               (func.col('extra') >= 0) &\n",
    "               (func.col('mta_tax') >= 0) &\n",
    "               (func.col('tip_amount') >= 0) &\n",
    "               (func.col('tolls_amount') >= 0) &\n",
    "               (func.col('improvement_surcharge') >= 0) &\n",
    "               (func.col('total_amount') >= 0) &\n",
    "               (func.col('congestion_surcharge') >= 0) &\n",
    "               (func.col('airport_fee') >= 0))\n"
   ]
  },
  {
   "cell_type": "markdown",
   "id": "22084931",
   "metadata": {},
   "source": [
    "Since the dataset is too large, it is not feasible to check the outlier individually for each numerical column. So instead, we looked at the 99.99th percentile of the data and decide if the value is logical and possible.\n",
    "\n",
    "We also capped the `trip_duration_min` to atmost 5 hours (300 mins)."
   ]
  },
  {
   "cell_type": "code",
   "execution_count": 9,
   "id": "2d4e6aa2",
   "metadata": {},
   "outputs": [],
   "source": [
    "# Filter the columns to cover 99.99 percentile of the data for numerical features\n",
    "df1 = df1.where((func.col('fare_amount') <= df1.selectExpr('percentile(fare_amount, 0.9999)').collect()[0][0]) &\n",
    "                (func.col('trip_distance') <= df1.selectExpr('percentile(trip_distance, 0.9999)').collect()[0][0]) &\n",
    "                (func.col('tip_amount') <= df1.selectExpr('percentile(tip_amount, 0.9999)').collect()[0][0]) &\n",
    "                (func.col('total_amount') <= df1.selectExpr('percentile(total_amount, 0.9999)').collect()[0][0]) &\n",
    "                (func.col('tolls_amount') <= df1.selectExpr('percentile(tolls_amount, 0.9999)').collect()[0][0]) &\n",
    "                (func.col('trip_duration_min') <= 300))\n"
   ]
  },
  {
   "cell_type": "code",
   "execution_count": 10,
   "id": "7fca21d3",
   "metadata": {},
   "outputs": [],
   "source": [
    "# Filter the period to between 2021-10 to 2022-04\n",
    "df1 = df1.where((func.col(\"pickup_date\") >= '2021-10-01') & \n",
    "                (func.col(\"dropoff_date\") >= '2021-10-01') &\n",
    "                (func.col(\"pickup_date\") <= '2022-04-30') & \n",
    "                (func.col(\"dropoff_date\") <= '2022-04-30'))\n"
   ]
  },
  {
   "cell_type": "code",
   "execution_count": 11,
   "id": "3d8cc9a1",
   "metadata": {},
   "outputs": [
    {
     "data": {
      "text/html": [
       "<table border='1'>\n",
       "<tr><th>summary</th><th>passenger_count</th><th>trip_distance</th><th>trip_duration_min</th><th>fare_amount</th><th>extra</th><th>mta_tax</th><th>tip_amount</th><th>tolls_amount</th><th>improvement_surcharge</th><th>total_amount</th><th>congestion_surcharge</th><th>airport_fee</th></tr>\n",
       "<tr><td>count</td><td>20318397</td><td>20318397</td><td>20318397</td><td>20318397</td><td>20318397</td><td>20318397</td><td>20318397</td><td>20318397</td><td>20318397</td><td>20318397</td><td>20318397</td><td>20318397</td></tr>\n",
       "<tr><td>mean</td><td>1.4471206070045781</td><td>3.395187665639183</td><td>15.1713447784948</td><td>13.877776812315647</td><td>1.026717178033286</td><td>0.4978357894079938</td><td>2.6138943894049658</td><td>0.4652825486201695</td><td>0.29998945784806097</td><td>20.52600121405045</td><td>2.343431364196693</td><td>0.08641983420247178</td></tr>\n",
       "<tr><td>stddev</td><td>0.9877491531253714</td><td>4.1658235930528695</td><td>11.5078125190917</td><td>11.702891141665209</td><td>1.2360292896413865</td><td>0.033540865546170986</td><td>2.7895050467472773</td><td>1.811713249822163</td><td>0.001778353195422...</td><td>14.913934539512917</td><td>0.605727538981753</td><td>0.31710630703053033</td></tr>\n",
       "<tr><td>min</td><td>1.0</td><td>0.51</td><td>1.0166666666666666</td><td>2.5</td><td>0.0</td><td>0.0</td><td>0.0</td><td>0.0</td><td>0.0</td><td>3.0</td><td>0.0</td><td>0.0</td></tr>\n",
       "<tr><td>max</td><td>9.0</td><td>57.3</td><td>299.9166666666667</td><td>200.0</td><td>33.5</td><td>17.1</td><td>50.0</td><td>25.8</td><td>0.3</td><td>231.85</td><td>2.75</td><td>1.25</td></tr>\n",
       "</table>\n"
      ],
      "text/plain": [
       "+-------+------------------+------------------+------------------+------------------+------------------+--------------------+------------------+------------------+---------------------+------------------+--------------------+-------------------+\n",
       "|summary|   passenger_count|     trip_distance| trip_duration_min|       fare_amount|             extra|             mta_tax|        tip_amount|      tolls_amount|improvement_surcharge|      total_amount|congestion_surcharge|        airport_fee|\n",
       "+-------+------------------+------------------+------------------+------------------+------------------+--------------------+------------------+------------------+---------------------+------------------+--------------------+-------------------+\n",
       "|  count|          20318397|          20318397|          20318397|          20318397|          20318397|            20318397|          20318397|          20318397|             20318397|          20318397|            20318397|           20318397|\n",
       "|   mean|1.4471206070045781| 3.395187665639183|  15.1713447784948|13.877776812315647| 1.026717178033286|  0.4978357894079938|2.6138943894049658|0.4652825486201695|  0.29998945784806097| 20.52600121405045|   2.343431364196693|0.08641983420247178|\n",
       "| stddev|0.9877491531253714|4.1658235930528695|  11.5078125190917|11.702891141665209|1.2360292896413865|0.033540865546170986|2.7895050467472773| 1.811713249822163| 0.001778353195422...|14.913934539512917|   0.605727538981753|0.31710630703053033|\n",
       "|    min|               1.0|              0.51|1.0166666666666666|               2.5|               0.0|                 0.0|               0.0|               0.0|                  0.0|               3.0|                 0.0|                0.0|\n",
       "|    max|               9.0|              57.3| 299.9166666666667|             200.0|              33.5|                17.1|              50.0|              25.8|                  0.3|            231.85|                2.75|               1.25|\n",
       "+-------+------------------+------------------+------------------+------------------+------------------+--------------------+------------------+------------------+---------------------+------------------+--------------------+-------------------+"
      ]
     },
     "execution_count": 11,
     "metadata": {},
     "output_type": "execute_result"
    }
   ],
   "source": [
    "# Check the descriptive statistics of all numerical columns\n",
    "df1.select(['passenger_count',\n",
    "           'trip_distance',\n",
    "           'trip_duration_min',\n",
    "           'fare_amount',\n",
    "           'extra',\n",
    "           'mta_tax',\n",
    "           'tip_amount',\n",
    "           'tolls_amount',\n",
    "           'improvement_surcharge',\n",
    "           'total_amount',\n",
    "           'congestion_surcharge',\n",
    "           'airport_fee',\n",
    "           'pickup_date']).describe()\n"
   ]
  },
  {
   "cell_type": "code",
   "execution_count": 22,
   "id": "702b4a48",
   "metadata": {},
   "outputs": [
    {
     "name": "stdout",
     "output_type": "stream",
     "text": [
      "pickup_date: 2021-10-01 - 2022-04-30\n",
      "dropoff_date: 2021-10-01 - 2022-04-30\n"
     ]
    }
   ],
   "source": [
    "# Check period of data\n",
    "pu_earliest, pu_latest = df1.select(func.min(\"pickup_date\"), func.max(\"pickup_date\")).first()\n",
    "do_earliest, do_latest = df1.select(func.min(\"dropoff_date\"), func.max(\"dropoff_date\")).first()\n",
    "\n",
    "print(f\"pickup_date: {pu_earliest} - {pu_latest}\")\n",
    "print(f\"dropoff_date: {do_earliest} - {do_latest}\")\n"
   ]
  },
  {
   "cell_type": "markdown",
   "id": "9c738174",
   "metadata": {},
   "source": [
    "The dataset looks much cleaner now and easier to work with. In the following parts, we will begin feature engineering to facilitate our analysis later on."
   ]
  },
  {
   "cell_type": "markdown",
   "id": "a100bc36",
   "metadata": {},
   "source": [
    "## Feature Engineering"
   ]
  },
  {
   "cell_type": "markdown",
   "id": "61ef271a",
   "metadata": {},
   "source": [
    "## Extract hourly pickup and dropoff demand in each location id\n",
    "\n",
    "We first create columns to record date and hour. Then we group by `pu_location_id`/`do_location_id`, `date` and `hour` before counting the number of instances."
   ]
  },
  {
   "cell_type": "code",
   "execution_count": 69,
   "id": "609be349",
   "metadata": {},
   "outputs": [],
   "source": [
    "# Create columns for date and hour\n",
    "df1 = (df1\n",
    "  .withColumn(\"pickup_date\", func.col(\"tpep_pickup_datetime\").cast(\"date\"))\n",
    "  .withColumn(\"pickup_hour\", func.hour(func.col(\"tpep_pickup_datetime\")))\n",
    "  .withColumn(\"dropoff_date\", func.col(\"tpep_dropoff_datetime\").cast(\"date\"))\n",
    "  .withColumn(\"dropoff_hour\", func.hour(func.col(\"tpep_dropoff_datetime\")))\n",
    ")\n"
   ]
  },
  {
   "cell_type": "code",
   "execution_count": 71,
   "id": "8151de6b",
   "metadata": {},
   "outputs": [],
   "source": [
    "# Aggregate and count number of hourly instances in each location id\n",
    "pickup_hourly_demand = df1.groupBy(\"pu_location_id\", \"pickup_date\", \"pickup_hour\").count()\n",
    "dropoff_hourly_demand = df1.groupBy(\"do_location_id\", \"dropoff_date\", \"dropoff_hour\").count()\n"
   ]
  },
  {
   "cell_type": "code",
   "execution_count": 97,
   "id": "d4a11bc1",
   "metadata": {},
   "outputs": [],
   "source": [
    "# Aggregate and count number of daily instances in each location id\n",
    "pickup_daily_demand = df1.groupBy(\"pu_location_id\", \"pickup_date\").count()\n",
    "dropoff_daily_demand = df1.groupBy(\"do_location_id\", \"dropoff_date\").count()\n"
   ]
  },
  {
   "cell_type": "code",
   "execution_count": 98,
   "id": "9a6d0b2f",
   "metadata": {},
   "outputs": [
    {
     "data": {
      "text/html": [
       "<table border='1'>\n",
       "<tr><th>summary</th><th>pu_location_id</th><th>count</th></tr>\n",
       "<tr><td>count</td><td>41090</td><td>41090</td></tr>\n",
       "<tr><td>mean</td><td>136.1556826478462</td><td>494.4852032124605</td></tr>\n",
       "<tr><td>stddev</td><td>76.72277128104115</td><td>1023.0618719773645</td></tr>\n",
       "<tr><td>min</td><td>1</td><td>1</td></tr>\n",
       "<tr><td>max</td><td>265</td><td>6907</td></tr>\n",
       "</table>\n"
      ],
      "text/plain": [
       "+-------+-----------------+------------------+\n",
       "|summary|   pu_location_id|             count|\n",
       "+-------+-----------------+------------------+\n",
       "|  count|            41090|             41090|\n",
       "|   mean|136.1556826478462| 494.4852032124605|\n",
       "| stddev|76.72277128104115|1023.0618719773645|\n",
       "|    min|                1|                 1|\n",
       "|    max|              265|              6907|\n",
       "+-------+-----------------+------------------+"
      ]
     },
     "execution_count": 98,
     "metadata": {},
     "output_type": "execute_result"
    }
   ],
   "source": [
    "pickup_daily_demand.describe()\n"
   ]
  },
  {
   "cell_type": "code",
   "execution_count": 99,
   "id": "eb45d381",
   "metadata": {},
   "outputs": [
    {
     "data": {
      "text/html": [
       "<table border='1'>\n",
       "<tr><th>summary</th><th>do_location_id</th><th>count</th></tr>\n",
       "<tr><td>count</td><td>52355</td><td>52355</td></tr>\n",
       "<tr><td>mean</td><td>133.79742144971826</td><td>388.0889504345335</td></tr>\n",
       "<tr><td>stddev</td><td>76.92595418182918</td><td>803.9522842386245</td></tr>\n",
       "<tr><td>min</td><td>1</td><td>1</td></tr>\n",
       "<tr><td>max</td><td>265</td><td>5984</td></tr>\n",
       "</table>\n"
      ],
      "text/plain": [
       "+-------+------------------+-----------------+\n",
       "|summary|    do_location_id|            count|\n",
       "+-------+------------------+-----------------+\n",
       "|  count|             52355|            52355|\n",
       "|   mean|133.79742144971826|388.0889504345335|\n",
       "| stddev| 76.92595418182918|803.9522842386245|\n",
       "|    min|                 1|                1|\n",
       "|    max|               265|             5984|\n",
       "+-------+------------------+-----------------+"
      ]
     },
     "execution_count": 99,
     "metadata": {},
     "output_type": "execute_result"
    }
   ],
   "source": [
    "dropoff_daily_demand.describe()\n"
   ]
  },
  {
   "cell_type": "markdown",
   "id": "24d6a79e",
   "metadata": {},
   "source": [
    "It appears that the average daily pickup demand is about 494 with maximum number of pickup per hour at 6907. However, since demand is strongly based on `LocationID` which explains the large standard deviation at 1023.1, we need to examine the demand statistics based on individual location to make a legitimate inference. "
   ]
  },
  {
   "cell_type": "code",
   "execution_count": 100,
   "id": "b13ed3ed",
   "metadata": {},
   "outputs": [],
   "source": [
    "operations = [func.mean, func.stddev, func.min, func.max]\n",
    "exprs = [f(func.col(\"count\")) for f in operations]\n",
    "# location_hourly_statistics = pickup_hourly_demand.groupby('pu_location_id').agg(*exprs)\n",
    "location_daily_statistics = pickup_daily_demand.groupby('pu_location_id').agg(*exprs)"
   ]
  },
  {
   "cell_type": "code",
   "execution_count": 101,
   "id": "07afb088",
   "metadata": {},
   "outputs": [
    {
     "data": {
      "text/html": [
       "<table border='1'>\n",
       "<tr><th>pu_location_id</th><th>avg(count)</th><th>stddev_samp(count)</th><th>min(count)</th><th>max(count)</th></tr>\n",
       "<tr><td>237</td><td>4683.061320754717</td><td>1307.846125931082</td><td>762</td><td>6907</td></tr>\n",
       "<tr><td>161</td><td>3828.9292452830186</td><td>1120.9565734317307</td><td>526</td><td>5854</td></tr>\n",
       "<tr><td>79</td><td>2544.7971698113206</td><td>1117.1535517515056</td><td>758</td><td>5331</td></tr>\n",
       "<tr><td>236</td><td>4235.278301886792</td><td>1107.4944621948969</td><td>779</td><td>6051</td></tr>\n",
       "<tr><td>132</td><td>3939.3490566037735</td><td>892.9362878027387</td><td>420</td><td>5887</td></tr>\n",
       "<tr><td>162</td><td>3157.627358490566</td><td>865.726562682048</td><td>562</td><td>4790</td></tr>\n",
       "<tr><td>138</td><td>2717.8632075471696</td><td>713.2700047545486</td><td>50</td><td>4373</td></tr>\n",
       "<tr><td>249</td><td>2105.0707547169814</td><td>671.2235765799452</td><td>631</td><td>3763</td></tr>\n",
       "<tr><td>163</td><td>2783.9150943396226</td><td>666.7183495943195</td><td>550</td><td>3979</td></tr>\n",
       "<tr><td>142</td><td>3225.2216981132074</td><td>664.099813274643</td><td>1036</td><td>4552</td></tr>\n",
       "<tr><td>170</td><td>2975.566037735849</td><td>659.0957257585094</td><td>840</td><td>3978</td></tr>\n",
       "<tr><td>230</td><td>2925.3915094339623</td><td>608.503262441133</td><td>825</td><td>3991</td></tr>\n",
       "<tr><td>48</td><td>3009.448113207547</td><td>591.8485717581465</td><td>1298</td><td>4144</td></tr>\n",
       "<tr><td>140</td><td>2003.4292452830189</td><td>581.2005712099594</td><td>477</td><td>2735</td></tr>\n",
       "<tr><td>234</td><td>2594.5377358490564</td><td>570.7903836579288</td><td>569</td><td>3529</td></tr>\n",
       "<tr><td>107</td><td>2345.938679245283</td><td>557.8236917731807</td><td>718</td><td>3702</td></tr>\n",
       "<tr><td>186</td><td>3199.8443396226417</td><td>557.6866055972611</td><td>647</td><td>4113</td></tr>\n",
       "<tr><td>148</td><td>908.5801886792453</td><td>532.2967032296541</td><td>243</td><td>2365</td></tr>\n",
       "<tr><td>239</td><td>2827.8254716981132</td><td>522.5095683491012</td><td>729</td><td>3807</td></tr>\n",
       "<tr><td>68</td><td>2422.5754716981132</td><td>464.9652577983564</td><td>755</td><td>3403</td></tr>\n",
       "</table>\n",
       "only showing top 20 rows\n"
      ],
      "text/plain": [
       "+--------------+------------------+------------------+----------+----------+\n",
       "|pu_location_id|        avg(count)|stddev_samp(count)|min(count)|max(count)|\n",
       "+--------------+------------------+------------------+----------+----------+\n",
       "|           237| 4683.061320754717| 1307.846125931082|       762|      6907|\n",
       "|           161|3828.9292452830186|1120.9565734317307|       526|      5854|\n",
       "|            79|2544.7971698113206|1117.1535517515056|       758|      5331|\n",
       "|           236| 4235.278301886792|1107.4944621948969|       779|      6051|\n",
       "|           132|3939.3490566037735| 892.9362878027387|       420|      5887|\n",
       "|           162| 3157.627358490566|  865.726562682048|       562|      4790|\n",
       "|           138|2717.8632075471696| 713.2700047545486|        50|      4373|\n",
       "|           249|2105.0707547169814| 671.2235765799452|       631|      3763|\n",
       "|           163|2783.9150943396226| 666.7183495943195|       550|      3979|\n",
       "|           142|3225.2216981132074|  664.099813274643|      1036|      4552|\n",
       "|           170| 2975.566037735849| 659.0957257585094|       840|      3978|\n",
       "|           230|2925.3915094339623|  608.503262441133|       825|      3991|\n",
       "|            48| 3009.448113207547| 591.8485717581465|      1298|      4144|\n",
       "|           140|2003.4292452830189| 581.2005712099594|       477|      2735|\n",
       "|           234|2594.5377358490564| 570.7903836579288|       569|      3529|\n",
       "|           107| 2345.938679245283| 557.8236917731807|       718|      3702|\n",
       "|           186|3199.8443396226417| 557.6866055972611|       647|      4113|\n",
       "|           148| 908.5801886792453| 532.2967032296541|       243|      2365|\n",
       "|           239|2827.8254716981132| 522.5095683491012|       729|      3807|\n",
       "|            68|2422.5754716981132| 464.9652577983564|       755|      3403|\n",
       "+--------------+------------------+------------------+----------+----------+\n",
       "only showing top 20 rows"
      ]
     },
     "execution_count": 101,
     "metadata": {},
     "output_type": "execute_result"
    }
   ],
   "source": [
    "location_daily_statistics.sort(func.col(\"stddev_samp(count)\").desc())"
   ]
  },
  {
   "cell_type": "markdown",
   "id": "8669d1ab",
   "metadata": {},
   "source": [
    "Here we notice that most of the locations with high standard deviations are located at city center. We hypothesize that this is due to the confounding effects of day in the week (more crowded in the city during weekends and public holidays) as well as weather of the day."
   ]
  },
  {
   "cell_type": "code",
   "execution_count": 61,
   "id": "fee4134c",
   "metadata": {},
   "outputs": [],
   "source": [
    "half_manhattan_id = [144, 148, 151, 152, 153, 158, 161,\n",
    "       162, 163, 164, 166, 170, 186, 194, 202, 209, 211, 224, 229, 230,\n",
    "       231, 232, 233, 234, 236, 237, 238, 239, 243, 244, 246, 249, 261,\n",
    "       262, 263]\n",
    "\n",
    "half_manhattan_id_2 = [4,  12,  13,  24,  41,  42,  43,  45,  48,  50,  68,  74,  75,\n",
    "        79,  87,  88,  90, 100, 103, 107, 113, 114, 116, 120, 125, 127,\n",
    "       128, 137, 140, 141, 142, 143, 144]"
   ]
  },
  {
   "cell_type": "code",
   "execution_count": 63,
   "id": "3086a11e",
   "metadata": {},
   "outputs": [],
   "source": [
    "one_day_wtc_pickup_demand = aggs_pickup.where((func.col('pu_location_id').isin(half_manhattan_id_2)) & \n",
    "                                              (func.col('date') == '2022-03-19')).toPandas()\n",
    "\n",
    "one_day_wtc_dropoff_demand = aggs_dropoff.where((func.col('do_location_id').isin(half_manhattan_id_2)) & \n",
    "                                                (func.col('date') == '2022-03-19')).toPandas()"
   ]
  },
  {
   "cell_type": "code",
   "execution_count": 55,
   "id": "9f86498d",
   "metadata": {},
   "outputs": [],
   "source": [
    "one_day_cp_pickup_demand = aggs_pickup.where((func.col('pu_location_id') == 43) & \n",
    "                                              (func.col('date') == '2022-03-19')).toPandas()\n",
    "\n",
    "one_day_cp_dropoff_demand = aggs_dropoff.where((func.col('do_location_id') == 43) & \n",
    "                                                (func.col('date') == '2022-03-19')).toPandas()"
   ]
  },
  {
   "cell_type": "code",
   "execution_count": 56,
   "id": "4b611bb3",
   "metadata": {},
   "outputs": [
    {
     "data": {
      "text/html": [
       "<div>\n",
       "<style scoped>\n",
       "    .dataframe tbody tr th:only-of-type {\n",
       "        vertical-align: middle;\n",
       "    }\n",
       "\n",
       "    .dataframe tbody tr th {\n",
       "        vertical-align: top;\n",
       "    }\n",
       "\n",
       "    .dataframe thead th {\n",
       "        text-align: right;\n",
       "    }\n",
       "</style>\n",
       "<table border=\"1\" class=\"dataframe\">\n",
       "  <thead>\n",
       "    <tr style=\"text-align: right;\">\n",
       "      <th></th>\n",
       "      <th>pu_location_id</th>\n",
       "      <th>date</th>\n",
       "      <th>hour</th>\n",
       "      <th>count</th>\n",
       "    </tr>\n",
       "  </thead>\n",
       "  <tbody>\n",
       "    <tr>\n",
       "      <th>0</th>\n",
       "      <td>43</td>\n",
       "      <td>2022-03-19</td>\n",
       "      <td>2</td>\n",
       "      <td>4</td>\n",
       "    </tr>\n",
       "    <tr>\n",
       "      <th>1</th>\n",
       "      <td>43</td>\n",
       "      <td>2022-03-19</td>\n",
       "      <td>0</td>\n",
       "      <td>18</td>\n",
       "    </tr>\n",
       "    <tr>\n",
       "      <th>2</th>\n",
       "      <td>43</td>\n",
       "      <td>2022-03-19</td>\n",
       "      <td>16</td>\n",
       "      <td>182</td>\n",
       "    </tr>\n",
       "    <tr>\n",
       "      <th>3</th>\n",
       "      <td>43</td>\n",
       "      <td>2022-03-19</td>\n",
       "      <td>7</td>\n",
       "      <td>11</td>\n",
       "    </tr>\n",
       "    <tr>\n",
       "      <th>4</th>\n",
       "      <td>43</td>\n",
       "      <td>2022-03-19</td>\n",
       "      <td>15</td>\n",
       "      <td>187</td>\n",
       "    </tr>\n",
       "    <tr>\n",
       "      <th>5</th>\n",
       "      <td>43</td>\n",
       "      <td>2022-03-19</td>\n",
       "      <td>22</td>\n",
       "      <td>49</td>\n",
       "    </tr>\n",
       "    <tr>\n",
       "      <th>6</th>\n",
       "      <td>43</td>\n",
       "      <td>2022-03-19</td>\n",
       "      <td>8</td>\n",
       "      <td>26</td>\n",
       "    </tr>\n",
       "    <tr>\n",
       "      <th>7</th>\n",
       "      <td>43</td>\n",
       "      <td>2022-03-19</td>\n",
       "      <td>19</td>\n",
       "      <td>104</td>\n",
       "    </tr>\n",
       "    <tr>\n",
       "      <th>8</th>\n",
       "      <td>43</td>\n",
       "      <td>2022-03-19</td>\n",
       "      <td>10</td>\n",
       "      <td>80</td>\n",
       "    </tr>\n",
       "    <tr>\n",
       "      <th>9</th>\n",
       "      <td>43</td>\n",
       "      <td>2022-03-19</td>\n",
       "      <td>21</td>\n",
       "      <td>66</td>\n",
       "    </tr>\n",
       "    <tr>\n",
       "      <th>10</th>\n",
       "      <td>43</td>\n",
       "      <td>2022-03-19</td>\n",
       "      <td>17</td>\n",
       "      <td>177</td>\n",
       "    </tr>\n",
       "    <tr>\n",
       "      <th>11</th>\n",
       "      <td>43</td>\n",
       "      <td>2022-03-19</td>\n",
       "      <td>9</td>\n",
       "      <td>48</td>\n",
       "    </tr>\n",
       "    <tr>\n",
       "      <th>12</th>\n",
       "      <td>43</td>\n",
       "      <td>2022-03-19</td>\n",
       "      <td>23</td>\n",
       "      <td>34</td>\n",
       "    </tr>\n",
       "    <tr>\n",
       "      <th>13</th>\n",
       "      <td>43</td>\n",
       "      <td>2022-03-19</td>\n",
       "      <td>12</td>\n",
       "      <td>179</td>\n",
       "    </tr>\n",
       "    <tr>\n",
       "      <th>14</th>\n",
       "      <td>43</td>\n",
       "      <td>2022-03-19</td>\n",
       "      <td>4</td>\n",
       "      <td>1</td>\n",
       "    </tr>\n",
       "    <tr>\n",
       "      <th>15</th>\n",
       "      <td>43</td>\n",
       "      <td>2022-03-19</td>\n",
       "      <td>18</td>\n",
       "      <td>181</td>\n",
       "    </tr>\n",
       "    <tr>\n",
       "      <th>16</th>\n",
       "      <td>43</td>\n",
       "      <td>2022-03-19</td>\n",
       "      <td>13</td>\n",
       "      <td>157</td>\n",
       "    </tr>\n",
       "    <tr>\n",
       "      <th>17</th>\n",
       "      <td>43</td>\n",
       "      <td>2022-03-19</td>\n",
       "      <td>3</td>\n",
       "      <td>2</td>\n",
       "    </tr>\n",
       "    <tr>\n",
       "      <th>18</th>\n",
       "      <td>43</td>\n",
       "      <td>2022-03-19</td>\n",
       "      <td>6</td>\n",
       "      <td>3</td>\n",
       "    </tr>\n",
       "    <tr>\n",
       "      <th>19</th>\n",
       "      <td>43</td>\n",
       "      <td>2022-03-19</td>\n",
       "      <td>14</td>\n",
       "      <td>168</td>\n",
       "    </tr>\n",
       "    <tr>\n",
       "      <th>20</th>\n",
       "      <td>43</td>\n",
       "      <td>2022-03-19</td>\n",
       "      <td>20</td>\n",
       "      <td>79</td>\n",
       "    </tr>\n",
       "    <tr>\n",
       "      <th>21</th>\n",
       "      <td>43</td>\n",
       "      <td>2022-03-19</td>\n",
       "      <td>1</td>\n",
       "      <td>11</td>\n",
       "    </tr>\n",
       "    <tr>\n",
       "      <th>22</th>\n",
       "      <td>43</td>\n",
       "      <td>2022-03-19</td>\n",
       "      <td>11</td>\n",
       "      <td>89</td>\n",
       "    </tr>\n",
       "    <tr>\n",
       "      <th>23</th>\n",
       "      <td>43</td>\n",
       "      <td>2022-03-19</td>\n",
       "      <td>5</td>\n",
       "      <td>4</td>\n",
       "    </tr>\n",
       "  </tbody>\n",
       "</table>\n",
       "</div>"
      ],
      "text/plain": [
       "    pu_location_id        date  hour  count\n",
       "0               43  2022-03-19     2      4\n",
       "1               43  2022-03-19     0     18\n",
       "2               43  2022-03-19    16    182\n",
       "3               43  2022-03-19     7     11\n",
       "4               43  2022-03-19    15    187\n",
       "5               43  2022-03-19    22     49\n",
       "6               43  2022-03-19     8     26\n",
       "7               43  2022-03-19    19    104\n",
       "8               43  2022-03-19    10     80\n",
       "9               43  2022-03-19    21     66\n",
       "10              43  2022-03-19    17    177\n",
       "11              43  2022-03-19     9     48\n",
       "12              43  2022-03-19    23     34\n",
       "13              43  2022-03-19    12    179\n",
       "14              43  2022-03-19     4      1\n",
       "15              43  2022-03-19    18    181\n",
       "16              43  2022-03-19    13    157\n",
       "17              43  2022-03-19     3      2\n",
       "18              43  2022-03-19     6      3\n",
       "19              43  2022-03-19    14    168\n",
       "20              43  2022-03-19    20     79\n",
       "21              43  2022-03-19     1     11\n",
       "22              43  2022-03-19    11     89\n",
       "23              43  2022-03-19     5      4"
      ]
     },
     "execution_count": 56,
     "metadata": {},
     "output_type": "execute_result"
    }
   ],
   "source": [
    "one_day_cp_pickup_demand"
   ]
  },
  {
   "cell_type": "code",
   "execution_count": 66,
   "id": "96c4cb1c",
   "metadata": {},
   "outputs": [],
   "source": [
    "df2 = one_day_wtc_pickup_demand.groupby('hour').agg({'count':'sum'}).reset_index()\n",
    "df3 = one_day_wtc_dropoff_demand.groupby('hour').agg({'count':'sum'}).reset_index()"
   ]
  },
  {
   "cell_type": "code",
   "execution_count": 58,
   "id": "1ebb6ea6",
   "metadata": {},
   "outputs": [],
   "source": [
    "df_cp_pu = one_day_cp_pickup_demand.groupby('hour').agg({'count':'sum'}).reset_index()\n",
    "df_cp_do = one_day_cp_dropoff_demand.groupby('hour').agg({'count':'sum'}).reset_index()"
   ]
  },
  {
   "cell_type": "code",
   "execution_count": 67,
   "id": "62e5e918",
   "metadata": {},
   "outputs": [
    {
     "data": {
      "text/plain": [
       "<matplotlib.legend.Legend at 0x7f85c858cc10>"
      ]
     },
     "execution_count": 67,
     "metadata": {},
     "output_type": "execute_result"
    },
    {
     "data": {
      "image/png": "[encoded data removed]",
      "text/plain": [
       "<Figure size 720x432 with 1 Axes>"
      ]
     },
     "metadata": {},
     "output_type": "display_data"
    }
   ],
   "source": [
    "fig, ax = plt.subplots()\n",
    "sns.lineplot(x='hour', y='count', data=df2, ax=ax)\n",
    "sns.lineplot(x='hour', y='count', data=df3, ax=ax)\n",
    "ax.legend(['pickup','dropoff'])"
   ]
  },
  {
   "cell_type": "code",
   "execution_count": 60,
   "id": "3e86d307",
   "metadata": {},
   "outputs": [
    {
     "data": {
      "text/plain": [
       "<matplotlib.legend.Legend at 0x7f85c829a2d0>"
      ]
     },
     "execution_count": 60,
     "metadata": {},
     "output_type": "execute_result"
    },
    {
     "data": {
      "image/png": "[encoded data removed]",
      "text/plain": [
       "<Figure size 720x432 with 1 Axes>"
      ]
     },
     "metadata": {},
     "output_type": "display_data"
    }
   ],
   "source": [
    "fig, ax = plt.subplots()\n",
    "sns.lineplot(x='hour', y='count', data=df_cp_pu, ax=ax)\n",
    "sns.lineplot(x='hour', y='count', data=df_cp_do, ax=ax)\n",
    "ax.legend(['pickup','dropoff'])"
   ]
  },
  {
   "cell_type": "code",
   "execution_count": null,
   "id": "410d2949",
   "metadata": {},
   "outputs": [],
   "source": [
    "sns.lineplot('hour', 'count', data=one_day_wtc_dropoff_demand)"
   ]
  },
  {
   "cell_type": "code",
   "execution_count": null,
   "id": "99510c69",
   "metadata": {},
   "outputs": [],
   "source": []
  }
 ],
 "metadata": {
  "kernelspec": {
   "display_name": "Python 3",
   "language": "python",
   "name": "python3"
  },
  "language_info": {
   "codemirror_mode": {
    "name": "ipython",
    "version": 3
   },
   "file_extension": ".py",
   "mimetype": "text/x-python",
   "name": "python",
   "nbconvert_exporter": "python",
   "pygments_lexer": "ipython3",
   "version": "3.7.4"
  }
 },
 "nbformat": 4,
 "nbformat_minor": 5
}
