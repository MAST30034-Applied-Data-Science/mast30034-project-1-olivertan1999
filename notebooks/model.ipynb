{
 "cells": [
  {
   "cell_type": "markdown",
   "id": "120e780c",
   "metadata": {},
   "source": [
    "# Modelling\n",
    "\n",
    "In this section, we will implement Linear Regression and Random Forest Regression to estimate the hourly taxi demand in NYC.\n",
    "***"
   ]
  },
  {
   "cell_type": "markdown",
   "id": "eccbfe24",
   "metadata": {},
   "source": [
    "## Import Libraries"
   ]
  },
  {
   "cell_type": "code",
   "execution_count": 586,
   "id": "c4ceb75e",
   "metadata": {},
   "outputs": [],
   "source": [
    "import numpy as np\n",
    "import pandas as pd\n",
    "from pyspark.sql import SparkSession, functions as F\n",
    "import statsmodels.api as sm\n",
    "from sklearn.model_selection import cross_val_score, train_test_split, GridSearchCV\n",
    "from scipy import stats\n",
    "from sklearn import linear_model\n",
    "from sklearn.metrics import mean_squared_error, mean_absolute_error\n",
    "from sklearn.ensemble import RandomForestRegressor\n",
    "from statsmodels.formula.api import ols\n",
    "import matplotlib.pyplot as plt\n",
    "import seaborn as sns\n",
    "\n",
    "%matplotlib inline"
   ]
  },
  {
   "cell_type": "code",
   "execution_count": 398,
   "id": "ec007253",
   "metadata": {},
   "outputs": [],
   "source": [
    "# Starting a Spark session\n",
    "spk = (\n",
    "    SparkSession.builder.appName('model')\n",
    "    .config(\"spark.sql.repl.eagerEval.enabled\", True)\n",
    "    .config(\"spark.sql.session.timeZone\", \"Etc/UTC\")\n",
    "    .config(\"spark.sql.parquet.cacheMetadata\", \"true\")\n",
    "    .getOrCreate()\n",
    ")\n"
   ]
  },
  {
   "cell_type": "markdown",
   "id": "d81fbe70",
   "metadata": {},
   "source": [
    "## Split data into training and testing set"
   ]
  },
  {
   "cell_type": "code",
   "execution_count": 587,
   "id": "d8c5d6bd",
   "metadata": {},
   "outputs": [
    {
     "ename": "Py4JJavaError",
     "evalue": "An error occurred while calling o70.collectToPython.\n: org.apache.spark.SparkException: Job aborted due to stage failure: Task 0 in stage 6.0 failed 1 times, most recent failure: Lost task 0.0 in stage 6.0 (TID 6) (10.13.152.199 executor driver): TaskResultLost (result lost from block manager)\nDriver stacktrace:\n\tat org.apache.spark.scheduler.DAGScheduler.failJobAndIndependentStages(DAGScheduler.scala:2258)\n\tat org.apache.spark.scheduler.DAGScheduler.$anonfun$abortStage$2(DAGScheduler.scala:2207)\n\tat org.apache.spark.scheduler.DAGScheduler.$anonfun$abortStage$2$adapted(DAGScheduler.scala:2206)\n\tat scala.collection.mutable.ResizableArray.foreach(ResizableArray.scala:62)\n\tat scala.collection.mutable.ResizableArray.foreach$(ResizableArray.scala:55)\n\tat scala.collection.mutable.ArrayBuffer.foreach(ArrayBuffer.scala:49)\n\tat org.apache.spark.scheduler.DAGScheduler.abortStage(DAGScheduler.scala:2206)\n\tat org.apache.spark.scheduler.DAGScheduler.$anonfun$handleTaskSetFailed$1(DAGScheduler.scala:1079)\n\tat org.apache.spark.scheduler.DAGScheduler.$anonfun$handleTaskSetFailed$1$adapted(DAGScheduler.scala:1079)\n\tat scala.Option.foreach(Option.scala:407)\n\tat org.apache.spark.scheduler.DAGScheduler.handleTaskSetFailed(DAGScheduler.scala:1079)\n\tat org.apache.spark.scheduler.DAGSchedulerEventProcessLoop.doOnReceive(DAGScheduler.scala:2445)\n\tat org.apache.spark.scheduler.DAGSchedulerEventProcessLoop.onReceive(DAGScheduler.scala:2387)\n\tat org.apache.spark.scheduler.DAGSchedulerEventProcessLoop.onReceive(DAGScheduler.scala:2376)\n\tat org.apache.spark.util.EventLoop$$anon$1.run(EventLoop.scala:49)\n\tat org.apache.spark.scheduler.DAGScheduler.runJob(DAGScheduler.scala:868)\n\tat org.apache.spark.SparkContext.runJob(SparkContext.scala:2196)\n\tat org.apache.spark.SparkContext.runJob(SparkContext.scala:2217)\n\tat org.apache.spark.SparkContext.runJob(SparkContext.scala:2236)\n\tat org.apache.spark.SparkContext.runJob(SparkContext.scala:2261)\n\tat org.apache.spark.rdd.RDD.$anonfun$collect$1(RDD.scala:1030)\n\tat org.apache.spark.rdd.RDDOperationScope$.withScope(RDDOperationScope.scala:151)\n\tat org.apache.spark.rdd.RDDOperationScope$.withScope(RDDOperationScope.scala:112)\n\tat org.apache.spark.rdd.RDD.withScope(RDD.scala:414)\n\tat org.apache.spark.rdd.RDD.collect(RDD.scala:1029)\n\tat org.apache.spark.sql.execution.SparkPlan.executeCollect(SparkPlan.scala:390)\n\tat org.apache.spark.sql.Dataset.$anonfun$collectToPython$1(Dataset.scala:3519)\n\tat org.apache.spark.sql.Dataset.$anonfun$withAction$1(Dataset.scala:3687)\n\tat org.apache.spark.sql.execution.SQLExecution$.$anonfun$withNewExecutionId$5(SQLExecution.scala:103)\n\tat org.apache.spark.sql.execution.SQLExecution$.withSQLConfPropagated(SQLExecution.scala:163)\n\tat org.apache.spark.sql.execution.SQLExecution$.$anonfun$withNewExecutionId$1(SQLExecution.scala:90)\n\tat org.apache.spark.sql.SparkSession.withActive(SparkSession.scala:775)\n\tat org.apache.spark.sql.execution.SQLExecution$.withNewExecutionId(SQLExecution.scala:64)\n\tat org.apache.spark.sql.Dataset.withAction(Dataset.scala:3685)\n\tat org.apache.spark.sql.Dataset.collectToPython(Dataset.scala:3516)\n\tat sun.reflect.NativeMethodAccessorImpl.invoke0(Native Method)\n\tat sun.reflect.NativeMethodAccessorImpl.invoke(NativeMethodAccessorImpl.java:62)\n\tat sun.reflect.DelegatingMethodAccessorImpl.invoke(DelegatingMethodAccessorImpl.java:43)\n\tat java.lang.reflect.Method.invoke(Method.java:498)\n\tat py4j.reflection.MethodInvoker.invoke(MethodInvoker.java:244)\n\tat py4j.reflection.ReflectionEngine.invoke(ReflectionEngine.java:357)\n\tat py4j.Gateway.invoke(Gateway.java:282)\n\tat py4j.commands.AbstractCommand.invokeMethod(AbstractCommand.java:132)\n\tat py4j.commands.CallCommand.execute(CallCommand.java:79)\n\tat py4j.GatewayConnection.run(GatewayConnection.java:238)\n\tat java.lang.Thread.run(Thread.java:750)\n",
     "output_type": "error",
     "traceback": [
      "\u001b[0;31m---------------------------------------------------------------------------\u001b[0m",
      "\u001b[0;31mPy4JJavaError\u001b[0m                             Traceback (most recent call last)",
      "\u001b[0;32m<ipython-input-587-6d391ea15cb5>\u001b[0m in \u001b[0;36m<module>\u001b[0;34m\u001b[0m\n\u001b[1;32m      1\u001b[0m \u001b[0;31m# Read the merged and preprocessed dataset\u001b[0m\u001b[0;34m\u001b[0m\u001b[0;34m\u001b[0m\u001b[0;34m\u001b[0m\u001b[0m\n\u001b[0;32m----> 2\u001b[0;31m \u001b[0mnyc_hourly_demand\u001b[0m \u001b[0;34m=\u001b[0m \u001b[0mspk\u001b[0m\u001b[0;34m.\u001b[0m\u001b[0mread\u001b[0m\u001b[0;34m.\u001b[0m\u001b[0mparquet\u001b[0m\u001b[0;34m(\u001b[0m\u001b[0;34m'../data/curated/combined_data.parquet'\u001b[0m\u001b[0;34m)\u001b[0m\u001b[0;34m.\u001b[0m\u001b[0mtoPandas\u001b[0m\u001b[0;34m(\u001b[0m\u001b[0;34m)\u001b[0m\u001b[0;34m\u001b[0m\u001b[0;34m\u001b[0m\u001b[0m\n\u001b[0m\u001b[1;32m      3\u001b[0m \u001b[0;34m\u001b[0m\u001b[0m\n\u001b[1;32m      4\u001b[0m \u001b[0;31m# Rename building class C columns as it causes error with the ols function\u001b[0m\u001b[0;34m\u001b[0m\u001b[0;34m\u001b[0m\u001b[0;34m\u001b[0m\u001b[0m\n\u001b[1;32m      5\u001b[0m \u001b[0mnyc_hourly_demand\u001b[0m\u001b[0;34m.\u001b[0m\u001b[0mrename\u001b[0m\u001b[0;34m(\u001b[0m\u001b[0;34m{\u001b[0m\u001b[0;34m'C'\u001b[0m\u001b[0;34m:\u001b[0m\u001b[0;34m'C_class'\u001b[0m\u001b[0;34m}\u001b[0m\u001b[0;34m,\u001b[0m \u001b[0maxis\u001b[0m \u001b[0;34m=\u001b[0m \u001b[0;36m1\u001b[0m\u001b[0;34m,\u001b[0m \u001b[0minplace\u001b[0m \u001b[0;34m=\u001b[0m \u001b[0;32mTrue\u001b[0m\u001b[0;34m)\u001b[0m\u001b[0;34m\u001b[0m\u001b[0;34m\u001b[0m\u001b[0m\n",
      "\u001b[0;32m/opt/anaconda3/lib/python3.7/site-packages/pyspark/sql/pandas/conversion.py\u001b[0m in \u001b[0;36mtoPandas\u001b[0;34m(self)\u001b[0m\n\u001b[1;32m    139\u001b[0m \u001b[0;34m\u001b[0m\u001b[0m\n\u001b[1;32m    140\u001b[0m         \u001b[0;31m# Below is toPandas without Arrow optimization.\u001b[0m\u001b[0;34m\u001b[0m\u001b[0;34m\u001b[0m\u001b[0;34m\u001b[0m\u001b[0m\n\u001b[0;32m--> 141\u001b[0;31m         \u001b[0mpdf\u001b[0m \u001b[0;34m=\u001b[0m \u001b[0mpd\u001b[0m\u001b[0;34m.\u001b[0m\u001b[0mDataFrame\u001b[0m\u001b[0;34m.\u001b[0m\u001b[0mfrom_records\u001b[0m\u001b[0;34m(\u001b[0m\u001b[0mself\u001b[0m\u001b[0;34m.\u001b[0m\u001b[0mcollect\u001b[0m\u001b[0;34m(\u001b[0m\u001b[0;34m)\u001b[0m\u001b[0;34m,\u001b[0m \u001b[0mcolumns\u001b[0m\u001b[0;34m=\u001b[0m\u001b[0mself\u001b[0m\u001b[0;34m.\u001b[0m\u001b[0mcolumns\u001b[0m\u001b[0;34m)\u001b[0m\u001b[0;34m\u001b[0m\u001b[0;34m\u001b[0m\u001b[0m\n\u001b[0m\u001b[1;32m    142\u001b[0m         \u001b[0mcolumn_counter\u001b[0m \u001b[0;34m=\u001b[0m \u001b[0mCounter\u001b[0m\u001b[0;34m(\u001b[0m\u001b[0mself\u001b[0m\u001b[0;34m.\u001b[0m\u001b[0mcolumns\u001b[0m\u001b[0;34m)\u001b[0m\u001b[0;34m\u001b[0m\u001b[0;34m\u001b[0m\u001b[0m\n\u001b[1;32m    143\u001b[0m \u001b[0;34m\u001b[0m\u001b[0m\n",
      "\u001b[0;32m/opt/anaconda3/lib/python3.7/site-packages/pyspark/sql/dataframe.py\u001b[0m in \u001b[0;36mcollect\u001b[0;34m(self)\u001b[0m\n\u001b[1;32m    675\u001b[0m         \"\"\"\n\u001b[1;32m    676\u001b[0m         \u001b[0;32mwith\u001b[0m \u001b[0mSCCallSiteSync\u001b[0m\u001b[0;34m(\u001b[0m\u001b[0mself\u001b[0m\u001b[0;34m.\u001b[0m\u001b[0m_sc\u001b[0m\u001b[0;34m)\u001b[0m \u001b[0;32mas\u001b[0m \u001b[0mcss\u001b[0m\u001b[0;34m:\u001b[0m\u001b[0;34m\u001b[0m\u001b[0;34m\u001b[0m\u001b[0m\n\u001b[0;32m--> 677\u001b[0;31m             \u001b[0msock_info\u001b[0m \u001b[0;34m=\u001b[0m \u001b[0mself\u001b[0m\u001b[0;34m.\u001b[0m\u001b[0m_jdf\u001b[0m\u001b[0;34m.\u001b[0m\u001b[0mcollectToPython\u001b[0m\u001b[0;34m(\u001b[0m\u001b[0;34m)\u001b[0m\u001b[0;34m\u001b[0m\u001b[0;34m\u001b[0m\u001b[0m\n\u001b[0m\u001b[1;32m    678\u001b[0m         \u001b[0;32mreturn\u001b[0m \u001b[0mlist\u001b[0m\u001b[0;34m(\u001b[0m\u001b[0m_load_from_socket\u001b[0m\u001b[0;34m(\u001b[0m\u001b[0msock_info\u001b[0m\u001b[0;34m,\u001b[0m \u001b[0mBatchedSerializer\u001b[0m\u001b[0;34m(\u001b[0m\u001b[0mPickleSerializer\u001b[0m\u001b[0;34m(\u001b[0m\u001b[0;34m)\u001b[0m\u001b[0;34m)\u001b[0m\u001b[0;34m)\u001b[0m\u001b[0;34m)\u001b[0m\u001b[0;34m\u001b[0m\u001b[0;34m\u001b[0m\u001b[0m\n\u001b[1;32m    679\u001b[0m \u001b[0;34m\u001b[0m\u001b[0m\n",
      "\u001b[0;32m/opt/anaconda3/lib/python3.7/site-packages/py4j/java_gateway.py\u001b[0m in \u001b[0;36m__call__\u001b[0;34m(self, *args)\u001b[0m\n\u001b[1;32m   1308\u001b[0m         \u001b[0manswer\u001b[0m \u001b[0;34m=\u001b[0m \u001b[0mself\u001b[0m\u001b[0;34m.\u001b[0m\u001b[0mgateway_client\u001b[0m\u001b[0;34m.\u001b[0m\u001b[0msend_command\u001b[0m\u001b[0;34m(\u001b[0m\u001b[0mcommand\u001b[0m\u001b[0;34m)\u001b[0m\u001b[0;34m\u001b[0m\u001b[0;34m\u001b[0m\u001b[0m\n\u001b[1;32m   1309\u001b[0m         return_value = get_return_value(\n\u001b[0;32m-> 1310\u001b[0;31m             answer, self.gateway_client, self.target_id, self.name)\n\u001b[0m\u001b[1;32m   1311\u001b[0m \u001b[0;34m\u001b[0m\u001b[0m\n\u001b[1;32m   1312\u001b[0m         \u001b[0;32mfor\u001b[0m \u001b[0mtemp_arg\u001b[0m \u001b[0;32min\u001b[0m \u001b[0mtemp_args\u001b[0m\u001b[0;34m:\u001b[0m\u001b[0;34m\u001b[0m\u001b[0;34m\u001b[0m\u001b[0m\n",
      "\u001b[0;32m/opt/anaconda3/lib/python3.7/site-packages/pyspark/sql/utils.py\u001b[0m in \u001b[0;36mdeco\u001b[0;34m(*a, **kw)\u001b[0m\n\u001b[1;32m    109\u001b[0m     \u001b[0;32mdef\u001b[0m \u001b[0mdeco\u001b[0m\u001b[0;34m(\u001b[0m\u001b[0;34m*\u001b[0m\u001b[0ma\u001b[0m\u001b[0;34m,\u001b[0m \u001b[0;34m**\u001b[0m\u001b[0mkw\u001b[0m\u001b[0;34m)\u001b[0m\u001b[0;34m:\u001b[0m\u001b[0;34m\u001b[0m\u001b[0;34m\u001b[0m\u001b[0m\n\u001b[1;32m    110\u001b[0m         \u001b[0;32mtry\u001b[0m\u001b[0;34m:\u001b[0m\u001b[0;34m\u001b[0m\u001b[0;34m\u001b[0m\u001b[0m\n\u001b[0;32m--> 111\u001b[0;31m             \u001b[0;32mreturn\u001b[0m \u001b[0mf\u001b[0m\u001b[0;34m(\u001b[0m\u001b[0;34m*\u001b[0m\u001b[0ma\u001b[0m\u001b[0;34m,\u001b[0m \u001b[0;34m**\u001b[0m\u001b[0mkw\u001b[0m\u001b[0;34m)\u001b[0m\u001b[0;34m\u001b[0m\u001b[0;34m\u001b[0m\u001b[0m\n\u001b[0m\u001b[1;32m    112\u001b[0m         \u001b[0;32mexcept\u001b[0m \u001b[0mpy4j\u001b[0m\u001b[0;34m.\u001b[0m\u001b[0mprotocol\u001b[0m\u001b[0;34m.\u001b[0m\u001b[0mPy4JJavaError\u001b[0m \u001b[0;32mas\u001b[0m \u001b[0me\u001b[0m\u001b[0;34m:\u001b[0m\u001b[0;34m\u001b[0m\u001b[0;34m\u001b[0m\u001b[0m\n\u001b[1;32m    113\u001b[0m             \u001b[0mconverted\u001b[0m \u001b[0;34m=\u001b[0m \u001b[0mconvert_exception\u001b[0m\u001b[0;34m(\u001b[0m\u001b[0me\u001b[0m\u001b[0;34m.\u001b[0m\u001b[0mjava_exception\u001b[0m\u001b[0;34m)\u001b[0m\u001b[0;34m\u001b[0m\u001b[0;34m\u001b[0m\u001b[0m\n",
      "\u001b[0;32m/opt/anaconda3/lib/python3.7/site-packages/py4j/protocol.py\u001b[0m in \u001b[0;36mget_return_value\u001b[0;34m(answer, gateway_client, target_id, name)\u001b[0m\n\u001b[1;32m    326\u001b[0m                 raise Py4JJavaError(\n\u001b[1;32m    327\u001b[0m                     \u001b[0;34m\"An error occurred while calling {0}{1}{2}.\\n\"\u001b[0m\u001b[0;34m.\u001b[0m\u001b[0;34m\u001b[0m\u001b[0;34m\u001b[0m\u001b[0m\n\u001b[0;32m--> 328\u001b[0;31m                     format(target_id, \".\", name), value)\n\u001b[0m\u001b[1;32m    329\u001b[0m             \u001b[0;32melse\u001b[0m\u001b[0;34m:\u001b[0m\u001b[0;34m\u001b[0m\u001b[0;34m\u001b[0m\u001b[0m\n\u001b[1;32m    330\u001b[0m                 raise Py4JError(\n",
      "\u001b[0;31mPy4JJavaError\u001b[0m: An error occurred while calling o70.collectToPython.\n: org.apache.spark.SparkException: Job aborted due to stage failure: Task 0 in stage 6.0 failed 1 times, most recent failure: Lost task 0.0 in stage 6.0 (TID 6) (10.13.152.199 executor driver): TaskResultLost (result lost from block manager)\nDriver stacktrace:\n\tat org.apache.spark.scheduler.DAGScheduler.failJobAndIndependentStages(DAGScheduler.scala:2258)\n\tat org.apache.spark.scheduler.DAGScheduler.$anonfun$abortStage$2(DAGScheduler.scala:2207)\n\tat org.apache.spark.scheduler.DAGScheduler.$anonfun$abortStage$2$adapted(DAGScheduler.scala:2206)\n\tat scala.collection.mutable.ResizableArray.foreach(ResizableArray.scala:62)\n\tat scala.collection.mutable.ResizableArray.foreach$(ResizableArray.scala:55)\n\tat scala.collection.mutable.ArrayBuffer.foreach(ArrayBuffer.scala:49)\n\tat org.apache.spark.scheduler.DAGScheduler.abortStage(DAGScheduler.scala:2206)\n\tat org.apache.spark.scheduler.DAGScheduler.$anonfun$handleTaskSetFailed$1(DAGScheduler.scala:1079)\n\tat org.apache.spark.scheduler.DAGScheduler.$anonfun$handleTaskSetFailed$1$adapted(DAGScheduler.scala:1079)\n\tat scala.Option.foreach(Option.scala:407)\n\tat org.apache.spark.scheduler.DAGScheduler.handleTaskSetFailed(DAGScheduler.scala:1079)\n\tat org.apache.spark.scheduler.DAGSchedulerEventProcessLoop.doOnReceive(DAGScheduler.scala:2445)\n\tat org.apache.spark.scheduler.DAGSchedulerEventProcessLoop.onReceive(DAGScheduler.scala:2387)\n\tat org.apache.spark.scheduler.DAGSchedulerEventProcessLoop.onReceive(DAGScheduler.scala:2376)\n\tat org.apache.spark.util.EventLoop$$anon$1.run(EventLoop.scala:49)\n\tat org.apache.spark.scheduler.DAGScheduler.runJob(DAGScheduler.scala:868)\n\tat org.apache.spark.SparkContext.runJob(SparkContext.scala:2196)\n\tat org.apache.spark.SparkContext.runJob(SparkContext.scala:2217)\n\tat org.apache.spark.SparkContext.runJob(SparkContext.scala:2236)\n\tat org.apache.spark.SparkContext.runJob(SparkContext.scala:2261)\n\tat org.apache.spark.rdd.RDD.$anonfun$collect$1(RDD.scala:1030)\n\tat org.apache.spark.rdd.RDDOperationScope$.withScope(RDDOperationScope.scala:151)\n\tat org.apache.spark.rdd.RDDOperationScope$.withScope(RDDOperationScope.scala:112)\n\tat org.apache.spark.rdd.RDD.withScope(RDD.scala:414)\n\tat org.apache.spark.rdd.RDD.collect(RDD.scala:1029)\n\tat org.apache.spark.sql.execution.SparkPlan.executeCollect(SparkPlan.scala:390)\n\tat org.apache.spark.sql.Dataset.$anonfun$collectToPython$1(Dataset.scala:3519)\n\tat org.apache.spark.sql.Dataset.$anonfun$withAction$1(Dataset.scala:3687)\n\tat org.apache.spark.sql.execution.SQLExecution$.$anonfun$withNewExecutionId$5(SQLExecution.scala:103)\n\tat org.apache.spark.sql.execution.SQLExecution$.withSQLConfPropagated(SQLExecution.scala:163)\n\tat org.apache.spark.sql.execution.SQLExecution$.$anonfun$withNewExecutionId$1(SQLExecution.scala:90)\n\tat org.apache.spark.sql.SparkSession.withActive(SparkSession.scala:775)\n\tat org.apache.spark.sql.execution.SQLExecution$.withNewExecutionId(SQLExecution.scala:64)\n\tat org.apache.spark.sql.Dataset.withAction(Dataset.scala:3685)\n\tat org.apache.spark.sql.Dataset.collectToPython(Dataset.scala:3516)\n\tat sun.reflect.NativeMethodAccessorImpl.invoke0(Native Method)\n\tat sun.reflect.NativeMethodAccessorImpl.invoke(NativeMethodAccessorImpl.java:62)\n\tat sun.reflect.DelegatingMethodAccessorImpl.invoke(DelegatingMethodAccessorImpl.java:43)\n\tat java.lang.reflect.Method.invoke(Method.java:498)\n\tat py4j.reflection.MethodInvoker.invoke(MethodInvoker.java:244)\n\tat py4j.reflection.ReflectionEngine.invoke(ReflectionEngine.java:357)\n\tat py4j.Gateway.invoke(Gateway.java:282)\n\tat py4j.commands.AbstractCommand.invokeMethod(AbstractCommand.java:132)\n\tat py4j.commands.CallCommand.execute(CallCommand.java:79)\n\tat py4j.GatewayConnection.run(GatewayConnection.java:238)\n\tat java.lang.Thread.run(Thread.java:750)\n"
     ]
    }
   ],
   "source": [
    "# Read the merged and preprocessed dataset\n",
    "nyc_hourly_demand = spk.read.parquet('../data/curated/combined_data.parquet').toPandas()\n",
    "\n",
    "# Rename building class C columns as it causes error with the ols function\n",
    "nyc_hourly_demand.rename({'C':'C_class'}, axis = 1, inplace = True)\n"
   ]
  },
  {
   "cell_type": "code",
   "execution_count": null,
   "id": "44c51fb9",
   "metadata": {},
   "outputs": [],
   "source": [
    "# Extract the last month as testing set, the remaining will be our training set\n",
    "test = nyc_hourly_demand[nyc_hourly_demand['month'] == 4]\n",
    "train = nyc_hourly_demand[nyc_hourly_demand['month'] != 4]\n"
   ]
  },
  {
   "cell_type": "markdown",
   "id": "c9af863b",
   "metadata": {},
   "source": [
    "## Prepare training and testing data for each borough\n",
    "\n",
    "Based on our preliminary analysis, we saw that daily average demand differed greatly across boroughs, therefore we need to train the model separately on each borough to accurately model the local demand."
   ]
  },
  {
   "cell_type": "code",
   "execution_count": 403,
   "id": "8af32545",
   "metadata": {},
   "outputs": [],
   "source": [
    "# Get all location ids under each borough\n",
    "borough_id = {}\n",
    "for borough in nyc_hourly_demand['borough'].unique():\n",
    "    borough_id[borough] = nyc_hourly_demand[nyc_hourly_demand['borough'] == borough]['pu_location_id'].unique()\n",
    "    "
   ]
  },
  {
   "cell_type": "code",
   "execution_count": 404,
   "id": "07b09342",
   "metadata": {},
   "outputs": [],
   "source": [
    "# Exclude the unnecessary columns\n",
    "excl_col = ['service_zone','zone','borough', 'geometry']\n"
   ]
  },
  {
   "cell_type": "code",
   "execution_count": 405,
   "id": "17b71f5b",
   "metadata": {},
   "outputs": [],
   "source": [
    "# Split the data into features and target\n",
    "X_train = train[[col for col in nyc_hourly_demand.columns if col not in ['count'] + excl_col]]\n",
    "Y_train = train['count']\n",
    "\n",
    "X_test = test[[col for col in nyc_hourly_demand.columns if col not in ['count'] + excl_col]]\n",
    "Y_test = test['count']\n"
   ]
  },
  {
   "cell_type": "code",
   "execution_count": 425,
   "id": "13bedc28",
   "metadata": {},
   "outputs": [],
   "source": [
    "# Get XYtrain, XYtest data for each boroughs separately\n",
    "borough_data = {bor:[] for bor in borough_id.keys()}\n",
    "for bor in borough_id.keys():\n",
    "    \n",
    "    # Find the indices of all records that belong to the borough\n",
    "    train_idx = X_train[X_train['pu_location_id'].isin(borough_id[bor])].index\n",
    "    test_idx = X_test[X_test['pu_location_id'].isin(borough_id[bor])].index\n",
    "    \n",
    "    # Extract the XYtrain and XYtest based on the indices above\n",
    "    borough_data[bor].extend([X_train[X_train.index.isin(train_idx)],\n",
    "                              Y_train[Y_train.index.isin(train_idx)], \n",
    "                              X_test[X_test.index.isin(test_idx)], \n",
    "                              Y_test[Y_test.index.isin(test_idx)]])\n",
    "    "
   ]
  },
  {
   "cell_type": "code",
   "execution_count": 426,
   "id": "8f26c39b",
   "metadata": {},
   "outputs": [
    {
     "data": {
      "text/plain": [
       "33"
      ]
     },
     "execution_count": 426,
     "metadata": {},
     "output_type": "execute_result"
    }
   ],
   "source": [
    "len(X_train.columns)"
   ]
  },
  {
   "cell_type": "markdown",
   "id": "c2186ec8",
   "metadata": {},
   "source": [
    "## Train and estimate using Linear Regression model on each borough data\n",
    "\n",
    "Here we will fit a linear model on the training data of each borough and using the model to predict the test data of the borough."
   ]
  },
  {
   "cell_type": "code",
   "execution_count": 409,
   "id": "6aae3353",
   "metadata": {},
   "outputs": [],
   "source": [
    "# Get all unique categorical levels for the categorical features\n",
    "uniq_month = nyc_hourly_demand['month'].unique()\n",
    "uniq_hour = nyc_hourly_demand['pickup_hour'].unique()\n",
    "uniq_dayweek = nyc_hourly_demand['day_of_week'].unique()\n",
    "\n",
    "# Train LinearRegressor on each borough data\n",
    "lr_equation_1 = ('count ~ C(pu_location_id) + C(month, levels=uniq_month) +' +\n",
    "                 '+ C(day_of_week, levels=uniq_dayweek) + C(is_weekday)' +\n",
    "                 'C(pickup_hour, levels=uniq_hour) + temperature + dew_point + atmospheric_pressure +' +\n",
    "                 '+ A + B + C_class + V + S + D + K + O + M + G + W + E + N + P + F + Z + U + Q + ' +\n",
    "                 'H + Y + I + R + J + T + total_lot')\n",
    "\n",
    "\n",
    "borough_lr_model = {bor: ols(lr_equation_1, \n",
    "                             data=pd.concat([borough_data[bor][0], borough_data[bor][1]], axis=1),\n",
    "                             missing='drop').fit() \\\n",
    "                 for bor in borough_id.keys()}\n"
   ]
  },
  {
   "cell_type": "code",
   "execution_count": 570,
   "id": "182ab89c",
   "metadata": {},
   "outputs": [],
   "source": [
    "# Obtain Linear Regression predictions\n",
    "borough_lr_pred = {}\n",
    "for bor in borough_id.keys():\n",
    "    borough_lr_pred[bor] = borough_lr_model[bor].predict(borough_data[bor][2])\n",
    "    \n",
    "    # Make sure there are no negative prediction\n",
    "    borough_lr_pred[bor][borough_lr_pred[bor] < 0] = 0\n",
    "\n",
    "    "
   ]
  },
  {
   "cell_type": "code",
   "execution_count": 571,
   "id": "4f67d38a",
   "metadata": {},
   "outputs": [
    {
     "name": "stdout",
     "output_type": "stream",
     "text": [
      "RMSE of the Linear Regression model:\n",
      "  Manhattan: 44.98\n",
      "  Queens: 33.72\n",
      "  Brooklyn: 1.80\n",
      "  Bronx: 0.58\n",
      "  Staten Island: 1.49\n",
      "  EWR: 15.24\n"
     ]
    }
   ],
   "source": [
    "# RMSE of the Linear Regression predictions\n",
    "print(\"RMSE of the Linear Regression model:\")\n",
    "for bor in borough_id.keys():\n",
    "    print(f\"  {bor}: {np.sqrt(mean_squared_error(borough_data[bor][3], borough_lr_pred[bor])):.2f}\")\n",
    "    "
   ]
  },
  {
   "cell_type": "markdown",
   "id": "afbb5bb4",
   "metadata": {},
   "source": [
    "## Train and estimate using Random Forest Regression model on each borough data\n",
    "\n",
    "Here we will fit the Random Forest Regressor on the training data of each borough and using the model to predict the test data of the borough. However, before we train the model, we need to tune the hyperparameter to ensure optimum performance of the model."
   ]
  },
  {
   "cell_type": "code",
   "execution_count": 416,
   "id": "708bdb8e",
   "metadata": {},
   "outputs": [],
   "source": [
    "def cv_optimize(clf, parameters, X, y, n_jobs=1, n_folds=5, score_func=None, verbose=0):\n",
    "    '''\n",
    "    Given a set of hyperparameters, return the model that produces the most optimal result\n",
    "    based on the scoring function.\n",
    "    '''\n",
    "    if score_func:\n",
    "        gs = GridSearchCV(clf, \n",
    "                          param_grid=parameters, \n",
    "                          cv=n_folds, \n",
    "                          n_jobs=n_jobs, \n",
    "                          scoring=score_func, \n",
    "                          verbose=verbose)\n",
    "    else:\n",
    "        # Use default scoring function\n",
    "        gs = GridSearchCV(clf, \n",
    "                          param_grid=parameters, \n",
    "                          n_jobs=n_jobs, \n",
    "                          cv=n_folds, \n",
    "                          verbose=verbose)\n",
    "    \n",
    "    gs.fit(X, y)\n",
    "    \n",
    "    print(\"BEST\", gs.best_params_, gs.best_score_)\n",
    "    print(\"Best score: \", gs.best_score_)\n",
    "    \n",
    "    best = gs.best_estimator_\n",
    "    \n",
    "    return best\n"
   ]
  },
  {
   "cell_type": "markdown",
   "id": "136cee38",
   "metadata": {},
   "source": [
    "Due to the long computation time, we decided to tune the hyperparameter using the entire training data instead of spliting into different boroughs. For 5 boroughs, we need to run $5^2*3^3=675$ iterations (including the 5-fold cv) to find the optimal configurations compared to the $135$ iterations if we were to run the GridSearch on the whole training data set. We will therefore use this result to approximate the optimal configurations for each of the model."
   ]
  },
  {
   "cell_type": "code",
   "execution_count": 418,
   "id": "0324a851",
   "metadata": {},
   "outputs": [
    {
     "name": "stdout",
     "output_type": "stream",
     "text": [
      "Fitting 5 folds for each of 27 candidates, totalling 135 fits\n",
      "[CV 1/5] END max_depth=10, max_features=auto, n_estimators=10;, score=-73.807 total time=  14.3s\n",
      "[CV 2/5] END max_depth=10, max_features=auto, n_estimators=10;, score=-80.922 total time=  15.4s\n",
      "[CV 3/5] END max_depth=10, max_features=auto, n_estimators=10;, score=-58.882 total time=  16.9s\n",
      "[CV 4/5] END max_depth=10, max_features=auto, n_estimators=10;, score=-41.526 total time=  15.3s\n",
      "[CV 5/5] END max_depth=10, max_features=auto, n_estimators=10;, score=-43.551 total time=  13.3s\n",
      "[CV 1/5] END max_depth=10, max_features=auto, n_estimators=50;, score=-72.642 total time= 1.0min\n",
      "[CV 2/5] END max_depth=10, max_features=auto, n_estimators=50;, score=-80.073 total time= 1.1min\n",
      "[CV 3/5] END max_depth=10, max_features=auto, n_estimators=50;, score=-59.756 total time= 1.1min\n",
      "[CV 4/5] END max_depth=10, max_features=auto, n_estimators=50;, score=-41.590 total time= 1.1min\n",
      "[CV 5/5] END max_depth=10, max_features=auto, n_estimators=50;, score=-43.311 total time= 1.1min\n",
      "[CV 1/5] END max_depth=10, max_features=auto, n_estimators=100;, score=-72.116 total time= 2.0min\n",
      "[CV 2/5] END max_depth=10, max_features=auto, n_estimators=100;, score=-80.067 total time= 2.2min\n",
      "[CV 3/5] END max_depth=10, max_features=auto, n_estimators=100;, score=-59.724 total time= 2.3min\n",
      "[CV 4/5] END max_depth=10, max_features=auto, n_estimators=100;, score=-41.294 total time= 2.2min\n",
      "[CV 5/5] END max_depth=10, max_features=auto, n_estimators=100;, score=-44.572 total time= 2.2min\n",
      "[CV 1/5] END max_depth=10, max_features=sqrt, n_estimators=10;, score=-74.506 total time=   3.0s\n",
      "[CV 2/5] END max_depth=10, max_features=sqrt, n_estimators=10;, score=-73.290 total time=   3.0s\n",
      "[CV 3/5] END max_depth=10, max_features=sqrt, n_estimators=10;, score=-41.988 total time=   3.1s\n",
      "[CV 4/5] END max_depth=10, max_features=sqrt, n_estimators=10;, score=-38.945 total time=   3.1s\n",
      "[CV 5/5] END max_depth=10, max_features=sqrt, n_estimators=10;, score=-31.232 total time=   3.7s\n",
      "[CV 1/5] END max_depth=10, max_features=sqrt, n_estimators=50;, score=-71.407 total time=  16.0s\n",
      "[CV 2/5] END max_depth=10, max_features=sqrt, n_estimators=50;, score=-67.061 total time=  11.8s\n",
      "[CV 3/5] END max_depth=10, max_features=sqrt, n_estimators=50;, score=-44.255 total time=  11.9s\n",
      "[CV 4/5] END max_depth=10, max_features=sqrt, n_estimators=50;, score=-39.949 total time=  11.4s\n",
      "[CV 5/5] END max_depth=10, max_features=sqrt, n_estimators=50;, score=-34.998 total time=  16.3s\n",
      "[CV 1/5] END max_depth=10, max_features=sqrt, n_estimators=100;, score=-71.597 total time=  25.4s\n",
      "[CV 2/5] END max_depth=10, max_features=sqrt, n_estimators=100;, score=-67.687 total time=  26.5s\n",
      "[CV 3/5] END max_depth=10, max_features=sqrt, n_estimators=100;, score=-43.811 total time=  27.6s\n",
      "[CV 4/5] END max_depth=10, max_features=sqrt, n_estimators=100;, score=-40.131 total time=  24.2s\n",
      "[CV 5/5] END max_depth=10, max_features=sqrt, n_estimators=100;, score=-32.045 total time=  22.9s\n",
      "[CV 1/5] END max_depth=10, max_features=log2, n_estimators=10;, score=-68.465 total time=   5.2s\n",
      "[CV 2/5] END max_depth=10, max_features=log2, n_estimators=10;, score=-66.177 total time=   4.3s\n",
      "[CV 3/5] END max_depth=10, max_features=log2, n_estimators=10;, score=-44.669 total time=   6.6s\n",
      "[CV 4/5] END max_depth=10, max_features=log2, n_estimators=10;, score=-38.321 total time=   4.4s\n",
      "[CV 5/5] END max_depth=10, max_features=log2, n_estimators=10;, score=-27.281 total time=   3.7s\n",
      "[CV 1/5] END max_depth=10, max_features=log2, n_estimators=50;, score=-71.365 total time=  15.5s\n",
      "[CV 2/5] END max_depth=10, max_features=log2, n_estimators=50;, score=-66.970 total time=  17.5s\n",
      "[CV 3/5] END max_depth=10, max_features=log2, n_estimators=50;, score=-42.571 total time=  17.2s\n",
      "[CV 4/5] END max_depth=10, max_features=log2, n_estimators=50;, score=-40.491 total time=  12.4s\n",
      "[CV 5/5] END max_depth=10, max_features=log2, n_estimators=50;, score=-34.026 total time=  14.6s\n",
      "[CV 1/5] END max_depth=10, max_features=log2, n_estimators=100;, score=-70.927 total time=  27.1s\n",
      "[CV 2/5] END max_depth=10, max_features=log2, n_estimators=100;, score=-69.642 total time=  24.1s\n",
      "[CV 3/5] END max_depth=10, max_features=log2, n_estimators=100;, score=-42.904 total time=  23.9s\n",
      "[CV 4/5] END max_depth=10, max_features=log2, n_estimators=100;, score=-38.345 total time=  23.1s\n",
      "[CV 5/5] END max_depth=10, max_features=log2, n_estimators=100;, score=-30.093 total time=  30.2s\n",
      "[CV 1/5] END max_depth=50, max_features=auto, n_estimators=10;, score=-72.958 total time=  35.8s\n",
      "[CV 2/5] END max_depth=50, max_features=auto, n_estimators=10;, score=-75.358 total time=  44.3s\n",
      "[CV 3/5] END max_depth=50, max_features=auto, n_estimators=10;, score=-56.854 total time=  47.0s\n",
      "[CV 4/5] END max_depth=50, max_features=auto, n_estimators=10;, score=-40.782 total time=  30.3s\n",
      "[CV 5/5] END max_depth=50, max_features=auto, n_estimators=10;, score=-44.319 total time=  25.5s\n",
      "[CV 1/5] END max_depth=50, max_features=auto, n_estimators=50;, score=-71.816 total time= 2.1min\n",
      "[CV 2/5] END max_depth=50, max_features=auto, n_estimators=50;, score=-78.384 total time= 2.1min\n",
      "[CV 3/5] END max_depth=50, max_features=auto, n_estimators=50;, score=-60.952 total time= 2.0min\n",
      "[CV 4/5] END max_depth=50, max_features=auto, n_estimators=50;, score=-39.958 total time= 1.9min\n",
      "[CV 5/5] END max_depth=50, max_features=auto, n_estimators=50;, score=-43.868 total time= 2.1min\n",
      "[CV 1/5] END max_depth=50, max_features=auto, n_estimators=100;, score=-72.616 total time= 3.7min\n",
      "[CV 2/5] END max_depth=50, max_features=auto, n_estimators=100;, score=-75.885 total time= 3.9min\n",
      "[CV 3/5] END max_depth=50, max_features=auto, n_estimators=100;, score=-59.117 total time= 4.0min\n",
      "[CV 4/5] END max_depth=50, max_features=auto, n_estimators=100;, score=-39.281 total time= 4.0min\n",
      "[CV 5/5] END max_depth=50, max_features=auto, n_estimators=100;, score=-41.668 total time= 4.0min\n",
      "[CV 1/5] END max_depth=50, max_features=sqrt, n_estimators=10;, score=-71.403 total time=   6.1s\n",
      "[CV 2/5] END max_depth=50, max_features=sqrt, n_estimators=10;, score=-64.019 total time=   6.2s\n",
      "[CV 3/5] END max_depth=50, max_features=sqrt, n_estimators=10;, score=-40.527 total time=   6.0s\n",
      "[CV 4/5] END max_depth=50, max_features=sqrt, n_estimators=10;, score=-34.321 total time=   5.7s\n",
      "[CV 5/5] END max_depth=50, max_features=sqrt, n_estimators=10;, score=-37.023 total time=   5.8s\n",
      "[CV 1/5] END max_depth=50, max_features=sqrt, n_estimators=50;, score=-70.629 total time=  27.2s\n",
      "[CV 2/5] END max_depth=50, max_features=sqrt, n_estimators=50;, score=-58.869 total time=  24.1s\n",
      "[CV 3/5] END max_depth=50, max_features=sqrt, n_estimators=50;, score=-40.531 total time=  25.6s\n",
      "[CV 4/5] END max_depth=50, max_features=sqrt, n_estimators=50;, score=-32.740 total time=  24.4s\n",
      "[CV 5/5] END max_depth=50, max_features=sqrt, n_estimators=50;, score=-30.463 total time=  25.1s\n",
      "[CV 1/5] END max_depth=50, max_features=sqrt, n_estimators=100;, score=-68.919 total time=  50.9s\n",
      "[CV 2/5] END max_depth=50, max_features=sqrt, n_estimators=100;, score=-61.743 total time=  51.0s\n",
      "[CV 3/5] END max_depth=50, max_features=sqrt, n_estimators=100;, score=-40.237 total time=  50.6s\n",
      "[CV 4/5] END max_depth=50, max_features=sqrt, n_estimators=100;, score=-36.252 total time=  50.4s\n",
      "[CV 5/5] END max_depth=50, max_features=sqrt, n_estimators=100;, score=-29.190 total time= 1.0min\n",
      "[CV 1/5] END max_depth=50, max_features=log2, n_estimators=10;, score=-70.104 total time=   5.7s\n",
      "[CV 2/5] END max_depth=50, max_features=log2, n_estimators=10;, score=-65.499 total time=   5.6s\n",
      "[CV 3/5] END max_depth=50, max_features=log2, n_estimators=10;, score=-42.206 total time=   6.1s\n",
      "[CV 4/5] END max_depth=50, max_features=log2, n_estimators=10;, score=-33.469 total time=   5.5s\n",
      "[CV 5/5] END max_depth=50, max_features=log2, n_estimators=10;, score=-29.790 total time=   5.9s\n",
      "[CV 1/5] END max_depth=50, max_features=log2, n_estimators=50;, score=-69.685 total time=  24.4s\n",
      "[CV 2/5] END max_depth=50, max_features=log2, n_estimators=50;, score=-60.559 total time=  24.5s\n",
      "[CV 3/5] END max_depth=50, max_features=log2, n_estimators=50;, score=-36.656 total time=  24.9s\n",
      "[CV 4/5] END max_depth=50, max_features=log2, n_estimators=50;, score=-33.708 total time=  27.1s\n"
     ]
    },
    {
     "name": "stdout",
     "output_type": "stream",
     "text": [
      "[CV 5/5] END max_depth=50, max_features=log2, n_estimators=50;, score=-33.114 total time=  27.9s\n",
      "[CV 1/5] END max_depth=50, max_features=log2, n_estimators=100;, score=-71.090 total time=  50.4s\n",
      "[CV 2/5] END max_depth=50, max_features=log2, n_estimators=100;, score=-60.643 total time=  50.3s\n",
      "[CV 3/5] END max_depth=50, max_features=log2, n_estimators=100;, score=-37.909 total time=  52.8s\n",
      "[CV 4/5] END max_depth=50, max_features=log2, n_estimators=100;, score=-34.366 total time=  50.8s\n",
      "[CV 5/5] END max_depth=50, max_features=log2, n_estimators=100;, score=-30.565 total time=  52.8s\n",
      "[CV 1/5] END max_depth=70, max_features=auto, n_estimators=10;, score=-71.406 total time=  22.3s\n",
      "[CV 2/5] END max_depth=70, max_features=auto, n_estimators=10;, score=-78.843 total time=  23.9s\n",
      "[CV 3/5] END max_depth=70, max_features=auto, n_estimators=10;, score=-60.051 total time=  24.0s\n",
      "[CV 4/5] END max_depth=70, max_features=auto, n_estimators=10;, score=-38.753 total time=  23.5s\n",
      "[CV 5/5] END max_depth=70, max_features=auto, n_estimators=10;, score=-43.766 total time=  23.3s\n",
      "[CV 1/5] END max_depth=70, max_features=auto, n_estimators=50;, score=-72.695 total time= 1.8min\n",
      "[CV 2/5] END max_depth=70, max_features=auto, n_estimators=50;, score=-74.860 total time= 2.0min\n",
      "[CV 3/5] END max_depth=70, max_features=auto, n_estimators=50;, score=-61.430 total time= 2.0min\n",
      "[CV 4/5] END max_depth=70, max_features=auto, n_estimators=50;, score=-39.629 total time= 2.0min\n",
      "[CV 5/5] END max_depth=70, max_features=auto, n_estimators=50;, score=-45.074 total time= 1.9min\n",
      "[CV 1/5] END max_depth=70, max_features=auto, n_estimators=100;, score=-71.471 total time= 3.8min\n",
      "[CV 2/5] END max_depth=70, max_features=auto, n_estimators=100;, score=-75.951 total time= 4.0min\n",
      "[CV 3/5] END max_depth=70, max_features=auto, n_estimators=100;, score=-59.748 total time= 3.9min\n",
      "[CV 4/5] END max_depth=70, max_features=auto, n_estimators=100;, score=-39.396 total time= 4.2min\n",
      "[CV 5/5] END max_depth=70, max_features=auto, n_estimators=100;, score=-43.880 total time= 3.9min\n",
      "[CV 1/5] END max_depth=70, max_features=sqrt, n_estimators=10;, score=-73.978 total time=   7.3s\n",
      "[CV 2/5] END max_depth=70, max_features=sqrt, n_estimators=10;, score=-56.012 total time=   6.5s\n",
      "[CV 3/5] END max_depth=70, max_features=sqrt, n_estimators=10;, score=-44.364 total time=   6.1s\n",
      "[CV 4/5] END max_depth=70, max_features=sqrt, n_estimators=10;, score=-40.741 total time=   5.9s\n",
      "[CV 5/5] END max_depth=70, max_features=sqrt, n_estimators=10;, score=-27.713 total time=   6.4s\n",
      "[CV 1/5] END max_depth=70, max_features=sqrt, n_estimators=50;, score=-70.746 total time=  24.9s\n",
      "[CV 2/5] END max_depth=70, max_features=sqrt, n_estimators=50;, score=-63.100 total time=  25.1s\n",
      "[CV 3/5] END max_depth=70, max_features=sqrt, n_estimators=50;, score=-38.612 total time=  24.7s\n",
      "[CV 4/5] END max_depth=70, max_features=sqrt, n_estimators=50;, score=-33.396 total time=  24.5s\n",
      "[CV 5/5] END max_depth=70, max_features=sqrt, n_estimators=50;, score=-31.403 total time=  25.8s\n",
      "[CV 1/5] END max_depth=70, max_features=sqrt, n_estimators=100;, score=-70.345 total time=  50.5s\n",
      "[CV 2/5] END max_depth=70, max_features=sqrt, n_estimators=100;, score=-58.500 total time=  50.9s\n",
      "[CV 3/5] END max_depth=70, max_features=sqrt, n_estimators=100;, score=-40.003 total time=  51.3s\n",
      "[CV 4/5] END max_depth=70, max_features=sqrt, n_estimators=100;, score=-33.039 total time=  53.2s\n",
      "[CV 5/5] END max_depth=70, max_features=sqrt, n_estimators=100;, score=-28.146 total time=  56.3s\n",
      "[CV 1/5] END max_depth=70, max_features=log2, n_estimators=10;, score=-70.013 total time=   6.2s\n",
      "[CV 2/5] END max_depth=70, max_features=log2, n_estimators=10;, score=-63.069 total time=   6.2s\n",
      "[CV 3/5] END max_depth=70, max_features=log2, n_estimators=10;, score=-42.044 total time=   6.3s\n",
      "[CV 4/5] END max_depth=70, max_features=log2, n_estimators=10;, score=-38.951 total time=   6.0s\n",
      "[CV 5/5] END max_depth=70, max_features=log2, n_estimators=10;, score=-32.060 total time=   6.4s\n",
      "[CV 1/5] END max_depth=70, max_features=log2, n_estimators=50;, score=-69.524 total time=  25.9s\n",
      "[CV 2/5] END max_depth=70, max_features=log2, n_estimators=50;, score=-60.139 total time=  24.6s\n",
      "[CV 3/5] END max_depth=70, max_features=log2, n_estimators=50;, score=-40.660 total time=  24.8s\n",
      "[CV 4/5] END max_depth=70, max_features=log2, n_estimators=50;, score=-35.891 total time=  24.5s\n",
      "[CV 5/5] END max_depth=70, max_features=log2, n_estimators=50;, score=-30.738 total time=  25.5s\n",
      "[CV 1/5] END max_depth=70, max_features=log2, n_estimators=100;, score=-70.673 total time=  50.3s\n",
      "[CV 2/5] END max_depth=70, max_features=log2, n_estimators=100;, score=-60.444 total time=  49.9s\n",
      "[CV 3/5] END max_depth=70, max_features=log2, n_estimators=100;, score=-39.150 total time=  50.7s\n",
      "[CV 4/5] END max_depth=70, max_features=log2, n_estimators=100;, score=-35.741 total time=  50.7s\n",
      "[CV 5/5] END max_depth=70, max_features=log2, n_estimators=100;, score=-30.165 total time=  52.7s\n",
      "BEST {'max_depth': 70, 'max_features': 'sqrt', 'n_estimators': 100} -46.006683936631255\n",
      "Best score:  -46.006683936631255\n"
     ]
    }
   ],
   "source": [
    "# Hyperparameter tuning for the Random Forest Regression model on the training data\n",
    "# parameters = {\"n_estimators\": [10,50,100],\n",
    "#               \"max_features\": [\"auto\",'sqrt','log2'],\n",
    "#               \"max_depth\": [10,50,70]}\n",
    "\n",
    "# best = cv_optimize(RFR, \n",
    "#                    parameters, \n",
    "#                    X_train, \n",
    "#                    Y_train, \n",
    "#                    n_folds=5, \n",
    "#                    score_func='neg_root_mean_squared_error', \n",
    "#                    verbose=3)\n"
   ]
  },
  {
   "cell_type": "markdown",
   "id": "cd1af57e",
   "metadata": {},
   "source": [
    "Based on our 135 iterations of GridSearchCV, the most optimal hyperparameters for the model is:\n",
    "- max_depth: 70\n",
    "- max_features: sqrt\n",
    "- n_estimators: 100"
   ]
  },
  {
   "cell_type": "code",
   "execution_count": 572,
   "id": "231ca180",
   "metadata": {},
   "outputs": [],
   "source": [
    "# Train and predict RandomForestRegressor on each borough test data\n",
    "borough_rfr_model = {bor: RandomForestRegressor(max_depth=70, max_features='sqrt', n_estimators=100) \\\n",
    "                 for bor in borough_id.keys()}\n",
    "borough_rfr_pred = {}\n",
    "\n",
    "for bor in borough_id.keys():\n",
    "    borough_rfr_model[bor].fit(borough_data[bor][0], borough_data[bor][1])\n",
    "    borough_rfr_pred[bor] = borough_rfr_model[bor].predict(borough_data[bor][2])\n",
    "    \n",
    "    # Make sure there are no negative prediction\n",
    "    borough_rfr_pred[bor][borough_rfr_pred[bor] < 0] = 0\n",
    "    "
   ]
  },
  {
   "cell_type": "code",
   "execution_count": 573,
   "id": "3670cb36",
   "metadata": {},
   "outputs": [
    {
     "name": "stdout",
     "output_type": "stream",
     "text": [
      "RMSE of the Random Forest Regression model:\n",
      "Manhattan: 20.45\n",
      "Queens: 16.07\n",
      "Brooklyn: 1.59\n",
      "Bronx: 0.58\n",
      "Staten Island: 1.46\n",
      "EWR: 16.96\n"
     ]
    }
   ],
   "source": [
    "# RMSE of the RandomForestRegressor predictions\n",
    "print(\"RMSE of the Random Forest Regression model:\")\n",
    "for bor in borough_id.keys():\n",
    "    print(f\"{bor}: {np.sqrt(mean_squared_error(borough_data[bor][3], borough_rfr_pred[bor])):.2f}\")\n",
    "    "
   ]
  },
  {
   "cell_type": "markdown",
   "id": "8f6debfe",
   "metadata": {},
   "source": [
    "## Plot the average of predicted daily demand between the two models in April 2022 for Manhattan"
   ]
  },
  {
   "cell_type": "code",
   "execution_count": 574,
   "id": "8657455b",
   "metadata": {},
   "outputs": [],
   "source": [
    "borough_test_data_idx = {bor:borough_data[bor][2].index for bor in borough_id.keys()}"
   ]
  },
  {
   "cell_type": "code",
   "execution_count": 579,
   "id": "926816d2",
   "metadata": {},
   "outputs": [],
   "source": [
    "# Combine the predicted data with the original test data\n",
    "manhat_pred = nyc_hourly_demand.iloc[borough_test_data_idx['Manhattan']][['count','pickup_hour','day_of_week']]\n",
    "manhat_pred = pd.concat([manhat_pred, \n",
    "                         borough_lr_pred['Manhattan']],\n",
    "                        axis=1).rename({0:'lr_pred_count'}, axis=1)\n",
    "\n",
    "manhat_pred = pd.concat([manhat_pred, \n",
    "                         pd.Series(borough_rfr_pred['Manhattan'], index=borough_test_data_idx['Manhattan'])],\n",
    "                        axis=1).rename({0:'rfr_pred_count'}, axis=1)\n"
   ]
  },
  {
   "cell_type": "code",
   "execution_count": 580,
   "id": "29b4fd55",
   "metadata": {},
   "outputs": [
    {
     "data": {
      "text/html": [
       "<div>\n",
       "<style scoped>\n",
       "    .dataframe tbody tr th:only-of-type {\n",
       "        vertical-align: middle;\n",
       "    }\n",
       "\n",
       "    .dataframe tbody tr th {\n",
       "        vertical-align: top;\n",
       "    }\n",
       "\n",
       "    .dataframe thead th {\n",
       "        text-align: right;\n",
       "    }\n",
       "</style>\n",
       "<table border=\"1\" class=\"dataframe\">\n",
       "  <thead>\n",
       "    <tr style=\"text-align: right;\">\n",
       "      <th></th>\n",
       "      <th>count</th>\n",
       "      <th>pickup_hour</th>\n",
       "      <th>day_of_week</th>\n",
       "      <th>lr_pred_count</th>\n",
       "      <th>rfr_pred_count</th>\n",
       "    </tr>\n",
       "  </thead>\n",
       "  <tbody>\n",
       "    <tr>\n",
       "      <th>4</th>\n",
       "      <td>170</td>\n",
       "      <td>9</td>\n",
       "      <td>5</td>\n",
       "      <td>136.024151</td>\n",
       "      <td>141.77</td>\n",
       "    </tr>\n",
       "    <tr>\n",
       "      <th>5</th>\n",
       "      <td>127</td>\n",
       "      <td>9</td>\n",
       "      <td>1</td>\n",
       "      <td>123.973827</td>\n",
       "      <td>114.64</td>\n",
       "    </tr>\n",
       "    <tr>\n",
       "      <th>6</th>\n",
       "      <td>157</td>\n",
       "      <td>18</td>\n",
       "      <td>2</td>\n",
       "      <td>170.034351</td>\n",
       "      <td>147.29</td>\n",
       "    </tr>\n",
       "    <tr>\n",
       "      <th>7</th>\n",
       "      <td>24</td>\n",
       "      <td>4</td>\n",
       "      <td>4</td>\n",
       "      <td>70.784206</td>\n",
       "      <td>42.39</td>\n",
       "    </tr>\n",
       "    <tr>\n",
       "      <th>8</th>\n",
       "      <td>144</td>\n",
       "      <td>7</td>\n",
       "      <td>4</td>\n",
       "      <td>114.466004</td>\n",
       "      <td>135.77</td>\n",
       "    </tr>\n",
       "    <tr>\n",
       "      <th>...</th>\n",
       "      <td>...</td>\n",
       "      <td>...</td>\n",
       "      <td>...</td>\n",
       "      <td>...</td>\n",
       "      <td>...</td>\n",
       "    </tr>\n",
       "    <tr>\n",
       "      <th>439968</th>\n",
       "      <td>1</td>\n",
       "      <td>12</td>\n",
       "      <td>5</td>\n",
       "      <td>16.354555</td>\n",
       "      <td>1.01</td>\n",
       "    </tr>\n",
       "    <tr>\n",
       "      <th>439976</th>\n",
       "      <td>1</td>\n",
       "      <td>12</td>\n",
       "      <td>3</td>\n",
       "      <td>10.783615</td>\n",
       "      <td>1.02</td>\n",
       "    </tr>\n",
       "    <tr>\n",
       "      <th>439983</th>\n",
       "      <td>1</td>\n",
       "      <td>12</td>\n",
       "      <td>6</td>\n",
       "      <td>17.936819</td>\n",
       "      <td>1.03</td>\n",
       "    </tr>\n",
       "    <tr>\n",
       "      <th>439986</th>\n",
       "      <td>1</td>\n",
       "      <td>4</td>\n",
       "      <td>1</td>\n",
       "      <td>0.000000</td>\n",
       "      <td>1.97</td>\n",
       "    </tr>\n",
       "    <tr>\n",
       "      <th>439994</th>\n",
       "      <td>1</td>\n",
       "      <td>19</td>\n",
       "      <td>4</td>\n",
       "      <td>22.422192</td>\n",
       "      <td>2.42</td>\n",
       "    </tr>\n",
       "  </tbody>\n",
       "</table>\n",
       "<p>41244 rows × 5 columns</p>\n",
       "</div>"
      ],
      "text/plain": [
       "        count  pickup_hour  day_of_week  lr_pred_count  rfr_pred_count\n",
       "4         170            9            5     136.024151          141.77\n",
       "5         127            9            1     123.973827          114.64\n",
       "6         157           18            2     170.034351          147.29\n",
       "7          24            4            4      70.784206           42.39\n",
       "8         144            7            4     114.466004          135.77\n",
       "...       ...          ...          ...            ...             ...\n",
       "439968      1           12            5      16.354555            1.01\n",
       "439976      1           12            3      10.783615            1.02\n",
       "439983      1           12            6      17.936819            1.03\n",
       "439986      1            4            1       0.000000            1.97\n",
       "439994      1           19            4      22.422192            2.42\n",
       "\n",
       "[41244 rows x 5 columns]"
      ]
     },
     "execution_count": 580,
     "metadata": {},
     "output_type": "execute_result"
    }
   ],
   "source": [
    "manhat_pred"
   ]
  },
  {
   "cell_type": "code",
   "execution_count": 584,
   "id": "1abda650",
   "metadata": {},
   "outputs": [],
   "source": [
    "manhat_pred_1 = (manhat_pred.groupby('pickup_hour')\n",
    "                          .agg({'count':'sum',\n",
    "                                'lr_pred_count':'sum',\n",
    "                                'rfr_pred_count':'sum'})\n",
    "                          .reset_index())\n",
    "\n",
    "# manhat_pred_1[['count', 'lr_pred_count', 'rfr_pred_count']] = manhat_pred_1[['count', 'lr_pred_count', 'rfr_pred_count']] / 30\n"
   ]
  },
  {
   "cell_type": "code",
   "execution_count": 585,
   "id": "63b8c050",
   "metadata": {},
   "outputs": [
    {
     "data": {
      "image/png": "[encoded data removed]",
      "text/plain": [
       "<Figure size 576x360 with 1 Axes>"
      ]
     },
     "metadata": {},
     "output_type": "display_data"
    }
   ],
   "source": [
    "sns.set(style='whitegrid', palette='pastel', color_codes=True)\n",
    "fig, ax = plt.subplots(1, figsize=(8,5))\n",
    "\n",
    "sns.lineplot(x='pickup_hour', y='count', data=manhat_pred_1, color='blue')\n",
    "sns.lineplot(x='pickup_hour', y='lr_pred_count', data=manhat_pred_1, color='red')\n",
    "sns.lineplot(x='pickup_hour', y='rfr_pred_count', data=manhat_pred_1, color='green')\n",
    "\n",
    "plt.xlabel('Hour of the day in 24H format', fontsize=14)\n",
    "plt.ylabel('Number of pick-ups', fontsize=14)\n",
    "plt.legend(['Actual Count','LR Predicted Count','RFR Predicted Count'], fontsize=14)\n",
    "plt.title('Predicted Vs Actual Demand for Taxi by Hour in Manhattan for April 2022', fontsize=14)\n",
    "plt.savefig('../plots/predicted_trend.png', dpi=300, bbox_inches='tight')"
   ]
  }
 ],
 "metadata": {
  "kernelspec": {
   "display_name": "Python 3",
   "language": "python",
   "name": "python3"
  },
  "language_info": {
   "codemirror_mode": {
    "name": "ipython",
    "version": 3
   },
   "file_extension": ".py",
   "mimetype": "text/x-python",
   "name": "python",
   "nbconvert_exporter": "python",
   "pygments_lexer": "ipython3",
   "version": "3.7.4"
  }
 },
 "nbformat": 4,
 "nbformat_minor": 5
}
