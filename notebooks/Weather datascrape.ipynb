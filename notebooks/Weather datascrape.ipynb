{
 "cells": [
  {
   "cell_type": "markdown",
   "id": "3d440c10",
   "metadata": {},
   "source": [
    "# NOAA Weather Data Scrape\n",
    "\n",
    "In this section, we will retrieve and query the weather data in the NYC through NOAA (National Oceanic and Atmospheric Administration). \n",
    "\n",
    "2021 Hourly Data Collected at Central Park NY : [NY CENTRAL PARK 2021 WEATHER DATA](https://www.ncei.noaa.gov/data/global-hourly/access/2021/72505394728.csv)\n",
    "\n",
    "2022 Hourly Data Collected at Central Park NY : [NY CENTRAL PARK 2021 WEATHER DATA](https://www.ncei.noaa.gov/data/global-hourly/access/2022/72505394728.csv)\n",
    "\n",
    "\n",
    "### Aim: \n",
    "- Join this data to the hourly pickup data to predict future hourly taxi ride demand.\n",
    "\n",
    "### Data dictionary:\n",
    "- Can be retrieved from this link: [FEDERAL CLIMATE COMPLEX DATA DOCUMENTATION FOR INTEGRATED SURFACE DATA](https://www.ncei.noaa.gov/data/global-hourly/doc/isd-format-document.pdf) "
   ]
  },
  {
   "cell_type": "code",
   "execution_count": 243,
   "id": "7e88df93",
   "metadata": {},
   "outputs": [],
   "source": [
    "import requests\n",
    "import pandas as pd\n",
    "import json\n",
    "import numpy as np\n",
    "import datetime as dt\n",
    "\n",
    "# TOKEN = 'prFURygHhcjchMdwFdWXiQwJyTzpWoDf'\n",
    "# STATION_ID = 'GHCND:USW00094728'"
   ]
  },
  {
   "cell_type": "code",
   "execution_count": 223,
   "id": "8df85c22",
   "metadata": {},
   "outputs": [
    {
     "name": "stderr",
     "output_type": "stream",
     "text": [
      "/opt/anaconda3/lib/python3.7/site-packages/IPython/core/interactiveshell.py:3441: DtypeWarning: Columns (42,43,44,49,90) have mixed types.Specify dtype option on import or set low_memory=False.\n",
      "  exec(code_obj, self.user_global_ns, self.user_ns)\n"
     ]
    }
   ],
   "source": [
    "df2021 = pd.read_csv(\"https://www.ncei.noaa.gov/data/global-hourly/access/2021/72505394728.csv\")\n",
    "df2022 = pd.read_csv(\"https://www.ncei.noaa.gov/data/global-hourly/access/2022/72505394728.csv\")"
   ]
  },
  {
   "cell_type": "code",
   "execution_count": 224,
   "id": "98c0cdb1",
   "metadata": {},
   "outputs": [],
   "source": [
    "df = pd.concat([df2021, df2022])"
   ]
  },
  {
   "cell_type": "code",
   "execution_count": 212,
   "id": "4341e30e",
   "metadata": {},
   "outputs": [
    {
     "data": {
      "text/plain": [
       "5088"
      ]
     },
     "execution_count": 212,
     "metadata": {},
     "output_type": "execute_result"
    }
   ],
   "source": [
    "(31+30+31+31+28+31+30)*24"
   ]
  },
  {
   "cell_type": "code",
   "execution_count": 251,
   "id": "588fb374",
   "metadata": {},
   "outputs": [],
   "source": [
    "def preprocess(hourly_data):\n",
    "    # Get the hourly weather report type\n",
    "    df = hourly_data.loc[hourly_data['REPORT_TYPE'] == 'FM-15', :]\n",
    "    \n",
    "    # Extract the unscaled values for each column\n",
    "    df.loc[:,'WND'] = df['WND'].apply(lambda x: int(x.split(',')[-2])/10).replace(999.9, np.nan)\n",
    "    df.loc[:,'TMP'] = df['TMP'].apply(lambda x: int(x.split(',')[0])/10).replace(999.9, np.nan)\n",
    "    df.loc[:,'DEW'] = df['DEW'].apply(lambda x: int(x.split(',')[0])/10).replace(999.9, np.nan)\n",
    "    df.loc[:,'SLP'] = df['SLP'].apply(lambda x: int(x.split(',')[0])/10).replace(9999.9, np.nan)\n",
    "    df.loc[:,'AA1'] = df['AA1'].apply(lambda x: np.nan if x != x else int(x.split(',')[1])/10).replace(999.9, np.nan)\n",
    "    \n",
    "    \n",
    "    # Impute missing data using data from an hour before\n",
    "    df.ffill(inplace=True)\n",
    "    \n",
    "    # Filter data to period between 2021-10 to 2022-04\n",
    "    processed_data = df.loc[(df['DATE'] <= '2022-05-01') & (df['DATE'] >= '2021-10-01'), :]\n",
    "    \n",
    "    # Extract date and hour from datetime column\n",
    "    processed_data.loc[:,'DATE'] = pd.to_datetime(processed_data['DATE'])\n",
    "    processed_data.loc[:,'HOUR'] = processed_data['DATE'].dt.hour\n",
    "    processed_data.loc[:,'DATE'] = processed_data['DATE'].dt.date\n",
    "    \n",
    "    return processed_data[['DATE',\n",
    "                           'HOUR',\n",
    "                           'TMP',\n",
    "                           'DEW',\n",
    "                           'SLP',\n",
    "                           'AA1']]\n",
    "    "
   ]
  },
  {
   "cell_type": "code",
   "execution_count": 252,
   "id": "b55eea62",
   "metadata": {},
   "outputs": [
    {
     "name": "stderr",
     "output_type": "stream",
     "text": [
      "/opt/anaconda3/lib/python3.7/site-packages/pandas/core/indexing.py:1773: SettingWithCopyWarning: \n",
      "A value is trying to be set on a copy of a slice from a DataFrame.\n",
      "Try using .loc[row_indexer,col_indexer] = value instead\n",
      "\n",
      "See the caveats in the documentation: https://pandas.pydata.org/pandas-docs/stable/user_guide/indexing.html#returning-a-view-versus-a-copy\n",
      "  self._setitem_single_column(ilocs[0], value, pi)\n",
      "/opt/anaconda3/lib/python3.7/site-packages/pandas/core/frame.py:5182: SettingWithCopyWarning: \n",
      "A value is trying to be set on a copy of a slice from a DataFrame\n",
      "\n",
      "See the caveats in the documentation: https://pandas.pydata.org/pandas-docs/stable/user_guide/indexing.html#returning-a-view-versus-a-copy\n",
      "  downcast=downcast,\n",
      "/opt/anaconda3/lib/python3.7/site-packages/pandas/core/indexing.py:1667: SettingWithCopyWarning: \n",
      "A value is trying to be set on a copy of a slice from a DataFrame.\n",
      "Try using .loc[row_indexer,col_indexer] = value instead\n",
      "\n",
      "See the caveats in the documentation: https://pandas.pydata.org/pandas-docs/stable/user_guide/indexing.html#returning-a-view-versus-a-copy\n",
      "  self.obj[key] = value\n"
     ]
    }
   ],
   "source": [
    "df2 = preprocess(df)"
   ]
  },
  {
   "cell_type": "code",
   "execution_count": 254,
   "id": "9b358476",
   "metadata": {},
   "outputs": [],
   "source": [
    "df2.to_csv(\"/Users/oliver/Downloads/weather.csv\")"
   ]
  },
  {
   "cell_type": "code",
   "execution_count": 253,
   "id": "f36e3e87",
   "metadata": {},
   "outputs": [
    {
     "data": {
      "text/html": [
       "<div>\n",
       "<style scoped>\n",
       "    .dataframe tbody tr th:only-of-type {\n",
       "        vertical-align: middle;\n",
       "    }\n",
       "\n",
       "    .dataframe tbody tr th {\n",
       "        vertical-align: top;\n",
       "    }\n",
       "\n",
       "    .dataframe thead th {\n",
       "        text-align: right;\n",
       "    }\n",
       "</style>\n",
       "<table border=\"1\" class=\"dataframe\">\n",
       "  <thead>\n",
       "    <tr style=\"text-align: right;\">\n",
       "      <th></th>\n",
       "      <th>DATE</th>\n",
       "      <th>HOUR</th>\n",
       "      <th>TMP</th>\n",
       "      <th>DEW</th>\n",
       "      <th>SLP</th>\n",
       "      <th>AA1</th>\n",
       "    </tr>\n",
       "  </thead>\n",
       "  <tbody>\n",
       "    <tr>\n",
       "      <th>8835</th>\n",
       "      <td>2021-10-01</td>\n",
       "      <td>0</td>\n",
       "      <td>16.1</td>\n",
       "      <td>6.7</td>\n",
       "      <td>1021.5</td>\n",
       "      <td>0.0</td>\n",
       "    </tr>\n",
       "    <tr>\n",
       "      <th>8836</th>\n",
       "      <td>2021-10-01</td>\n",
       "      <td>1</td>\n",
       "      <td>16.1</td>\n",
       "      <td>7.2</td>\n",
       "      <td>1022.1</td>\n",
       "      <td>0.0</td>\n",
       "    </tr>\n",
       "    <tr>\n",
       "      <th>8837</th>\n",
       "      <td>2021-10-01</td>\n",
       "      <td>2</td>\n",
       "      <td>14.4</td>\n",
       "      <td>7.8</td>\n",
       "      <td>1022.4</td>\n",
       "      <td>0.0</td>\n",
       "    </tr>\n",
       "    <tr>\n",
       "      <th>8838</th>\n",
       "      <td>2021-10-01</td>\n",
       "      <td>3</td>\n",
       "      <td>13.3</td>\n",
       "      <td>7.2</td>\n",
       "      <td>1022.3</td>\n",
       "      <td>0.0</td>\n",
       "    </tr>\n",
       "    <tr>\n",
       "      <th>8839</th>\n",
       "      <td>2021-10-01</td>\n",
       "      <td>4</td>\n",
       "      <td>12.8</td>\n",
       "      <td>7.8</td>\n",
       "      <td>1022.3</td>\n",
       "      <td>0.0</td>\n",
       "    </tr>\n",
       "    <tr>\n",
       "      <th>...</th>\n",
       "      <td>...</td>\n",
       "      <td>...</td>\n",
       "      <td>...</td>\n",
       "      <td>...</td>\n",
       "      <td>...</td>\n",
       "      <td>...</td>\n",
       "    </tr>\n",
       "    <tr>\n",
       "      <th>3871</th>\n",
       "      <td>2022-04-30</td>\n",
       "      <td>19</td>\n",
       "      <td>19.4</td>\n",
       "      <td>-8.3</td>\n",
       "      <td>1016.8</td>\n",
       "      <td>0.0</td>\n",
       "    </tr>\n",
       "    <tr>\n",
       "      <th>3872</th>\n",
       "      <td>2022-04-30</td>\n",
       "      <td>20</td>\n",
       "      <td>18.9</td>\n",
       "      <td>-9.4</td>\n",
       "      <td>1016.9</td>\n",
       "      <td>0.0</td>\n",
       "    </tr>\n",
       "    <tr>\n",
       "      <th>3873</th>\n",
       "      <td>2022-04-30</td>\n",
       "      <td>21</td>\n",
       "      <td>18.9</td>\n",
       "      <td>-8.3</td>\n",
       "      <td>1016.9</td>\n",
       "      <td>0.0</td>\n",
       "    </tr>\n",
       "    <tr>\n",
       "      <th>3874</th>\n",
       "      <td>2022-04-30</td>\n",
       "      <td>22</td>\n",
       "      <td>16.1</td>\n",
       "      <td>-3.9</td>\n",
       "      <td>1017.4</td>\n",
       "      <td>0.0</td>\n",
       "    </tr>\n",
       "    <tr>\n",
       "      <th>3875</th>\n",
       "      <td>2022-04-30</td>\n",
       "      <td>23</td>\n",
       "      <td>14.4</td>\n",
       "      <td>-6.1</td>\n",
       "      <td>1018.1</td>\n",
       "      <td>0.0</td>\n",
       "    </tr>\n",
       "  </tbody>\n",
       "</table>\n",
       "<p>5088 rows × 6 columns</p>\n",
       "</div>"
      ],
      "text/plain": [
       "            DATE  HOUR   TMP  DEW     SLP  AA1\n",
       "8835  2021-10-01     0  16.1  6.7  1021.5  0.0\n",
       "8836  2021-10-01     1  16.1  7.2  1022.1  0.0\n",
       "8837  2021-10-01     2  14.4  7.8  1022.4  0.0\n",
       "8838  2021-10-01     3  13.3  7.2  1022.3  0.0\n",
       "8839  2021-10-01     4  12.8  7.8  1022.3  0.0\n",
       "...          ...   ...   ...  ...     ...  ...\n",
       "3871  2022-04-30    19  19.4 -8.3  1016.8  0.0\n",
       "3872  2022-04-30    20  18.9 -9.4  1016.9  0.0\n",
       "3873  2022-04-30    21  18.9 -8.3  1016.9  0.0\n",
       "3874  2022-04-30    22  16.1 -3.9  1017.4  0.0\n",
       "3875  2022-04-30    23  14.4 -6.1  1018.1  0.0\n",
       "\n",
       "[5088 rows x 6 columns]"
      ]
     },
     "execution_count": 253,
     "metadata": {},
     "output_type": "execute_result"
    }
   ],
   "source": [
    "df2"
   ]
  },
  {
   "cell_type": "code",
   "execution_count": null,
   "id": "829c453f",
   "metadata": {},
   "outputs": [],
   "source": []
  }
 ],
 "metadata": {
  "kernelspec": {
   "display_name": "Python 3",
   "language": "python",
   "name": "python3"
  },
  "language_info": {
   "codemirror_mode": {
    "name": "ipython",
    "version": 3
   },
   "file_extension": ".py",
   "mimetype": "text/x-python",
   "name": "python",
   "nbconvert_exporter": "python",
   "pygments_lexer": "ipython3",
   "version": "3.7.4"
  }
 },
 "nbformat": 4,
 "nbformat_minor": 5
}
