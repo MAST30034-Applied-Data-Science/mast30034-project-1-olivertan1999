{
 "cells": [
  {
   "cell_type": "markdown",
   "id": "3d440c10",
   "metadata": {},
   "source": [
    "# NOAA Weather Data Scrape\n",
    "\n",
    "In this section, we will retrieve and query the weather data in the NYC through NOAA (National Oceanic and Atmospheric Administration). \n",
    "\n",
    "2021 Hourly Data Collected at Central Park NY : [NY CENTRAL PARK 2021 WEATHER DATA](https://www.ncei.noaa.gov/data/global-hourly/access/2021/72505394728.csv)\n",
    "\n",
    "2022 Hourly Data Collected at Central Park NY : [NY CENTRAL PARK 2021 WEATHER DATA](https://www.ncei.noaa.gov/data/global-hourly/access/2022/72505394728.csv)\n",
    "\n",
    "\n",
    "### Aim: \n",
    "- Join this data to the hourly pickup data to predict future hourly taxi ride demand.\n",
    "\n",
    "### Data dictionary:\n",
    "- Can be retrieved from this link: [FEDERAL CLIMATE COMPLEX DATA DOCUMENTATION FOR INTEGRATED SURFACE DATA](https://www.ncei.noaa.gov/data/global-hourly/doc/isd-format-document.pdf) "
   ]
  },
  {
   "cell_type": "code",
   "execution_count": 1,
   "id": "7e88df93",
   "metadata": {},
   "outputs": [],
   "source": [
    "import requests\n",
    "import pandas as pd\n",
    "import json\n",
    "import numpy as np\n",
    "import datetime as dt\n",
    "\n",
    "# TOKEN = 'prFURygHhcjchMdwFdWXiQwJyTzpWoDf'\n",
    "# STATION_ID = 'GHCND:USW00094728'"
   ]
  },
  {
   "cell_type": "code",
   "execution_count": 2,
   "id": "8df85c22",
   "metadata": {},
   "outputs": [
    {
     "name": "stderr",
     "output_type": "stream",
     "text": [
      "/opt/anaconda3/lib/python3.7/site-packages/IPython/core/interactiveshell.py:3441: DtypeWarning: Columns (42,43,44,49,90) have mixed types.Specify dtype option on import or set low_memory=False.\n",
      "  exec(code_obj, self.user_global_ns, self.user_ns)\n"
     ]
    }
   ],
   "source": [
    "df2021 = pd.read_csv(\"https://www.ncei.noaa.gov/data/global-hourly/access/2021/72505394728.csv\")\n",
    "df2022 = pd.read_csv(\"https://www.ncei.noaa.gov/data/global-hourly/access/2022/72505394728.csv\")"
   ]
  },
  {
   "cell_type": "code",
   "execution_count": 3,
   "id": "98c0cdb1",
   "metadata": {},
   "outputs": [],
   "source": [
    "df = pd.concat([df2021, df2022])"
   ]
  },
  {
   "cell_type": "code",
   "execution_count": 4,
   "id": "40110dbd",
   "metadata": {},
   "outputs": [
    {
     "name": "stdout",
     "output_type": "stream",
     "text": [
      "Number of instances: 18973\n",
      "Number of features : 94\n"
     ]
    }
   ],
   "source": [
    "print(f\"Number of instances: {len(df)}\")\n",
    "print(f\"Number of features : {len(df.columns)}\")"
   ]
  },
  {
   "cell_type": "code",
   "execution_count": 5,
   "id": "2a38d431",
   "metadata": {},
   "outputs": [],
   "source": [
    "# Narrow down to the required period\n",
    "df = df[(df['DATE'] >= '2021-10-01') & (df['DATE'] < '2022-05-01')]"
   ]
  },
  {
   "cell_type": "code",
   "execution_count": 6,
   "id": "8b821d77",
   "metadata": {},
   "outputs": [
    {
     "name": "stdout",
     "output_type": "stream",
     "text": [
      "Number of instances within required period: 6691\n"
     ]
    }
   ],
   "source": [
    "print(f\"Number of instances within required period: {len(df)}\")"
   ]
  },
  {
   "cell_type": "code",
   "execution_count": 7,
   "id": "588fb374",
   "metadata": {},
   "outputs": [],
   "source": [
    "def preprocess(hourly_data):\n",
    "    '''Extract, clean and unscale the data according to the data \n",
    "    dictionary provided.'''\n",
    "    \n",
    "    # Get the hourly weather report type\n",
    "    df = hourly_data.loc[hourly_data['REPORT_TYPE'] == 'FM-15', :]\n",
    "    \n",
    "    # Extract the unscaled values for each column\n",
    "    df.loc[:,'WND'] = (df['WND'].apply(lambda x: int(x.split(',')[-2])/10)\n",
    "                                .replace(999.9, np.nan))\n",
    "    \n",
    "    df.loc[:,'TMP'] = (df['TMP'].apply(lambda x: int(x.split(',')[0])/10)\n",
    "                                .replace(999.9, np.nan))\n",
    "    \n",
    "    df.loc[:,'DEW'] = (df['DEW'].apply(lambda x: int(x.split(',')[0])/10)\n",
    "                                .replace(999.9, np.nan))\n",
    "    \n",
    "    df.loc[:,'SLP'] = (df['SLP'].apply(lambda x: int(x.split(',')[0])/10)\n",
    "                                .replace(9999.9, np.nan))\n",
    "    \n",
    "    # Impute missing data using data from an hour before\n",
    "    df.ffill(inplace=True)\n",
    "    \n",
    "    # Filter data to period between 2021-10 to 2022-04\n",
    "    processed_data = df.loc[(df['DATE'] <= '2022-05-01') & (df['DATE'] >= '2021-10-01'), :]\n",
    "    \n",
    "    # Extract date and hour from datetime column\n",
    "    processed_data.loc[:,'date'] = pd.to_datetime(processed_data['DATE'])\n",
    "    processed_data.loc[:,'hour'] = processed_data['date'].dt.hour\n",
    "    processed_data.loc[:,'date'] = processed_data['date'].dt.date\n",
    "    \n",
    "    processed_data.rename({'WND':'wind_speed',\n",
    "                           'TMP':'temperature',\n",
    "                           'DEW':'dew_point',\n",
    "                           'SLP':'atmospheric_pressure'})\n",
    "    \n",
    "    \n",
    "    return processed_data[['date',\n",
    "                           'hour',\n",
    "                           'TMP',\n",
    "                           'DEW',\n",
    "                           'SLP',\n",
    "                           'AA1']]\n",
    "    "
   ]
  },
  {
   "cell_type": "code",
   "execution_count": 8,
   "id": "4341e30e",
   "metadata": {},
   "outputs": [
    {
     "name": "stdout",
     "output_type": "stream",
     "text": [
      "Number of instances we require: 5088\n"
     ]
    }
   ],
   "source": [
    "print(f\"Number of instances we require: {(31+30+31+31+28+31+30)*24}\")"
   ]
  },
  {
   "cell_type": "code",
   "execution_count": 9,
   "id": "b55eea62",
   "metadata": {},
   "outputs": [
    {
     "name": "stderr",
     "output_type": "stream",
     "text": [
      "/opt/anaconda3/lib/python3.7/site-packages/pandas/core/indexing.py:1773: SettingWithCopyWarning: \n",
      "A value is trying to be set on a copy of a slice from a DataFrame.\n",
      "Try using .loc[row_indexer,col_indexer] = value instead\n",
      "\n",
      "See the caveats in the documentation: https://pandas.pydata.org/pandas-docs/stable/user_guide/indexing.html#returning-a-view-versus-a-copy\n",
      "  self._setitem_single_column(ilocs[0], value, pi)\n",
      "/opt/anaconda3/lib/python3.7/site-packages/pandas/core/frame.py:5182: SettingWithCopyWarning: \n",
      "A value is trying to be set on a copy of a slice from a DataFrame\n",
      "\n",
      "See the caveats in the documentation: https://pandas.pydata.org/pandas-docs/stable/user_guide/indexing.html#returning-a-view-versus-a-copy\n",
      "  downcast=downcast,\n"
     ]
    }
   ],
   "source": [
    "df2 = preprocess(df)"
   ]
  },
  {
   "cell_type": "code",
   "execution_count": 10,
   "id": "45141391",
   "metadata": {},
   "outputs": [
    {
     "name": "stdout",
     "output_type": "stream",
     "text": [
      "Number of instances after preprocessing: 5088\n"
     ]
    }
   ],
   "source": [
    "print(f\"Number of instances after preprocessing: {len(df2)}\")"
   ]
  },
  {
   "cell_type": "code",
   "execution_count": 11,
   "id": "9b358476",
   "metadata": {},
   "outputs": [],
   "source": [
    "# Store the data in the curated folder\n",
    "df2.to_csv(\"../data/curated/hourly_weather.csv\")"
   ]
  },
  {
   "cell_type": "code",
   "execution_count": null,
   "id": "829c453f",
   "metadata": {},
   "outputs": [],
   "source": []
  }
 ],
 "metadata": {
  "kernelspec": {
   "display_name": "Python 3",
   "language": "python",
   "name": "python3"
  },
  "language_info": {
   "codemirror_mode": {
    "name": "ipython",
    "version": 3
   },
   "file_extension": ".py",
   "mimetype": "text/x-python",
   "name": "python",
   "nbconvert_exporter": "python",
   "pygments_lexer": "ipython3",
   "version": "3.7.4"
  }
 },
 "nbformat": 4,
 "nbformat_minor": 5
}
